{
 "cells": [
  {
   "cell_type": "markdown",
   "id": "careful-recognition",
   "metadata": {
    "tags": []
   },
   "source": [
    "#  Лабораторна робота \"Обробка табличних даних засобами бібліотеки Pandas\"\n",
    "\n",
    "__Метою__ лабораторної роботи є вивчення технологій первинного аналізу даних в середовищі бібліотеки Pandas, а саме здобуття навичок:\n",
    "- працювати з даними використовуючи мову Python та пакет Pandas\n",
    "- робити передобробку даних\n",
    "- знаходити прості закономірності у даних"
   ]
  },
  {
   "cell_type": "code",
   "execution_count": 1,
   "id": "previous-wrong",
   "metadata": {},
   "outputs": [],
   "source": [
    "# підключити бібліотеки Pandas та NumPy\n",
    "import pandas as pd\n",
    "import numpy as np"
   ]
  },
  {
   "cell_type": "markdown",
   "id": "found-proposition",
   "metadata": {},
   "source": [
    "## 1. Створення  DataFrame\n",
    "\n",
    "__DataFrame__ — це двовимірна неоднорідна таблична структура даних із змінюваними розмірами з іменованими вісями (рядками та стовпцями)"
   ]
  },
  {
   "cell_type": "markdown",
   "id": "martial-bristol",
   "metadata": {
    "jp-MarkdownHeadingCollapsed": true,
    "tags": []
   },
   "source": [
    "### ПРИКЛАДИ"
   ]
  },
  {
   "cell_type": "code",
   "execution_count": 2,
   "id": "interesting-mixer",
   "metadata": {},
   "outputs": [
    {
     "name": "stdout",
     "output_type": "stream",
     "text": [
      "        0\n",
      "0    Петя\n",
      "1    Вася\n",
      "2  Микола\n",
      "<class 'pandas.core.frame.DataFrame'>\n"
     ]
    }
   ],
   "source": [
    "# створити DataFrame з 1 колонкою з python-списка\n",
    "df = pd.DataFrame([\"Петя\", \"Вася\", \"Микола\"])\n",
    "print(df)\n",
    "print(type(df))"
   ]
  },
  {
   "cell_type": "code",
   "execution_count": 3,
   "id": "exact-organic",
   "metadata": {},
   "outputs": [
    {
     "name": "stdout",
     "output_type": "stream",
     "text": [
      "[[446 328 471 233 335 393 480 251 209 411]\n",
      " [201 490 227 198 199 473 392 339 127 355]\n",
      " [123 461 169 460 413 443 350 393 267 294]\n",
      " [300 103 285 109 481 409 145 420 480 483]\n",
      " [425 267 315 224 325 478 109 203 136 485]\n",
      " [464 223 409 369 427 295 279 163 433 121]\n",
      " [387 338 170 163 476 451 201 288 133 341]\n",
      " [355 286 291 367 197 390 288 113 441 482]\n",
      " [314 132 211 481 386 383 428 382 265 166]\n",
      " [181 276 274 362 168 187 314 246 153 159]]\n"
     ]
    },
    {
     "data": {
      "text/html": [
       "<div>\n",
       "<style scoped>\n",
       "    .dataframe tbody tr th:only-of-type {\n",
       "        vertical-align: middle;\n",
       "    }\n",
       "\n",
       "    .dataframe tbody tr th {\n",
       "        vertical-align: top;\n",
       "    }\n",
       "\n",
       "    .dataframe thead th {\n",
       "        text-align: right;\n",
       "    }\n",
       "</style>\n",
       "<table border=\"1\" class=\"dataframe\">\n",
       "  <thead>\n",
       "    <tr style=\"text-align: right;\">\n",
       "      <th></th>\n",
       "      <th>0</th>\n",
       "      <th>1</th>\n",
       "      <th>2</th>\n",
       "      <th>3</th>\n",
       "      <th>4</th>\n",
       "      <th>5</th>\n",
       "      <th>6</th>\n",
       "      <th>7</th>\n",
       "      <th>8</th>\n",
       "      <th>9</th>\n",
       "    </tr>\n",
       "  </thead>\n",
       "  <tbody>\n",
       "    <tr>\n",
       "      <th>0</th>\n",
       "      <td>446</td>\n",
       "      <td>328</td>\n",
       "      <td>471</td>\n",
       "      <td>233</td>\n",
       "      <td>335</td>\n",
       "      <td>393</td>\n",
       "      <td>480</td>\n",
       "      <td>251</td>\n",
       "      <td>209</td>\n",
       "      <td>411</td>\n",
       "    </tr>\n",
       "    <tr>\n",
       "      <th>1</th>\n",
       "      <td>201</td>\n",
       "      <td>490</td>\n",
       "      <td>227</td>\n",
       "      <td>198</td>\n",
       "      <td>199</td>\n",
       "      <td>473</td>\n",
       "      <td>392</td>\n",
       "      <td>339</td>\n",
       "      <td>127</td>\n",
       "      <td>355</td>\n",
       "    </tr>\n",
       "    <tr>\n",
       "      <th>2</th>\n",
       "      <td>123</td>\n",
       "      <td>461</td>\n",
       "      <td>169</td>\n",
       "      <td>460</td>\n",
       "      <td>413</td>\n",
       "      <td>443</td>\n",
       "      <td>350</td>\n",
       "      <td>393</td>\n",
       "      <td>267</td>\n",
       "      <td>294</td>\n",
       "    </tr>\n",
       "    <tr>\n",
       "      <th>3</th>\n",
       "      <td>300</td>\n",
       "      <td>103</td>\n",
       "      <td>285</td>\n",
       "      <td>109</td>\n",
       "      <td>481</td>\n",
       "      <td>409</td>\n",
       "      <td>145</td>\n",
       "      <td>420</td>\n",
       "      <td>480</td>\n",
       "      <td>483</td>\n",
       "    </tr>\n",
       "    <tr>\n",
       "      <th>4</th>\n",
       "      <td>425</td>\n",
       "      <td>267</td>\n",
       "      <td>315</td>\n",
       "      <td>224</td>\n",
       "      <td>325</td>\n",
       "      <td>478</td>\n",
       "      <td>109</td>\n",
       "      <td>203</td>\n",
       "      <td>136</td>\n",
       "      <td>485</td>\n",
       "    </tr>\n",
       "    <tr>\n",
       "      <th>5</th>\n",
       "      <td>464</td>\n",
       "      <td>223</td>\n",
       "      <td>409</td>\n",
       "      <td>369</td>\n",
       "      <td>427</td>\n",
       "      <td>295</td>\n",
       "      <td>279</td>\n",
       "      <td>163</td>\n",
       "      <td>433</td>\n",
       "      <td>121</td>\n",
       "    </tr>\n",
       "    <tr>\n",
       "      <th>6</th>\n",
       "      <td>387</td>\n",
       "      <td>338</td>\n",
       "      <td>170</td>\n",
       "      <td>163</td>\n",
       "      <td>476</td>\n",
       "      <td>451</td>\n",
       "      <td>201</td>\n",
       "      <td>288</td>\n",
       "      <td>133</td>\n",
       "      <td>341</td>\n",
       "    </tr>\n",
       "    <tr>\n",
       "      <th>7</th>\n",
       "      <td>355</td>\n",
       "      <td>286</td>\n",
       "      <td>291</td>\n",
       "      <td>367</td>\n",
       "      <td>197</td>\n",
       "      <td>390</td>\n",
       "      <td>288</td>\n",
       "      <td>113</td>\n",
       "      <td>441</td>\n",
       "      <td>482</td>\n",
       "    </tr>\n",
       "    <tr>\n",
       "      <th>8</th>\n",
       "      <td>314</td>\n",
       "      <td>132</td>\n",
       "      <td>211</td>\n",
       "      <td>481</td>\n",
       "      <td>386</td>\n",
       "      <td>383</td>\n",
       "      <td>428</td>\n",
       "      <td>382</td>\n",
       "      <td>265</td>\n",
       "      <td>166</td>\n",
       "    </tr>\n",
       "    <tr>\n",
       "      <th>9</th>\n",
       "      <td>181</td>\n",
       "      <td>276</td>\n",
       "      <td>274</td>\n",
       "      <td>362</td>\n",
       "      <td>168</td>\n",
       "      <td>187</td>\n",
       "      <td>314</td>\n",
       "      <td>246</td>\n",
       "      <td>153</td>\n",
       "      <td>159</td>\n",
       "    </tr>\n",
       "  </tbody>\n",
       "</table>\n",
       "</div>"
      ],
      "text/plain": [
       "     0    1    2    3    4    5    6    7    8    9\n",
       "0  446  328  471  233  335  393  480  251  209  411\n",
       "1  201  490  227  198  199  473  392  339  127  355\n",
       "2  123  461  169  460  413  443  350  393  267  294\n",
       "3  300  103  285  109  481  409  145  420  480  483\n",
       "4  425  267  315  224  325  478  109  203  136  485\n",
       "5  464  223  409  369  427  295  279  163  433  121\n",
       "6  387  338  170  163  476  451  201  288  133  341\n",
       "7  355  286  291  367  197  390  288  113  441  482\n",
       "8  314  132  211  481  386  383  428  382  265  166\n",
       "9  181  276  274  362  168  187  314  246  153  159"
      ]
     },
     "execution_count": 3,
     "metadata": {},
     "output_type": "execute_result"
    }
   ],
   "source": [
    "# створити DataFrame з np-матриці розміром 10х10 випадкових чисел\n",
    "mat = np.random.randint(100, 500, (10,10), dtype=\"int16\")\n",
    "print(mat)\n",
    "df = pd.DataFrame(mat)\n",
    "df"
   ]
  },
  {
   "cell_type": "code",
   "execution_count": 4,
   "id": "satellite-pension",
   "metadata": {},
   "outputs": [
    {
     "name": "stdout",
     "output_type": "stream",
     "text": [
      "[[0.25879557 0.5003563  0.47312058]\n",
      " [0.25663042 0.98843121 0.53056018]\n",
      " [0.26600892 0.03286774 0.94614072]\n",
      " [0.17932929 0.99276098 0.64938451]\n",
      " [0.81101321 0.04435313 0.95220827]]\n"
     ]
    },
    {
     "data": {
      "text/html": [
       "<div>\n",
       "<style scoped>\n",
       "    .dataframe tbody tr th:only-of-type {\n",
       "        vertical-align: middle;\n",
       "    }\n",
       "\n",
       "    .dataframe tbody tr th {\n",
       "        vertical-align: top;\n",
       "    }\n",
       "\n",
       "    .dataframe thead th {\n",
       "        text-align: right;\n",
       "    }\n",
       "</style>\n",
       "<table border=\"1\" class=\"dataframe\">\n",
       "  <thead>\n",
       "    <tr style=\"text-align: right;\">\n",
       "      <th></th>\n",
       "      <th>колонка 1</th>\n",
       "      <th>колонка 2</th>\n",
       "      <th>колонка 3</th>\n",
       "    </tr>\n",
       "  </thead>\n",
       "  <tbody>\n",
       "    <tr>\n",
       "      <th>0</th>\n",
       "      <td>0.258796</td>\n",
       "      <td>0.500356</td>\n",
       "      <td>0.473121</td>\n",
       "    </tr>\n",
       "    <tr>\n",
       "      <th>1</th>\n",
       "      <td>0.256630</td>\n",
       "      <td>0.988431</td>\n",
       "      <td>0.530560</td>\n",
       "    </tr>\n",
       "    <tr>\n",
       "      <th>2</th>\n",
       "      <td>0.266009</td>\n",
       "      <td>0.032868</td>\n",
       "      <td>0.946141</td>\n",
       "    </tr>\n",
       "    <tr>\n",
       "      <th>3</th>\n",
       "      <td>0.179329</td>\n",
       "      <td>0.992761</td>\n",
       "      <td>0.649385</td>\n",
       "    </tr>\n",
       "    <tr>\n",
       "      <th>4</th>\n",
       "      <td>0.811013</td>\n",
       "      <td>0.044353</td>\n",
       "      <td>0.952208</td>\n",
       "    </tr>\n",
       "  </tbody>\n",
       "</table>\n",
       "</div>"
      ],
      "text/plain": [
       "   колонка 1  колонка 2  колонка 3\n",
       "0   0.258796   0.500356   0.473121\n",
       "1   0.256630   0.988431   0.530560\n",
       "2   0.266009   0.032868   0.946141\n",
       "3   0.179329   0.992761   0.649385\n",
       "4   0.811013   0.044353   0.952208"
      ]
     },
     "execution_count": 4,
     "metadata": {},
     "output_type": "execute_result"
    }
   ],
   "source": [
    "# створити DataFrame з 2-мірного випадкового масиву з іменованими колонками\n",
    "arr = np.random.random((5,3))\n",
    "print(arr)\n",
    "df = pd.DataFrame(arr, columns=[\"колонка 1\", \"колонка 2\", \"колонка 3\"])\n",
    "df"
   ]
  },
  {
   "cell_type": "code",
   "execution_count": 7,
   "id": "interpreted-swedish",
   "metadata": {},
   "outputs": [],
   "source": [
    "# створити DataFrame з python-словника в якому ключ - це ім'я, а значення - \n",
    "# це масив з 5-ти випадкових чисел з модифікованими індексами рядків\n",
    "d = {\n",
    "    \"Петя\": np.random.random(5),\n",
    "    \"Вася\" : np.random.random(5),\n",
    "    \"Микола\":np.random.random(5)\n",
    "    }\n",
    "a = pd.DataFrame(d, index=[10,20,30,40,50])"
   ]
  },
  {
   "cell_type": "code",
   "execution_count": 8,
   "id": "b3ffe86f",
   "metadata": {},
   "outputs": [
    {
     "data": {
      "text/html": [
       "<div>\n",
       "<style scoped>\n",
       "    .dataframe tbody tr th:only-of-type {\n",
       "        vertical-align: middle;\n",
       "    }\n",
       "\n",
       "    .dataframe tbody tr th {\n",
       "        vertical-align: top;\n",
       "    }\n",
       "\n",
       "    .dataframe thead th {\n",
       "        text-align: right;\n",
       "    }\n",
       "</style>\n",
       "<table border=\"1\" class=\"dataframe\">\n",
       "  <thead>\n",
       "    <tr style=\"text-align: right;\">\n",
       "      <th></th>\n",
       "      <th>Петя</th>\n",
       "      <th>Вася</th>\n",
       "      <th>Микола</th>\n",
       "    </tr>\n",
       "  </thead>\n",
       "  <tbody>\n",
       "    <tr>\n",
       "      <th>10</th>\n",
       "      <td>0.651590</td>\n",
       "      <td>0.036716</td>\n",
       "      <td>0.160833</td>\n",
       "    </tr>\n",
       "    <tr>\n",
       "      <th>20</th>\n",
       "      <td>0.710731</td>\n",
       "      <td>0.901996</td>\n",
       "      <td>0.924355</td>\n",
       "    </tr>\n",
       "    <tr>\n",
       "      <th>30</th>\n",
       "      <td>0.300163</td>\n",
       "      <td>0.203871</td>\n",
       "      <td>0.620553</td>\n",
       "    </tr>\n",
       "    <tr>\n",
       "      <th>40</th>\n",
       "      <td>0.634457</td>\n",
       "      <td>0.638031</td>\n",
       "      <td>0.680398</td>\n",
       "    </tr>\n",
       "    <tr>\n",
       "      <th>50</th>\n",
       "      <td>0.409306</td>\n",
       "      <td>0.424282</td>\n",
       "      <td>0.699433</td>\n",
       "    </tr>\n",
       "  </tbody>\n",
       "</table>\n",
       "</div>"
      ],
      "text/plain": [
       "        Петя      Вася    Микола\n",
       "10  0.651590  0.036716  0.160833\n",
       "20  0.710731  0.901996  0.924355\n",
       "30  0.300163  0.203871  0.620553\n",
       "40  0.634457  0.638031  0.680398\n",
       "50  0.409306  0.424282  0.699433"
      ]
     },
     "execution_count": 8,
     "metadata": {},
     "output_type": "execute_result"
    }
   ],
   "source": [
    "a"
   ]
  },
  {
   "cell_type": "code",
   "execution_count": 9,
   "id": "fallen-amber",
   "metadata": {},
   "outputs": [
    {
     "name": "stdout",
     "output_type": "stream",
     "text": [
      "[('Вася', 2001), ('Петя', 2000), ('Микола', 2003)]\n"
     ]
    },
    {
     "data": {
      "text/html": [
       "<div>\n",
       "<style scoped>\n",
       "    .dataframe tbody tr th:only-of-type {\n",
       "        vertical-align: middle;\n",
       "    }\n",
       "\n",
       "    .dataframe tbody tr th {\n",
       "        vertical-align: top;\n",
       "    }\n",
       "\n",
       "    .dataframe thead th {\n",
       "        text-align: right;\n",
       "    }\n",
       "</style>\n",
       "<table border=\"1\" class=\"dataframe\">\n",
       "  <thead>\n",
       "    <tr style=\"text-align: right;\">\n",
       "      <th></th>\n",
       "      <th>Ім'я</th>\n",
       "      <th>Рік народження</th>\n",
       "    </tr>\n",
       "  </thead>\n",
       "  <tbody>\n",
       "    <tr>\n",
       "      <th>0</th>\n",
       "      <td>Вася</td>\n",
       "      <td>2001</td>\n",
       "    </tr>\n",
       "    <tr>\n",
       "      <th>1</th>\n",
       "      <td>Петя</td>\n",
       "      <td>2000</td>\n",
       "    </tr>\n",
       "    <tr>\n",
       "      <th>2</th>\n",
       "      <td>Микола</td>\n",
       "      <td>2003</td>\n",
       "    </tr>\n",
       "  </tbody>\n",
       "</table>\n",
       "</div>"
      ],
      "text/plain": [
       "     Ім'я  Рік народження\n",
       "0    Вася            2001\n",
       "1    Петя            2000\n",
       "2  Микола            2003"
      ]
     },
     "execution_count": 9,
     "metadata": {},
     "output_type": "execute_result"
    }
   ],
   "source": [
    "# створити dataFrame з ітеруємого об'єкта\n",
    "name = [\"Вася\", \"Петя\", \"Микола\"]\n",
    "rik = [2001, 2000, 2003]\n",
    "name_rik = list(zip(name, rik))\n",
    "print(name_rik)\n",
    "df = pd.DataFrame(name_rik, columns=[\"Ім'я\", \"Рік народження\"])\n",
    "df"
   ]
  },
  {
   "cell_type": "code",
   "execution_count": 10,
   "id": "c3768833",
   "metadata": {},
   "outputs": [],
   "source": [
    "pd.read_csv?"
   ]
  },
  {
   "cell_type": "code",
   "execution_count": 12,
   "id": "amazing-million",
   "metadata": {
    "scrolled": true
   },
   "outputs": [
    {
     "ename": "ParserError",
     "evalue": "Error tokenizing data. C error: Expected 2 fields in line 2, saw 3\n",
     "output_type": "error",
     "traceback": [
      "\u001b[0;31m---------------------------------------------------------------------------\u001b[0m",
      "\u001b[0;31mParserError\u001b[0m                               Traceback (most recent call last)",
      "Cell \u001b[0;32mIn[12], line 4\u001b[0m\n\u001b[1;32m      1\u001b[0m \u001b[38;5;66;03m# !echo \"Вася, 2001\\nПетя, 2000,\\nМикола,2003\\n\" > file.csv\u001b[39;00m\n\u001b[1;32m      2\u001b[0m \u001b[38;5;66;03m# !cat file.csv\u001b[39;00m\n\u001b[1;32m      3\u001b[0m \u001b[38;5;66;03m# створити DataFrame з csv-файлу\u001b[39;00m\n\u001b[0;32m----> 4\u001b[0m df \u001b[38;5;241m=\u001b[39m \u001b[43mpd\u001b[49m\u001b[38;5;241;43m.\u001b[39;49m\u001b[43mread_csv\u001b[49m\u001b[43m(\u001b[49m\u001b[38;5;124;43m\"\u001b[39;49m\u001b[38;5;124;43mfile.csv\u001b[39;49m\u001b[38;5;124;43m\"\u001b[39;49m\u001b[43m,\u001b[49m\u001b[43m \u001b[49m\u001b[43mnames\u001b[49m\u001b[38;5;241;43m=\u001b[39;49m\u001b[43m[\u001b[49m\u001b[38;5;124;43m\"\u001b[39;49m\u001b[38;5;124;43mІм\u001b[39;49m\u001b[38;5;124;43m'\u001b[39;49m\u001b[38;5;124;43mя\u001b[39;49m\u001b[38;5;124;43m\"\u001b[39;49m\u001b[43m,\u001b[49m\u001b[43m \u001b[49m\u001b[38;5;124;43m\"\u001b[39;49m\u001b[38;5;124;43mРік народження\u001b[39;49m\u001b[38;5;124;43m\"\u001b[39;49m\u001b[43m]\u001b[49m\u001b[43m)\u001b[49m\n\u001b[1;32m      5\u001b[0m df\n",
      "File \u001b[0;32m~/opt/miniconda3/envs/py311/lib/python3.11/site-packages/pandas/util/_decorators.py:211\u001b[0m, in \u001b[0;36mdeprecate_kwarg.<locals>._deprecate_kwarg.<locals>.wrapper\u001b[0;34m(*args, **kwargs)\u001b[0m\n\u001b[1;32m    209\u001b[0m     \u001b[38;5;28;01melse\u001b[39;00m:\n\u001b[1;32m    210\u001b[0m         kwargs[new_arg_name] \u001b[38;5;241m=\u001b[39m new_arg_value\n\u001b[0;32m--> 211\u001b[0m \u001b[38;5;28;01mreturn\u001b[39;00m \u001b[43mfunc\u001b[49m\u001b[43m(\u001b[49m\u001b[38;5;241;43m*\u001b[39;49m\u001b[43margs\u001b[49m\u001b[43m,\u001b[49m\u001b[43m \u001b[49m\u001b[38;5;241;43m*\u001b[39;49m\u001b[38;5;241;43m*\u001b[39;49m\u001b[43mkwargs\u001b[49m\u001b[43m)\u001b[49m\n",
      "File \u001b[0;32m~/opt/miniconda3/envs/py311/lib/python3.11/site-packages/pandas/util/_decorators.py:331\u001b[0m, in \u001b[0;36mdeprecate_nonkeyword_arguments.<locals>.decorate.<locals>.wrapper\u001b[0;34m(*args, **kwargs)\u001b[0m\n\u001b[1;32m    325\u001b[0m \u001b[38;5;28;01mif\u001b[39;00m \u001b[38;5;28mlen\u001b[39m(args) \u001b[38;5;241m>\u001b[39m num_allow_args:\n\u001b[1;32m    326\u001b[0m     warnings\u001b[38;5;241m.\u001b[39mwarn(\n\u001b[1;32m    327\u001b[0m         msg\u001b[38;5;241m.\u001b[39mformat(arguments\u001b[38;5;241m=\u001b[39m_format_argument_list(allow_args)),\n\u001b[1;32m    328\u001b[0m         \u001b[38;5;167;01mFutureWarning\u001b[39;00m,\n\u001b[1;32m    329\u001b[0m         stacklevel\u001b[38;5;241m=\u001b[39mfind_stack_level(),\n\u001b[1;32m    330\u001b[0m     )\n\u001b[0;32m--> 331\u001b[0m \u001b[38;5;28;01mreturn\u001b[39;00m \u001b[43mfunc\u001b[49m\u001b[43m(\u001b[49m\u001b[38;5;241;43m*\u001b[39;49m\u001b[43margs\u001b[49m\u001b[43m,\u001b[49m\u001b[43m \u001b[49m\u001b[38;5;241;43m*\u001b[39;49m\u001b[38;5;241;43m*\u001b[39;49m\u001b[43mkwargs\u001b[49m\u001b[43m)\u001b[49m\n",
      "File \u001b[0;32m~/opt/miniconda3/envs/py311/lib/python3.11/site-packages/pandas/io/parsers/readers.py:950\u001b[0m, in \u001b[0;36mread_csv\u001b[0;34m(filepath_or_buffer, sep, delimiter, header, names, index_col, usecols, squeeze, prefix, mangle_dupe_cols, dtype, engine, converters, true_values, false_values, skipinitialspace, skiprows, skipfooter, nrows, na_values, keep_default_na, na_filter, verbose, skip_blank_lines, parse_dates, infer_datetime_format, keep_date_col, date_parser, dayfirst, cache_dates, iterator, chunksize, compression, thousands, decimal, lineterminator, quotechar, quoting, doublequote, escapechar, comment, encoding, encoding_errors, dialect, error_bad_lines, warn_bad_lines, on_bad_lines, delim_whitespace, low_memory, memory_map, float_precision, storage_options)\u001b[0m\n\u001b[1;32m    935\u001b[0m kwds_defaults \u001b[38;5;241m=\u001b[39m _refine_defaults_read(\n\u001b[1;32m    936\u001b[0m     dialect,\n\u001b[1;32m    937\u001b[0m     delimiter,\n\u001b[0;32m   (...)\u001b[0m\n\u001b[1;32m    946\u001b[0m     defaults\u001b[38;5;241m=\u001b[39m{\u001b[38;5;124m\"\u001b[39m\u001b[38;5;124mdelimiter\u001b[39m\u001b[38;5;124m\"\u001b[39m: \u001b[38;5;124m\"\u001b[39m\u001b[38;5;124m,\u001b[39m\u001b[38;5;124m\"\u001b[39m},\n\u001b[1;32m    947\u001b[0m )\n\u001b[1;32m    948\u001b[0m kwds\u001b[38;5;241m.\u001b[39mupdate(kwds_defaults)\n\u001b[0;32m--> 950\u001b[0m \u001b[38;5;28;01mreturn\u001b[39;00m \u001b[43m_read\u001b[49m\u001b[43m(\u001b[49m\u001b[43mfilepath_or_buffer\u001b[49m\u001b[43m,\u001b[49m\u001b[43m \u001b[49m\u001b[43mkwds\u001b[49m\u001b[43m)\u001b[49m\n",
      "File \u001b[0;32m~/opt/miniconda3/envs/py311/lib/python3.11/site-packages/pandas/io/parsers/readers.py:611\u001b[0m, in \u001b[0;36m_read\u001b[0;34m(filepath_or_buffer, kwds)\u001b[0m\n\u001b[1;32m    608\u001b[0m     \u001b[38;5;28;01mreturn\u001b[39;00m parser\n\u001b[1;32m    610\u001b[0m \u001b[38;5;28;01mwith\u001b[39;00m parser:\n\u001b[0;32m--> 611\u001b[0m     \u001b[38;5;28;01mreturn\u001b[39;00m \u001b[43mparser\u001b[49m\u001b[38;5;241;43m.\u001b[39;49m\u001b[43mread\u001b[49m\u001b[43m(\u001b[49m\u001b[43mnrows\u001b[49m\u001b[43m)\u001b[49m\n",
      "File \u001b[0;32m~/opt/miniconda3/envs/py311/lib/python3.11/site-packages/pandas/io/parsers/readers.py:1778\u001b[0m, in \u001b[0;36mTextFileReader.read\u001b[0;34m(self, nrows)\u001b[0m\n\u001b[1;32m   1771\u001b[0m nrows \u001b[38;5;241m=\u001b[39m validate_integer(\u001b[38;5;124m\"\u001b[39m\u001b[38;5;124mnrows\u001b[39m\u001b[38;5;124m\"\u001b[39m, nrows)\n\u001b[1;32m   1772\u001b[0m \u001b[38;5;28;01mtry\u001b[39;00m:\n\u001b[1;32m   1773\u001b[0m     \u001b[38;5;66;03m# error: \"ParserBase\" has no attribute \"read\"\u001b[39;00m\n\u001b[1;32m   1774\u001b[0m     (\n\u001b[1;32m   1775\u001b[0m         index,\n\u001b[1;32m   1776\u001b[0m         columns,\n\u001b[1;32m   1777\u001b[0m         col_dict,\n\u001b[0;32m-> 1778\u001b[0m     ) \u001b[38;5;241m=\u001b[39m \u001b[38;5;28;43mself\u001b[39;49m\u001b[38;5;241;43m.\u001b[39;49m\u001b[43m_engine\u001b[49m\u001b[38;5;241;43m.\u001b[39;49m\u001b[43mread\u001b[49m\u001b[43m(\u001b[49m\u001b[43m  \u001b[49m\u001b[38;5;66;43;03m# type: ignore[attr-defined]\u001b[39;49;00m\n\u001b[1;32m   1779\u001b[0m \u001b[43m        \u001b[49m\u001b[43mnrows\u001b[49m\n\u001b[1;32m   1780\u001b[0m \u001b[43m    \u001b[49m\u001b[43m)\u001b[49m\n\u001b[1;32m   1781\u001b[0m \u001b[38;5;28;01mexcept\u001b[39;00m \u001b[38;5;167;01mException\u001b[39;00m:\n\u001b[1;32m   1782\u001b[0m     \u001b[38;5;28mself\u001b[39m\u001b[38;5;241m.\u001b[39mclose()\n",
      "File \u001b[0;32m~/opt/miniconda3/envs/py311/lib/python3.11/site-packages/pandas/io/parsers/c_parser_wrapper.py:230\u001b[0m, in \u001b[0;36mCParserWrapper.read\u001b[0;34m(self, nrows)\u001b[0m\n\u001b[1;32m    228\u001b[0m \u001b[38;5;28;01mtry\u001b[39;00m:\n\u001b[1;32m    229\u001b[0m     \u001b[38;5;28;01mif\u001b[39;00m \u001b[38;5;28mself\u001b[39m\u001b[38;5;241m.\u001b[39mlow_memory:\n\u001b[0;32m--> 230\u001b[0m         chunks \u001b[38;5;241m=\u001b[39m \u001b[38;5;28;43mself\u001b[39;49m\u001b[38;5;241;43m.\u001b[39;49m\u001b[43m_reader\u001b[49m\u001b[38;5;241;43m.\u001b[39;49m\u001b[43mread_low_memory\u001b[49m\u001b[43m(\u001b[49m\u001b[43mnrows\u001b[49m\u001b[43m)\u001b[49m\n\u001b[1;32m    231\u001b[0m         \u001b[38;5;66;03m# destructive to chunks\u001b[39;00m\n\u001b[1;32m    232\u001b[0m         data \u001b[38;5;241m=\u001b[39m _concatenate_chunks(chunks)\n",
      "File \u001b[0;32m~/opt/miniconda3/envs/py311/lib/python3.11/site-packages/pandas/_libs/parsers.pyx:808\u001b[0m, in \u001b[0;36mpandas._libs.parsers.TextReader.read_low_memory\u001b[0;34m()\u001b[0m\n",
      "File \u001b[0;32m~/opt/miniconda3/envs/py311/lib/python3.11/site-packages/pandas/_libs/parsers.pyx:866\u001b[0m, in \u001b[0;36mpandas._libs.parsers.TextReader._read_rows\u001b[0;34m()\u001b[0m\n",
      "File \u001b[0;32m~/opt/miniconda3/envs/py311/lib/python3.11/site-packages/pandas/_libs/parsers.pyx:852\u001b[0m, in \u001b[0;36mpandas._libs.parsers.TextReader._tokenize_rows\u001b[0;34m()\u001b[0m\n",
      "File \u001b[0;32m~/opt/miniconda3/envs/py311/lib/python3.11/site-packages/pandas/_libs/parsers.pyx:1973\u001b[0m, in \u001b[0;36mpandas._libs.parsers.raise_parser_error\u001b[0;34m()\u001b[0m\n",
      "\u001b[0;31mParserError\u001b[0m: Error tokenizing data. C error: Expected 2 fields in line 2, saw 3\n"
     ]
    }
   ],
   "source": [
    "# !echo \"Вася, 2001\\nПетя, 2000,\\nМикола,2003\\n\" > file.csv\n",
    "# !cat file.csv\n",
    "# створити DataFrame з csv-файлу\n",
    "df = pd.read_csv(\"file.csv\", names=[\"Ім'я\", \"Рік народження\"])\n",
    "df"
   ]
  },
  {
   "cell_type": "markdown",
   "id": "periodic-curve",
   "metadata": {
    "jp-MarkdownHeadingCollapsed": true,
    "tags": []
   },
   "source": [
    "### ЗАВДАННЯ"
   ]
  },
  {
   "cell_type": "code",
   "execution_count": null,
   "id": "mounted-corps",
   "metadata": {},
   "outputs": [],
   "source": [
    "# ЗАВДАННЯ 1.1: створити датафрейм з списку 10-ти простих чисел\n",
    "df1_1 = ..."
   ]
  },
  {
   "cell_type": "code",
   "execution_count": null,
   "id": "ignored-richards",
   "metadata": {},
   "outputs": [],
   "source": [
    "# ЗАВДАННЯ 1.2: створити датафрейм з матриці 5х6 випадкових чисел з плаваючою точкою\n",
    "df1_2 = ..."
   ]
  },
  {
   "cell_type": "markdown",
   "id": "pharmaceutical-slovakia",
   "metadata": {},
   "source": [
    "ЗАВДАННЯ 1.3: створити  DataFrame наступного вигляду:\n",
    "\n",
    "|ім'я | прізвище| рік народження | телефон\n",
    "|:-----|:------|:-----:|:-------:\n",
    "|Петро| Петров| 2000| 222-222-2222\n",
    "|Іван| Іванов| 2002| 333-333-3333\n",
    "|Степан| Степанов| 2001| 444-444-4444"
   ]
  },
  {
   "cell_type": "code",
   "execution_count": null,
   "id": "patent-chair",
   "metadata": {},
   "outputs": [],
   "source": [
    "df1_3 = ..."
   ]
  },
  {
   "cell_type": "code",
   "execution_count": null,
   "id": "sixth-engine",
   "metadata": {},
   "outputs": [],
   "source": [
    "# ЗАВДАННЯ 1.4: створити датафрейм з 20 перших рядків excel-файлу, \n",
    "# який розташовано за адресою: \n",
    "# https://file-examples-com.github.io/uploads/2017/02/file_example_XLS_100.xls\n",
    "df1_4 = ..."
   ]
  },
  {
   "cell_type": "markdown",
   "id": "european-kernel",
   "metadata": {
    "heading_collapsed": true
   },
   "source": [
    "## 2. Інспектування DataFrame\n",
    "\n",
    "__Інспектування__ - це процедури вивчення внутрішньої структури даних та вмісту датафрейма"
   ]
  },
  {
   "cell_type": "markdown",
   "id": "a2c138e5",
   "metadata": {
    "hidden": true,
    "jp-MarkdownHeadingCollapsed": true,
    "tags": []
   },
   "source": [
    "### ПРИКЛАДИ"
   ]
  },
  {
   "cell_type": "code",
   "execution_count": null,
   "id": "severe-mississippi",
   "metadata": {
    "code_folding": [],
    "hidden": true
   },
   "outputs": [],
   "source": [
    "# завантаження датасету `titanic` (https://ansmirnov.ru/kaggle-titanic-dataset/)\n",
    "url = \"https://raw.githubusercontent.com/datasciencedojo/datasets/master/titanic.csv\"\n",
    "titanic = pd.read_csv(url)"
   ]
  },
  {
   "cell_type": "code",
   "execution_count": null,
   "id": "dimensional-ordinance",
   "metadata": {
    "hidden": true,
    "scrolled": true
   },
   "outputs": [],
   "source": [
    "# отримати загальну інформацію про датасет\n",
    "titanic.info()"
   ]
  },
  {
   "cell_type": "code",
   "execution_count": null,
   "id": "checked-score",
   "metadata": {
    "hidden": true
   },
   "outputs": [],
   "source": [
    "# вивести перші 3 рядкі\n",
    "titanic.head(3)"
   ]
  },
  {
   "cell_type": "code",
   "execution_count": null,
   "id": "otherwise-jefferson",
   "metadata": {
    "hidden": true
   },
   "outputs": [],
   "source": [
    "# вивести останні 2 рядки\n",
    "titanic.tail(2)"
   ]
  },
  {
   "cell_type": "code",
   "execution_count": null,
   "id": "corporate-frame",
   "metadata": {
    "hidden": true
   },
   "outputs": [],
   "source": [
    "# отримати імена колонок\n",
    "col_names = titanic.columns\n",
    "print(col_names)"
   ]
  },
  {
   "cell_type": "code",
   "execution_count": null,
   "id": "innovative-refrigerator",
   "metadata": {
    "hidden": true
   },
   "outputs": [],
   "source": [
    "# вивести загальну статистику датасету - числові поля\n",
    "titanic.describe()"
   ]
  },
  {
   "cell_type": "code",
   "execution_count": null,
   "id": "thrown-mixture",
   "metadata": {
    "hidden": true
   },
   "outputs": [],
   "source": [
    "# вивести статитсику текстового поля `Sex` \n",
    "titanic['Sex'].describe()"
   ]
  },
  {
   "cell_type": "code",
   "execution_count": null,
   "id": "exempt-restoration",
   "metadata": {
    "hidden": true
   },
   "outputs": [],
   "source": [
    "# перевірити тип колонки датасету\n",
    "type(titanic['Age'])"
   ]
  },
  {
   "cell_type": "code",
   "execution_count": null,
   "id": "catholic-number",
   "metadata": {
    "hidden": true
   },
   "outputs": [],
   "source": [
    "# вивести перші 10 рядків деяких колонок\n",
    "cols = [\"Name\", \"Age\", \"Sex\"]\n",
    "titanic[cols].head(10)"
   ]
  },
  {
   "cell_type": "code",
   "execution_count": null,
   "id": "automotive-hammer",
   "metadata": {
    "hidden": true
   },
   "outputs": [],
   "source": [
    "# вивести рядки з 100 по 110\n",
    "titanic[100:110]"
   ]
  },
  {
   "cell_type": "code",
   "execution_count": null,
   "id": "professional-bernard",
   "metadata": {
    "hidden": true
   },
   "outputs": [],
   "source": [
    "# вивести тільки чоловіків\n",
    "cond = titanic[\"Sex\"] == \"male\"\n",
    "titanic[cond]"
   ]
  },
  {
   "cell_type": "code",
   "execution_count": null,
   "id": "recorded-animal",
   "metadata": {
    "hidden": true
   },
   "outputs": [],
   "source": [
    "# вивести рядки в яких пропущено значення поля `Age`\n",
    "cond = titanic['Age'].isna()\n",
    "titanic[cond].head(3)"
   ]
  },
  {
   "cell_type": "code",
   "execution_count": null,
   "id": "bbddbc6a",
   "metadata": {
    "hidden": true
   },
   "outputs": [],
   "source": [
    "# вивести рядки з пасажирами вік яких з 30 до 50 років\n",
    "cond = titanic['Age'].between(30, 50)\n",
    "titanic[cond]"
   ]
  },
  {
   "cell_type": "markdown",
   "id": "be7b0e62",
   "metadata": {
    "hidden": true,
    "jp-MarkdownHeadingCollapsed": true,
    "tags": []
   },
   "source": [
    "### ЗАВДАННЯ"
   ]
  },
  {
   "cell_type": "code",
   "execution_count": null,
   "id": "d369c6d2",
   "metadata": {
    "hidden": true
   },
   "outputs": [],
   "source": [
    "# ЗАВДАННЯ 2.1: вивести характеристики датасету `titanic`\n",
    "..."
   ]
  },
  {
   "cell_type": "code",
   "execution_count": null,
   "id": "530c3274",
   "metadata": {
    "hidden": true
   },
   "outputs": [],
   "source": [
    "# ЗАВДАННЯ 2.2: вивести статистичні параметри полів `Age` та `Fare` датасету `titanic`\n",
    "..."
   ]
  },
  {
   "cell_type": "code",
   "execution_count": null,
   "id": "53e70e13",
   "metadata": {
    "hidden": true
   },
   "outputs": [],
   "source": [
    "# ЗАВДАННЯ 2.3: пірахувати кількість записів в яких заповнені усі показчики\n",
    "..."
   ]
  },
  {
   "cell_type": "code",
   "execution_count": null,
   "id": "d0eb61fe",
   "metadata": {
    "hidden": true
   },
   "outputs": [],
   "source": [
    "# ЗАВДАННЯ 2.4: пірахувати кількість виживших (survived=1) пасажирів жиночої статі (Sex=`female`)\n",
    "..."
   ]
  },
  {
   "cell_type": "code",
   "execution_count": null,
   "id": "46f68e26",
   "metadata": {
    "hidden": true
   },
   "outputs": [],
   "source": []
  },
  {
   "cell_type": "markdown",
   "id": "63d7216b",
   "metadata": {
    "heading_collapsed": true
   },
   "source": [
    "## 3. Перетворення датафреймів\n",
    "\n",
    "__Перетворення__ - це сукупність операцій та методів для зміни структури та вмісту датафрейму та окремих його елементів"
   ]
  },
  {
   "cell_type": "markdown",
   "id": "b3e6674c",
   "metadata": {
    "hidden": true,
    "jp-MarkdownHeadingCollapsed": true,
    "tags": []
   },
   "source": [
    "### ПРИКЛАДИ"
   ]
  },
  {
   "cell_type": "code",
   "execution_count": null,
   "id": "408c6855",
   "metadata": {
    "code_folding": [],
    "hidden": true
   },
   "outputs": [],
   "source": [
    "d = {\n",
    "    \"ім'я\"    : [\"Петя\", \"Вася\", \"Галя\"],\n",
    "    \"вік\"     : [22, 200 , 21],\n",
    "    \"рейтинг\" : [\"10\", \"3\", \"2\"]\n",
    "}\n",
    "\n",
    "df = pd.DataFrame(d)\n",
    "df"
   ]
  },
  {
   "cell_type": "code",
   "execution_count": null,
   "id": "a2e95984",
   "metadata": {
    "hidden": true
   },
   "outputs": [],
   "source": [
    "# типи колонок та елементів в колонці\n",
    "print(df[\"рейтинг\"].dtype)\n",
    "print(type(df['рейтинг']))"
   ]
  },
  {
   "cell_type": "code",
   "execution_count": null,
   "id": "60d606fc",
   "metadata": {
    "hidden": true
   },
   "outputs": [],
   "source": [
    "# Перетворити тип колонки (показчика) 'рейтинг' в ціле числове\n",
    "df['рейтинг'] = df['рейтинг'].astype(\"int8\")\n",
    "print(df[\"рейтинг\"].dtype)"
   ]
  },
  {
   "cell_type": "code",
   "execution_count": null,
   "id": "ee40f2a3",
   "metadata": {
    "hidden": true
   },
   "outputs": [],
   "source": [
    "# додати колонку \"адреса\"\n",
    "df[\"адреса\"] = [\"Київ\", \"Бровари\", \"Фастів\"]\n",
    "df"
   ]
  },
  {
   "cell_type": "code",
   "execution_count": null,
   "id": "5816731f",
   "metadata": {
    "hidden": true
   },
   "outputs": [],
   "source": [
    "#  збільшити значення \"рейтинг\" на 3\n",
    "df['рейтинг'] = df['рейтинг'] + 3\n",
    "df"
   ]
  },
  {
   "cell_type": "code",
   "execution_count": null,
   "id": "8cf3fc5e",
   "metadata": {
    "hidden": true
   },
   "outputs": [],
   "source": [
    "# виправити значення параметру 'вік' для імені 'Вася'\n",
    "df.loc[1, \"вік\"] = 20\n",
    "df"
   ]
  },
  {
   "cell_type": "code",
   "execution_count": null,
   "id": "872910d8",
   "metadata": {
    "hidden": true
   },
   "outputs": [],
   "source": [
    "# видалити колонку `вік'\n",
    "df.drop(columns='вік', inplace=True)\n",
    "df"
   ]
  },
  {
   "cell_type": "code",
   "execution_count": null,
   "id": "26687e7f",
   "metadata": {
    "hidden": true
   },
   "outputs": [],
   "source": [
    "# вивести 5 перших рядків датафрейму\n",
    "titanic.head(5)"
   ]
  },
  {
   "cell_type": "code",
   "execution_count": null,
   "id": "919c6dc5",
   "metadata": {
    "hidden": true
   },
   "outputs": [],
   "source": [
    "# вивести 3 випадкових рядки датафрейму\n",
    "titanic.sample(3)"
   ]
  },
  {
   "cell_type": "code",
   "execution_count": null,
   "id": "0adbd146",
   "metadata": {
    "hidden": true
   },
   "outputs": [],
   "source": [
    "# відсортувати dataframe `titanic` за віком пасажиров\n",
    "titanic.sort_values('Age')"
   ]
  },
  {
   "cell_type": "code",
   "execution_count": null,
   "id": "e27563a8",
   "metadata": {
    "hidden": true
   },
   "outputs": [],
   "source": [
    "# перейменувати значення в `Embarked` стовпчику:\n",
    "# С - Cherbourg\n",
    "# Q - Queenstown\n",
    "# S - Southampton\n",
    "titanic['Embarked'].replace({\"C\": \"Cherbourg\", \"Q\": \"Queenstown\", \"S\": \"Southampton\"},\n",
    "                           inplace=True)\n",
    "titanic"
   ]
  },
  {
   "cell_type": "code",
   "execution_count": null,
   "id": "b4f6b334",
   "metadata": {
    "hidden": true
   },
   "outputs": [],
   "source": [
    "# підрахувати кількість пасажирів 1-го класу (Pclass=1)\n",
    "cond = titanic['Pclass'] == 1\n",
    "kol_pass = titanic[cond]['PassengerId'].count()\n",
    "kol_pass"
   ]
  },
  {
   "cell_type": "code",
   "execution_count": null,
   "id": "565f0062",
   "metadata": {
    "hidden": true
   },
   "outputs": [],
   "source": [
    "# замінити відсутні номери кают на ''\n",
    "titanic.fillna({\"Cabin\": \"***\"}, inplace=True)\n",
    "titanic.head(3)"
   ]
  },
  {
   "cell_type": "code",
   "execution_count": null,
   "id": "e17482a6",
   "metadata": {
    "hidden": true
   },
   "outputs": [],
   "source": [
    "# видалити рядки в яких є відсутні значення \n",
    "titanic.dropna(axis=0, how='any', inplace=True)\n",
    "titanic.shape"
   ]
  },
  {
   "cell_type": "markdown",
   "id": "f9c8a288",
   "metadata": {
    "hidden": true,
    "jp-MarkdownHeadingCollapsed": true,
    "tags": []
   },
   "source": [
    "### ЗАВДАННЯ"
   ]
  },
  {
   "cell_type": "code",
   "execution_count": null,
   "id": "346419c3",
   "metadata": {
    "hidden": true
   },
   "outputs": [],
   "source": [
    "# ЗАВДАННЯ 3.1: створити датафрейм з словника d\n",
    "d = {\n",
    "    \"ім'я\"    : [\"Петя\", \"Вася\", \"Галя\"],\n",
    "    \"вік\"     : [22, 200 , 21],\n",
    "    \"рейтинг\" : [\"10\", \"3\", \"2\"]\n",
    "}\n",
    "df = ..."
   ]
  },
  {
   "cell_type": "code",
   "execution_count": null,
   "id": "968d2cdc",
   "metadata": {
    "hidden": true
   },
   "outputs": [],
   "source": [
    "# ЗАВДАННЯ 3.2: додати до `df` стовбчик з показчиком \n",
    "# `рік завершення школи` = [2018, 2020, 200]\n",
    "...\n",
    "print(df)"
   ]
  },
  {
   "cell_type": "code",
   "execution_count": null,
   "id": "5651ea12",
   "metadata": {
    "hidden": true
   },
   "outputs": [],
   "source": [
    "# ЗАВДАННЯ 3.3: виправити 'рік завершення школи' з 200 на 2020\n",
    "...\n",
    "print(df)"
   ]
  },
  {
   "cell_type": "code",
   "execution_count": null,
   "id": "c1191231",
   "metadata": {
    "hidden": true
   },
   "outputs": [],
   "source": [
    "# завантаження датасету `titanic` (https://ansmirnov.ru/kaggle-titanic-dataset/)\n",
    "url = \"https://raw.githubusercontent.com/datasciencedojo/datasets/master/titanic.csv\"\n",
    "titanic = pd.read_csv(url)"
   ]
  },
  {
   "cell_type": "code",
   "execution_count": null,
   "id": "a206f3c1",
   "metadata": {
    "hidden": true
   },
   "outputs": [],
   "source": [
    "# ЗАВДАННЯ 3.4: вивести з датасету `titanic` останні 10 записів \n",
    "..."
   ]
  },
  {
   "cell_type": "code",
   "execution_count": null,
   "id": "974e4300",
   "metadata": {
    "hidden": true
   },
   "outputs": [],
   "source": [
    "# ЗАВДАННЯ 3.5: вибрати з датасету `titanic` рядки з пасажирами чоловічої статі віком \n",
    "# від 20 до 30 років, які подорожували 2 класом\n",
    "..."
   ]
  },
  {
   "cell_type": "code",
   "execution_count": null,
   "id": "44126572",
   "metadata": {
    "hidden": true
   },
   "outputs": [],
   "source": [
    "# ЗАВДАННЯ 3.6: видалити з датасету `titanic` рядки з пасажирами у яких відсутня\n",
    "# вартість (fare) квітка\n",
    "df = ...\n",
    "df"
   ]
  },
  {
   "cell_type": "code",
   "execution_count": null,
   "id": "b1614e3e",
   "metadata": {
    "hidden": true
   },
   "outputs": [],
   "source": [
    "# ЗАВДАННЯ 3.7: підрахувати середню вартість квитка у каютах 1-го класу\n",
    "avg_price = ...\n",
    "print(avg_price)"
   ]
  },
  {
   "cell_type": "markdown",
   "id": "9ef297e7",
   "metadata": {
    "heading_collapsed": true
   },
   "source": [
    "## 4. Агрегація датафреймів\n",
    "\n",
    "__Агрегація__ - це функції отримання агрегованих даних шляхом групування об'єктів датафрейма "
   ]
  },
  {
   "cell_type": "markdown",
   "id": "cb9bf24b",
   "metadata": {
    "hidden": true,
    "jp-MarkdownHeadingCollapsed": true,
    "tags": []
   },
   "source": [
    "### ПРИКЛАДИ"
   ]
  },
  {
   "cell_type": "code",
   "execution_count": null,
   "id": "be63d27c",
   "metadata": {
    "hidden": true
   },
   "outputs": [],
   "source": [
    "titanic.head(3)"
   ]
  },
  {
   "cell_type": "code",
   "execution_count": null,
   "id": "6d24da8f",
   "metadata": {
    "hidden": true
   },
   "outputs": [],
   "source": [
    "# підрахувати середній вік пасажирів по класам кают\n",
    "group_by_class = titanic.groupby([\"Pclass\"])\n",
    "avg_age = group_by_class[\"Age\"].mean()\n",
    "print(avg_age)"
   ]
  },
  {
   "cell_type": "code",
   "execution_count": null,
   "id": "5ab45447",
   "metadata": {
    "hidden": true,
    "scrolled": true
   },
   "outputs": [],
   "source": [
    "# підрахувати кількість чоловіків та жінок по класам кают\n",
    "man_woman_count = titanic.groupby([\"Pclass\", \"Sex\"])[\"Sex\"].count()\n",
    "man_woman_count"
   ]
  },
  {
   "cell_type": "code",
   "execution_count": null,
   "id": "519fd08a",
   "metadata": {
    "hidden": true,
    "scrolled": true
   },
   "outputs": [],
   "source": [
    "# створити таблицю в якій підраховано середню вартість білетів (Fare) в залежності\n",
    "# від місця посадки (Embarked) по класам кают\n",
    "tickets_cost = titanic.pivot_table(values=\"Fare\", index=\"Pclass\", columns=\"Embarked\",\n",
    "                   aggfunc=np.mean)\n",
    "tickets_cost"
   ]
  },
  {
   "cell_type": "markdown",
   "id": "1953afb7",
   "metadata": {
    "hidden": true,
    "tags": []
   },
   "source": [
    "### ЗАВДАННЯ"
   ]
  },
  {
   "cell_type": "code",
   "execution_count": null,
   "id": "a0161713",
   "metadata": {
    "hidden": true
   },
   "outputs": [],
   "source": [
    "# ЗАВДАННЯ 4.1: отримати відомості про максимальний вік жінок та чоловіків\n",
    "max_age = ...\n",
    "print(max_age)"
   ]
  },
  {
   "cell_type": "markdown",
   "id": "f7551432",
   "metadata": {
    "hidden": true
   },
   "source": [
    "___ЗАВДАННЯ 4.2___\n",
    "\n",
    "на основі даних з `titanic` побудувати таблицю наступного вигляду:\n",
    "\n",
    "Pclass  |Male  | Female\n",
    "--------|------|-------\n",
    "1  | ... | ...\n",
    "2  | ... | ...\n",
    "3  | ... | ...\n",
    "\n",
    "де замість `...` повинно бути кількість виживших (Survived) чоловіків та жінок відповідно"
   ]
  },
  {
   "cell_type": "code",
   "execution_count": null,
   "id": "5dea747e",
   "metadata": {
    "hidden": true
   },
   "outputs": [],
   "source": [
    "surv_table = ...\n",
    "surv_table"
   ]
  }
 ],
 "metadata": {
  "kernelspec": {
   "display_name": "Python 3 (ipykernel)",
   "language": "python",
   "name": "python3"
  },
  "language_info": {
   "codemirror_mode": {
    "name": "ipython",
    "version": 3
   },
   "file_extension": ".py",
   "mimetype": "text/x-python",
   "name": "python",
   "nbconvert_exporter": "python",
   "pygments_lexer": "ipython3",
   "version": "3.11.0"
  },
  "toc-autonumbering": true,
  "toc-showcode": true,
  "toc-showmarkdowntxt": false,
  "toc-showtags": false,
  "varInspector": {
   "cols": {
    "lenName": 16,
    "lenType": 16,
    "lenVar": 40
   },
   "kernels_config": {
    "python": {
     "delete_cmd_postfix": "",
     "delete_cmd_prefix": "del ",
     "library": "var_list.py",
     "varRefreshCmd": "print(var_dic_list())"
    },
    "r": {
     "delete_cmd_postfix": ") ",
     "delete_cmd_prefix": "rm(",
     "library": "var_list.r",
     "varRefreshCmd": "cat(var_dic_list()) "
    }
   },
   "types_to_exclude": [
    "module",
    "function",
    "builtin_function_or_method",
    "instance",
    "_Feature"
   ],
   "window_display": false
  }
 },
 "nbformat": 4,
 "nbformat_minor": 5
}
