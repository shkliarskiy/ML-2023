{
 "cells": [
  {
   "cell_type": "markdown",
   "id": "0dd7824e",
   "metadata": {},
   "source": [
    "# ЛАБОРАТОРНА РОБОТА \n",
    "## Елементи конструювання ознак в МН"
   ]
  },
  {
   "cell_type": "markdown",
   "id": "28e0d3d9",
   "metadata": {},
   "source": [
    "## Теоретичне введення"
   ]
  },
  {
   "cell_type": "markdown",
   "id": "988cb2df",
   "metadata": {},
   "source": [
    "[Конструювання ознак](https://ru.wikipedia.org/wiki/Конструирование_признаков) (_feature engineering_) - це процес створення нових ознак/показчиків або модифікації існуючих для поліпшення продуктивності моделей машинного навчання. \n",
    "\n",
    "__Ціль__ цього етапу - визначати основні закономірності в даних, які є актуальними для вирішуваної проблеми, та представити цю інформацію в формах та форматах, які можуть використовувати алгоритми машинного навчання."
   ]
  },
  {
   "cell_type": "markdown",
   "id": "b8658ea9",
   "metadata": {},
   "source": [
    "## Завдання"
   ]
  },
  {
   "cell_type": "markdown",
   "id": "004765f0",
   "metadata": {},
   "source": [
    "В даних ретейл-компанії які знаходяться в файлі `apartments_orig.csv` та відображають в відомості про продажі квартир на вторинному ринку зробити наступне:\n",
    "1. Провести попередній аналіз структури даних\n",
    "2. Знайти та видалити дубльовані рядки\n",
    "3. Провести реконструкцію пропущених даних\n",
    "4. Розробити та додати нові ознаки\n",
    "5. Зберегти оброблені дані в файлі `apartments_clean.csv`\n",
    "\n",
    "Завдання виконувати послідовно додержуючись інструкцій та коментарів"
   ]
  },
  {
   "cell_type": "markdown",
   "id": "4d991b4c",
   "metadata": {},
   "source": [
    "### 1. Підготовка "
   ]
  },
  {
   "cell_type": "code",
   "execution_count": 1,
   "id": "261ae0c4",
   "metadata": {},
   "outputs": [],
   "source": [
    "# імпортувати необхідні бібліотеки\n",
    "...\n",
    "import pandas as pd\n",
    "import numpy as np"
   ]
  },
  {
   "cell_type": "code",
   "execution_count": 2,
   "id": "33f795ae",
   "metadata": {},
   "outputs": [],
   "source": [
    "# створити датафрейм з ім'ям 'apartments' з файлу 'apartments.csv'\n",
    "apartments = pd.read_csv('apartnents-Copy2.csv')"
   ]
  },
  {
   "cell_type": "code",
   "execution_count": 3,
   "id": "10d5dacc",
   "metadata": {},
   "outputs": [
    {
     "data": {
      "text/html": [
       "<div>\n",
       "<style scoped>\n",
       "    .dataframe tbody tr th:only-of-type {\n",
       "        vertical-align: middle;\n",
       "    }\n",
       "\n",
       "    .dataframe tbody tr th {\n",
       "        vertical-align: top;\n",
       "    }\n",
       "\n",
       "    .dataframe thead th {\n",
       "        text-align: right;\n",
       "    }\n",
       "</style>\n",
       "<table border=\"1\" class=\"dataframe\">\n",
       "  <thead>\n",
       "    <tr style=\"text-align: right;\">\n",
       "      <th></th>\n",
       "      <th>Price</th>\n",
       "      <th>rooms</th>\n",
       "      <th>price_per_m2</th>\n",
       "      <th>level</th>\n",
       "      <th>levels</th>\n",
       "      <th>year</th>\n",
       "      <th>area_total</th>\n",
       "      <th>area_living</th>\n",
       "      <th>area_kitchen</th>\n",
       "      <th>street</th>\n",
       "      <th>publish_date</th>\n",
       "    </tr>\n",
       "  </thead>\n",
       "  <tbody>\n",
       "    <tr>\n",
       "      <th>0</th>\n",
       "      <td>140000.0</td>\n",
       "      <td>2.0</td>\n",
       "      <td>2258.0</td>\n",
       "      <td>7.0</td>\n",
       "      <td>9.0</td>\n",
       "      <td>1969.0</td>\n",
       "      <td>62.0</td>\n",
       "      <td>47.0</td>\n",
       "      <td>9.0</td>\n",
       "      <td>Омеляновича-Павленка</td>\n",
       "      <td>3 вересня 2020 р.</td>\n",
       "    </tr>\n",
       "    <tr>\n",
       "      <th>1</th>\n",
       "      <td>105000.0</td>\n",
       "      <td>4.0</td>\n",
       "      <td>847.0</td>\n",
       "      <td>25.0</td>\n",
       "      <td>26.0</td>\n",
       "      <td>2018.0</td>\n",
       "      <td>124.0</td>\n",
       "      <td>71.0</td>\n",
       "      <td>16.0</td>\n",
       "      <td>NaN</td>\n",
       "      <td>7 жовтня 2020 р.</td>\n",
       "    </tr>\n",
       "    <tr>\n",
       "      <th>2</th>\n",
       "      <td>175000.0</td>\n",
       "      <td>3.0</td>\n",
       "      <td>1786.0</td>\n",
       "      <td>25.0</td>\n",
       "      <td>26.0</td>\n",
       "      <td>2010.0</td>\n",
       "      <td>98.0</td>\n",
       "      <td>NaN</td>\n",
       "      <td>NaN</td>\n",
       "      <td>Ованеса Туманяна</td>\n",
       "      <td>1 жовтня 2020 р.</td>\n",
       "    </tr>\n",
       "    <tr>\n",
       "      <th>3</th>\n",
       "      <td>30970.0</td>\n",
       "      <td>1.0</td>\n",
       "      <td>1106.0</td>\n",
       "      <td>12.0</td>\n",
       "      <td>13.0</td>\n",
       "      <td>2013.0</td>\n",
       "      <td>28.0</td>\n",
       "      <td>13.0</td>\n",
       "      <td>5.0</td>\n",
       "      <td>Петропавлівська</td>\n",
       "      <td>1 лютого</td>\n",
       "    </tr>\n",
       "    <tr>\n",
       "      <th>4</th>\n",
       "      <td>82000.0</td>\n",
       "      <td>2.0</td>\n",
       "      <td>1281.0</td>\n",
       "      <td>18.0</td>\n",
       "      <td>26.0</td>\n",
       "      <td>NaN</td>\n",
       "      <td>64.0</td>\n",
       "      <td>NaN</td>\n",
       "      <td>NaN</td>\n",
       "      <td>Дніпровська</td>\n",
       "      <td>NaN</td>\n",
       "    </tr>\n",
       "  </tbody>\n",
       "</table>\n",
       "</div>"
      ],
      "text/plain": [
       "      Price  rooms  price_per_m2  level  levels    year  area_total  \\\n",
       "0  140000.0    2.0        2258.0    7.0     9.0  1969.0        62.0   \n",
       "1  105000.0    4.0         847.0   25.0    26.0  2018.0       124.0   \n",
       "2  175000.0    3.0        1786.0   25.0    26.0  2010.0        98.0   \n",
       "3   30970.0    1.0        1106.0   12.0    13.0  2013.0        28.0   \n",
       "4   82000.0    2.0        1281.0   18.0    26.0     NaN        64.0   \n",
       "\n",
       "   area_living  area_kitchen                street       publish_date  \n",
       "0         47.0           9.0  Омеляновича-Павленка  3 вересня 2020 р.  \n",
       "1         71.0          16.0                   NaN   7 жовтня 2020 р.  \n",
       "2          NaN           NaN      Ованеса Туманяна   1 жовтня 2020 р.  \n",
       "3         13.0           5.0       Петропавлівська           1 лютого  \n",
       "4          NaN           NaN           Дніпровська                NaN  "
      ]
     },
     "execution_count": 3,
     "metadata": {},
     "output_type": "execute_result"
    }
   ],
   "source": [
    "# вивести загальну інформацію про датафрейм (head, info, describe, ...)\n",
    "apartments.head()"
   ]
  },
  {
   "cell_type": "code",
   "execution_count": 4,
   "id": "0447c1be",
   "metadata": {},
   "outputs": [
    {
     "name": "stdout",
     "output_type": "stream",
     "text": [
      "<class 'pandas.core.frame.DataFrame'>\n",
      "RangeIndex: 728 entries, 0 to 727\n",
      "Data columns (total 11 columns):\n",
      " #   Column        Non-Null Count  Dtype  \n",
      "---  ------        --------------  -----  \n",
      " 0   Price         728 non-null    float64\n",
      " 1   rooms         724 non-null    float64\n",
      " 2   price_per_m2  723 non-null    float64\n",
      " 3   level         703 non-null    float64\n",
      " 4   levels        703 non-null    float64\n",
      " 5   year          540 non-null    float64\n",
      " 6   area_total    640 non-null    float64\n",
      " 7   area_living   497 non-null    float64\n",
      " 8   area_kitchen  524 non-null    float64\n",
      " 9   street        688 non-null    object \n",
      " 10  publish_date  550 non-null    object \n",
      "dtypes: float64(9), object(2)\n",
      "memory usage: 62.7+ KB\n"
     ]
    }
   ],
   "source": [
    "apartments.info()"
   ]
  },
  {
   "cell_type": "code",
   "execution_count": 5,
   "id": "29deea39",
   "metadata": {},
   "outputs": [
    {
     "data": {
      "text/html": [
       "<div>\n",
       "<style scoped>\n",
       "    .dataframe tbody tr th:only-of-type {\n",
       "        vertical-align: middle;\n",
       "    }\n",
       "\n",
       "    .dataframe tbody tr th {\n",
       "        vertical-align: top;\n",
       "    }\n",
       "\n",
       "    .dataframe thead th {\n",
       "        text-align: right;\n",
       "    }\n",
       "</style>\n",
       "<table border=\"1\" class=\"dataframe\">\n",
       "  <thead>\n",
       "    <tr style=\"text-align: right;\">\n",
       "      <th></th>\n",
       "      <th>Price</th>\n",
       "      <th>rooms</th>\n",
       "      <th>price_per_m2</th>\n",
       "      <th>level</th>\n",
       "      <th>levels</th>\n",
       "      <th>year</th>\n",
       "      <th>area_total</th>\n",
       "      <th>area_living</th>\n",
       "      <th>area_kitchen</th>\n",
       "    </tr>\n",
       "  </thead>\n",
       "  <tbody>\n",
       "    <tr>\n",
       "      <th>count</th>\n",
       "      <td>7.280000e+02</td>\n",
       "      <td>724.000000</td>\n",
       "      <td>723.000000</td>\n",
       "      <td>703.000000</td>\n",
       "      <td>703.000000</td>\n",
       "      <td>540.000000</td>\n",
       "      <td>640.000000</td>\n",
       "      <td>497.000000</td>\n",
       "      <td>524.000000</td>\n",
       "    </tr>\n",
       "    <tr>\n",
       "      <th>mean</th>\n",
       "      <td>2.001384e+05</td>\n",
       "      <td>2.226519</td>\n",
       "      <td>2090.259059</td>\n",
       "      <td>9.631579</td>\n",
       "      <td>17.695590</td>\n",
       "      <td>1996.662963</td>\n",
       "      <td>79.928125</td>\n",
       "      <td>42.301811</td>\n",
       "      <td>15.881679</td>\n",
       "    </tr>\n",
       "    <tr>\n",
       "      <th>std</th>\n",
       "      <td>6.748939e+05</td>\n",
       "      <td>1.027190</td>\n",
       "      <td>5900.910584</td>\n",
       "      <td>6.931243</td>\n",
       "      <td>8.458113</td>\n",
       "      <td>27.125786</td>\n",
       "      <td>51.143278</td>\n",
       "      <td>30.571793</td>\n",
       "      <td>10.043182</td>\n",
       "    </tr>\n",
       "    <tr>\n",
       "      <th>min</th>\n",
       "      <td>1.009210e+04</td>\n",
       "      <td>1.000000</td>\n",
       "      <td>478.000000</td>\n",
       "      <td>1.000000</td>\n",
       "      <td>2.000000</td>\n",
       "      <td>1860.000000</td>\n",
       "      <td>15.000000</td>\n",
       "      <td>10.000000</td>\n",
       "      <td>3.000000</td>\n",
       "    </tr>\n",
       "    <tr>\n",
       "      <th>25%</th>\n",
       "      <td>6.500000e+04</td>\n",
       "      <td>1.000000</td>\n",
       "      <td>1147.000000</td>\n",
       "      <td>4.000000</td>\n",
       "      <td>9.000000</td>\n",
       "      <td>1977.000000</td>\n",
       "      <td>50.000000</td>\n",
       "      <td>25.000000</td>\n",
       "      <td>10.000000</td>\n",
       "    </tr>\n",
       "    <tr>\n",
       "      <th>50%</th>\n",
       "      <td>1.039500e+05</td>\n",
       "      <td>2.000000</td>\n",
       "      <td>1562.000000</td>\n",
       "      <td>8.000000</td>\n",
       "      <td>19.000000</td>\n",
       "      <td>2010.000000</td>\n",
       "      <td>68.500000</td>\n",
       "      <td>37.000000</td>\n",
       "      <td>14.000000</td>\n",
       "    </tr>\n",
       "    <tr>\n",
       "      <th>75%</th>\n",
       "      <td>1.700000e+05</td>\n",
       "      <td>3.000000</td>\n",
       "      <td>2188.000000</td>\n",
       "      <td>14.000000</td>\n",
       "      <td>25.000000</td>\n",
       "      <td>2016.000000</td>\n",
       "      <td>92.250000</td>\n",
       "      <td>50.000000</td>\n",
       "      <td>18.000000</td>\n",
       "    </tr>\n",
       "    <tr>\n",
       "      <th>max</th>\n",
       "      <td>1.570000e+07</td>\n",
       "      <td>7.000000</td>\n",
       "      <td>157000.000000</td>\n",
       "      <td>33.000000</td>\n",
       "      <td>47.000000</td>\n",
       "      <td>2021.000000</td>\n",
       "      <td>520.000000</td>\n",
       "      <td>320.000000</td>\n",
       "      <td>78.000000</td>\n",
       "    </tr>\n",
       "  </tbody>\n",
       "</table>\n",
       "</div>"
      ],
      "text/plain": [
       "              Price       rooms   price_per_m2       level      levels  \\\n",
       "count  7.280000e+02  724.000000     723.000000  703.000000  703.000000   \n",
       "mean   2.001384e+05    2.226519    2090.259059    9.631579   17.695590   \n",
       "std    6.748939e+05    1.027190    5900.910584    6.931243    8.458113   \n",
       "min    1.009210e+04    1.000000     478.000000    1.000000    2.000000   \n",
       "25%    6.500000e+04    1.000000    1147.000000    4.000000    9.000000   \n",
       "50%    1.039500e+05    2.000000    1562.000000    8.000000   19.000000   \n",
       "75%    1.700000e+05    3.000000    2188.000000   14.000000   25.000000   \n",
       "max    1.570000e+07    7.000000  157000.000000   33.000000   47.000000   \n",
       "\n",
       "              year  area_total  area_living  area_kitchen  \n",
       "count   540.000000  640.000000   497.000000    524.000000  \n",
       "mean   1996.662963   79.928125    42.301811     15.881679  \n",
       "std      27.125786   51.143278    30.571793     10.043182  \n",
       "min    1860.000000   15.000000    10.000000      3.000000  \n",
       "25%    1977.000000   50.000000    25.000000     10.000000  \n",
       "50%    2010.000000   68.500000    37.000000     14.000000  \n",
       "75%    2016.000000   92.250000    50.000000     18.000000  \n",
       "max    2021.000000  520.000000   320.000000     78.000000  "
      ]
     },
     "execution_count": 5,
     "metadata": {},
     "output_type": "execute_result"
    }
   ],
   "source": [
    "apartments.describe()"
   ]
  },
  {
   "cell_type": "markdown",
   "id": "29718bce",
   "metadata": {},
   "source": [
    "### 2"
   ]
  },
  {
   "cell_type": "code",
   "execution_count": 6,
   "id": "2ebd3552",
   "metadata": {},
   "outputs": [],
   "source": [
    "apartments.drop_duplicates(inplace=True)"
   ]
  },
  {
   "cell_type": "code",
   "execution_count": 7,
   "id": "904fa42d",
   "metadata": {},
   "outputs": [],
   "source": [
    "apartments.drop(columns=['publish_date'], inplace=True)"
   ]
  },
  {
   "cell_type": "markdown",
   "id": "0ef06b23",
   "metadata": {},
   "source": [
    "### 3"
   ]
  },
  {
   "cell_type": "code",
   "execution_count": 8,
   "id": "ac9aa613",
   "metadata": {},
   "outputs": [],
   "source": [
    "# заповнити незначащі числові показчики медіаной відповідної колонки\n",
    "apartments.fillna({\n",
    "    'rooms': apartments['rooms'].median(),\n",
    "    'price_per_m2':apartments['price_per_m2'].median(),\n",
    "    'level':apartments['level'].median(),\n",
    "    'levels':apartments['levels'].median(),\n",
    "    'year':apartments['year'].median(),\n",
    "    'apartments':apartments['area_total'].median(),\n",
    "    'area_living':apartments['area_living'].median(),\n",
    "    'area_kitchen':apartments['area_kitchen'].median(),    \n",
    "}, inplace=True)"
   ]
  },
  {
   "cell_type": "code",
   "execution_count": 9,
   "id": "b2f54715",
   "metadata": {},
   "outputs": [],
   "source": [
    "apartments.fillna(method='bfill', inplace=True)"
   ]
  },
  {
   "cell_type": "code",
   "execution_count": 10,
   "id": "c124edbb",
   "metadata": {},
   "outputs": [
    {
     "data": {
      "text/plain": [
       "Index(['Price', 'rooms', 'price_per_m2', 'level', 'levels', 'year',\n",
       "       'area_total', 'area_living', 'area_kitchen', 'street'],\n",
       "      dtype='object')"
      ]
     },
     "execution_count": 10,
     "metadata": {},
     "output_type": "execute_result"
    }
   ],
   "source": [
    "apartments.columns"
   ]
  },
  {
   "cell_type": "code",
   "execution_count": 11,
   "id": "a525f64a",
   "metadata": {},
   "outputs": [
    {
     "data": {
      "text/html": [
       "<div>\n",
       "<style scoped>\n",
       "    .dataframe tbody tr th:only-of-type {\n",
       "        vertical-align: middle;\n",
       "    }\n",
       "\n",
       "    .dataframe tbody tr th {\n",
       "        vertical-align: top;\n",
       "    }\n",
       "\n",
       "    .dataframe thead th {\n",
       "        text-align: right;\n",
       "    }\n",
       "</style>\n",
       "<table border=\"1\" class=\"dataframe\">\n",
       "  <thead>\n",
       "    <tr style=\"text-align: right;\">\n",
       "      <th></th>\n",
       "      <th>Price</th>\n",
       "      <th>rooms</th>\n",
       "      <th>price_per_m2</th>\n",
       "      <th>level</th>\n",
       "      <th>levels</th>\n",
       "      <th>year</th>\n",
       "      <th>area_total</th>\n",
       "      <th>area_living</th>\n",
       "      <th>area_kitchen</th>\n",
       "      <th>street</th>\n",
       "    </tr>\n",
       "  </thead>\n",
       "  <tbody>\n",
       "    <tr>\n",
       "      <th>0</th>\n",
       "      <td>140000.0</td>\n",
       "      <td>2.0</td>\n",
       "      <td>2258.0</td>\n",
       "      <td>7.0</td>\n",
       "      <td>9.0</td>\n",
       "      <td>1969.0</td>\n",
       "      <td>62.0</td>\n",
       "      <td>47.0</td>\n",
       "      <td>9.0</td>\n",
       "      <td>Омеляновича-Павленка</td>\n",
       "    </tr>\n",
       "    <tr>\n",
       "      <th>1</th>\n",
       "      <td>105000.0</td>\n",
       "      <td>4.0</td>\n",
       "      <td>847.0</td>\n",
       "      <td>25.0</td>\n",
       "      <td>26.0</td>\n",
       "      <td>2018.0</td>\n",
       "      <td>124.0</td>\n",
       "      <td>71.0</td>\n",
       "      <td>16.0</td>\n",
       "      <td>Ованеса Туманяна</td>\n",
       "    </tr>\n",
       "    <tr>\n",
       "      <th>2</th>\n",
       "      <td>175000.0</td>\n",
       "      <td>3.0</td>\n",
       "      <td>1786.0</td>\n",
       "      <td>25.0</td>\n",
       "      <td>26.0</td>\n",
       "      <td>2010.0</td>\n",
       "      <td>98.0</td>\n",
       "      <td>37.0</td>\n",
       "      <td>14.0</td>\n",
       "      <td>Ованеса Туманяна</td>\n",
       "    </tr>\n",
       "    <tr>\n",
       "      <th>3</th>\n",
       "      <td>30970.0</td>\n",
       "      <td>1.0</td>\n",
       "      <td>1106.0</td>\n",
       "      <td>12.0</td>\n",
       "      <td>13.0</td>\n",
       "      <td>2013.0</td>\n",
       "      <td>28.0</td>\n",
       "      <td>13.0</td>\n",
       "      <td>5.0</td>\n",
       "      <td>Петропавлівська</td>\n",
       "    </tr>\n",
       "    <tr>\n",
       "      <th>4</th>\n",
       "      <td>82000.0</td>\n",
       "      <td>2.0</td>\n",
       "      <td>1281.0</td>\n",
       "      <td>18.0</td>\n",
       "      <td>26.0</td>\n",
       "      <td>2009.0</td>\n",
       "      <td>64.0</td>\n",
       "      <td>37.0</td>\n",
       "      <td>14.0</td>\n",
       "      <td>Дніпровська</td>\n",
       "    </tr>\n",
       "  </tbody>\n",
       "</table>\n",
       "</div>"
      ],
      "text/plain": [
       "      Price  rooms  price_per_m2  level  levels    year  area_total  \\\n",
       "0  140000.0    2.0        2258.0    7.0     9.0  1969.0        62.0   \n",
       "1  105000.0    4.0         847.0   25.0    26.0  2018.0       124.0   \n",
       "2  175000.0    3.0        1786.0   25.0    26.0  2010.0        98.0   \n",
       "3   30970.0    1.0        1106.0   12.0    13.0  2013.0        28.0   \n",
       "4   82000.0    2.0        1281.0   18.0    26.0  2009.0        64.0   \n",
       "\n",
       "   area_living  area_kitchen                street  \n",
       "0         47.0           9.0  Омеляновича-Павленка  \n",
       "1         71.0          16.0      Ованеса Туманяна  \n",
       "2         37.0          14.0      Ованеса Туманяна  \n",
       "3         13.0           5.0       Петропавлівська  \n",
       "4         37.0          14.0           Дніпровська  "
      ]
     },
     "execution_count": 11,
     "metadata": {},
     "output_type": "execute_result"
    }
   ],
   "source": [
    "apartments.head()"
   ]
  },
  {
   "cell_type": "markdown",
   "id": "4a526b24",
   "metadata": {},
   "source": [
    "### 4.1"
   ]
  },
  {
   "cell_type": "code",
   "execution_count": 13,
   "id": "5fbbbfd4",
   "metadata": {},
   "outputs": [
    {
     "data": {
      "text/html": [
       "<div>\n",
       "<style scoped>\n",
       "    .dataframe tbody tr th:only-of-type {\n",
       "        vertical-align: middle;\n",
       "    }\n",
       "\n",
       "    .dataframe tbody tr th {\n",
       "        vertical-align: top;\n",
       "    }\n",
       "\n",
       "    .dataframe thead th {\n",
       "        text-align: right;\n",
       "    }\n",
       "</style>\n",
       "<table border=\"1\" class=\"dataframe\">\n",
       "  <thead>\n",
       "    <tr style=\"text-align: right;\">\n",
       "      <th></th>\n",
       "      <th>street</th>\n",
       "      <th>type</th>\n",
       "      <th>district</th>\n",
       "    </tr>\n",
       "  </thead>\n",
       "  <tbody>\n",
       "    <tr>\n",
       "      <th>0</th>\n",
       "      <td>9-го Травня</td>\n",
       "      <td>вулиця</td>\n",
       "      <td>Святошинський</td>\n",
       "    </tr>\n",
       "    <tr>\n",
       "      <th>1</th>\n",
       "      <td>Абрикосова</td>\n",
       "      <td>вулиця</td>\n",
       "      <td>Оболонський</td>\n",
       "    </tr>\n",
       "    <tr>\n",
       "      <th>2</th>\n",
       "      <td>Абрикосова</td>\n",
       "      <td>вулиця</td>\n",
       "      <td>Дарницький</td>\n",
       "    </tr>\n",
       "    <tr>\n",
       "      <th>3</th>\n",
       "      <td>Абрикосова</td>\n",
       "      <td>вулиця</td>\n",
       "      <td>Подільський</td>\n",
       "    </tr>\n",
       "    <tr>\n",
       "      <th>4</th>\n",
       "      <td>Августина Волошина</td>\n",
       "      <td>вулиця</td>\n",
       "      <td>Солом’янський</td>\n",
       "    </tr>\n",
       "  </tbody>\n",
       "</table>\n",
       "</div>"
      ],
      "text/plain": [
       "               street    type       district\n",
       "0         9-го Травня  вулиця  Святошинський\n",
       "1          Абрикосова  вулиця    Оболонський\n",
       "2          Абрикосова  вулиця     Дарницький\n",
       "3          Абрикосова  вулиця    Подільський\n",
       "4  Августина Волошина  вулиця  Солом’янський"
      ]
     },
     "execution_count": 13,
     "metadata": {},
     "output_type": "execute_result"
    }
   ],
   "source": [
    "districts = pd.read_csv('./kiev_districts.csv')\n",
    "districts.head()\n"
   ]
  },
  {
   "cell_type": "code",
   "execution_count": 14,
   "id": "f1dc89ee",
   "metadata": {},
   "outputs": [],
   "source": [
    "def _find_district(street_name: str) -> str:\n",
    "    \"\"\"повертає першу знайдену назву району з 'districts` для вулиці або NaN\"\"\"\n",
    "    result = districts.loc[districts['street'] == street_name, 'district'].values\n",
    "    return result[0] if len(result) >= 1 else np.nan\n"
   ]
  },
  {
   "cell_type": "code",
   "execution_count": 16,
   "id": "c577f5e8",
   "metadata": {},
   "outputs": [],
   "source": [
    "# створити нову колонку\n",
    "dis_col = apartments['street'].map(lambda x: _find_district(x))    "
   ]
  },
  {
   "cell_type": "code",
   "execution_count": 21,
   "id": "b4f1281f",
   "metadata": {},
   "outputs": [],
   "source": [
    "apartments['district']  = dis_col"
   ]
  },
  {
   "cell_type": "code",
   "execution_count": 22,
   "id": "397fb133",
   "metadata": {},
   "outputs": [
    {
     "data": {
      "text/html": [
       "<div>\n",
       "<style scoped>\n",
       "    .dataframe tbody tr th:only-of-type {\n",
       "        vertical-align: middle;\n",
       "    }\n",
       "\n",
       "    .dataframe tbody tr th {\n",
       "        vertical-align: top;\n",
       "    }\n",
       "\n",
       "    .dataframe thead th {\n",
       "        text-align: right;\n",
       "    }\n",
       "</style>\n",
       "<table border=\"1\" class=\"dataframe\">\n",
       "  <thead>\n",
       "    <tr style=\"text-align: right;\">\n",
       "      <th></th>\n",
       "      <th>Price</th>\n",
       "      <th>rooms</th>\n",
       "      <th>price_per_m2</th>\n",
       "      <th>level</th>\n",
       "      <th>levels</th>\n",
       "      <th>year</th>\n",
       "      <th>area_total</th>\n",
       "      <th>area_living</th>\n",
       "      <th>area_kitchen</th>\n",
       "      <th>street</th>\n",
       "      <th>district</th>\n",
       "    </tr>\n",
       "  </thead>\n",
       "  <tbody>\n",
       "    <tr>\n",
       "      <th>0</th>\n",
       "      <td>140000.0</td>\n",
       "      <td>2.0</td>\n",
       "      <td>2258.0</td>\n",
       "      <td>7.0</td>\n",
       "      <td>9.0</td>\n",
       "      <td>1969.0</td>\n",
       "      <td>62.0</td>\n",
       "      <td>47.0</td>\n",
       "      <td>9.0</td>\n",
       "      <td>Омеляновича-Павленка</td>\n",
       "      <td>NaN</td>\n",
       "    </tr>\n",
       "    <tr>\n",
       "      <th>1</th>\n",
       "      <td>105000.0</td>\n",
       "      <td>4.0</td>\n",
       "      <td>847.0</td>\n",
       "      <td>25.0</td>\n",
       "      <td>26.0</td>\n",
       "      <td>2018.0</td>\n",
       "      <td>124.0</td>\n",
       "      <td>71.0</td>\n",
       "      <td>16.0</td>\n",
       "      <td>Ованеса Туманяна</td>\n",
       "      <td>NaN</td>\n",
       "    </tr>\n",
       "    <tr>\n",
       "      <th>2</th>\n",
       "      <td>175000.0</td>\n",
       "      <td>3.0</td>\n",
       "      <td>1786.0</td>\n",
       "      <td>25.0</td>\n",
       "      <td>26.0</td>\n",
       "      <td>2010.0</td>\n",
       "      <td>98.0</td>\n",
       "      <td>37.0</td>\n",
       "      <td>14.0</td>\n",
       "      <td>Ованеса Туманяна</td>\n",
       "      <td>NaN</td>\n",
       "    </tr>\n",
       "    <tr>\n",
       "      <th>3</th>\n",
       "      <td>30970.0</td>\n",
       "      <td>1.0</td>\n",
       "      <td>1106.0</td>\n",
       "      <td>12.0</td>\n",
       "      <td>13.0</td>\n",
       "      <td>2013.0</td>\n",
       "      <td>28.0</td>\n",
       "      <td>13.0</td>\n",
       "      <td>5.0</td>\n",
       "      <td>Петропавлівська</td>\n",
       "      <td>Оболонський</td>\n",
       "    </tr>\n",
       "    <tr>\n",
       "      <th>4</th>\n",
       "      <td>82000.0</td>\n",
       "      <td>2.0</td>\n",
       "      <td>1281.0</td>\n",
       "      <td>18.0</td>\n",
       "      <td>26.0</td>\n",
       "      <td>2009.0</td>\n",
       "      <td>64.0</td>\n",
       "      <td>37.0</td>\n",
       "      <td>14.0</td>\n",
       "      <td>Дніпровська</td>\n",
       "      <td>Оболонський</td>\n",
       "    </tr>\n",
       "  </tbody>\n",
       "</table>\n",
       "</div>"
      ],
      "text/plain": [
       "      Price  rooms  price_per_m2  level  levels    year  area_total  \\\n",
       "0  140000.0    2.0        2258.0    7.0     9.0  1969.0        62.0   \n",
       "1  105000.0    4.0         847.0   25.0    26.0  2018.0       124.0   \n",
       "2  175000.0    3.0        1786.0   25.0    26.0  2010.0        98.0   \n",
       "3   30970.0    1.0        1106.0   12.0    13.0  2013.0        28.0   \n",
       "4   82000.0    2.0        1281.0   18.0    26.0  2009.0        64.0   \n",
       "\n",
       "   area_living  area_kitchen                street     district  \n",
       "0         47.0           9.0  Омеляновича-Павленка          NaN  \n",
       "1         71.0          16.0      Ованеса Туманяна          NaN  \n",
       "2         37.0          14.0      Ованеса Туманяна          NaN  \n",
       "3         13.0           5.0       Петропавлівська  Оболонський  \n",
       "4         37.0          14.0           Дніпровська  Оболонський  "
      ]
     },
     "execution_count": 22,
     "metadata": {},
     "output_type": "execute_result"
    }
   ],
   "source": [
    "apartments.head()"
   ]
  },
  {
   "cell_type": "markdown",
   "id": "5bcc34cc",
   "metadata": {},
   "source": [
    "### 4.2"
   ]
  },
  {
   "cell_type": "code",
   "execution_count": 28,
   "id": "59bace49",
   "metadata": {
    "scrolled": true
   },
   "outputs": [],
   "source": [
    "apartments['area_comfort'] = apartments['area_total'] - apartments['area_living'] - apartments['area_kitchen']\n",
    "apartments.loc[apartments['area_comfort'] < 0, 'area_comfort'] = 0"
   ]
  },
  {
   "cell_type": "code",
   "execution_count": 29,
   "id": "4cd46f5b",
   "metadata": {},
   "outputs": [
    {
     "data": {
      "text/html": [
       "<div>\n",
       "<style scoped>\n",
       "    .dataframe tbody tr th:only-of-type {\n",
       "        vertical-align: middle;\n",
       "    }\n",
       "\n",
       "    .dataframe tbody tr th {\n",
       "        vertical-align: top;\n",
       "    }\n",
       "\n",
       "    .dataframe thead th {\n",
       "        text-align: right;\n",
       "    }\n",
       "</style>\n",
       "<table border=\"1\" class=\"dataframe\">\n",
       "  <thead>\n",
       "    <tr style=\"text-align: right;\">\n",
       "      <th></th>\n",
       "      <th>Price</th>\n",
       "      <th>rooms</th>\n",
       "      <th>price_per_m2</th>\n",
       "      <th>level</th>\n",
       "      <th>levels</th>\n",
       "      <th>year</th>\n",
       "      <th>area_total</th>\n",
       "      <th>area_living</th>\n",
       "      <th>area_kitchen</th>\n",
       "      <th>street</th>\n",
       "      <th>district</th>\n",
       "      <th>area_comfort</th>\n",
       "    </tr>\n",
       "  </thead>\n",
       "  <tbody>\n",
       "    <tr>\n",
       "      <th>0</th>\n",
       "      <td>140000.0</td>\n",
       "      <td>2.0</td>\n",
       "      <td>2258.0</td>\n",
       "      <td>7.0</td>\n",
       "      <td>9.0</td>\n",
       "      <td>1969.0</td>\n",
       "      <td>62.0</td>\n",
       "      <td>47.0</td>\n",
       "      <td>9.0</td>\n",
       "      <td>Омеляновича-Павленка</td>\n",
       "      <td>NaN</td>\n",
       "      <td>6.0</td>\n",
       "    </tr>\n",
       "    <tr>\n",
       "      <th>1</th>\n",
       "      <td>105000.0</td>\n",
       "      <td>4.0</td>\n",
       "      <td>847.0</td>\n",
       "      <td>25.0</td>\n",
       "      <td>26.0</td>\n",
       "      <td>2018.0</td>\n",
       "      <td>124.0</td>\n",
       "      <td>71.0</td>\n",
       "      <td>16.0</td>\n",
       "      <td>Ованеса Туманяна</td>\n",
       "      <td>NaN</td>\n",
       "      <td>37.0</td>\n",
       "    </tr>\n",
       "    <tr>\n",
       "      <th>2</th>\n",
       "      <td>175000.0</td>\n",
       "      <td>3.0</td>\n",
       "      <td>1786.0</td>\n",
       "      <td>25.0</td>\n",
       "      <td>26.0</td>\n",
       "      <td>2010.0</td>\n",
       "      <td>98.0</td>\n",
       "      <td>37.0</td>\n",
       "      <td>14.0</td>\n",
       "      <td>Ованеса Туманяна</td>\n",
       "      <td>NaN</td>\n",
       "      <td>47.0</td>\n",
       "    </tr>\n",
       "    <tr>\n",
       "      <th>3</th>\n",
       "      <td>30970.0</td>\n",
       "      <td>1.0</td>\n",
       "      <td>1106.0</td>\n",
       "      <td>12.0</td>\n",
       "      <td>13.0</td>\n",
       "      <td>2013.0</td>\n",
       "      <td>28.0</td>\n",
       "      <td>13.0</td>\n",
       "      <td>5.0</td>\n",
       "      <td>Петропавлівська</td>\n",
       "      <td>Оболонський</td>\n",
       "      <td>10.0</td>\n",
       "    </tr>\n",
       "    <tr>\n",
       "      <th>4</th>\n",
       "      <td>82000.0</td>\n",
       "      <td>2.0</td>\n",
       "      <td>1281.0</td>\n",
       "      <td>18.0</td>\n",
       "      <td>26.0</td>\n",
       "      <td>2009.0</td>\n",
       "      <td>64.0</td>\n",
       "      <td>37.0</td>\n",
       "      <td>14.0</td>\n",
       "      <td>Дніпровська</td>\n",
       "      <td>Оболонський</td>\n",
       "      <td>13.0</td>\n",
       "    </tr>\n",
       "  </tbody>\n",
       "</table>\n",
       "</div>"
      ],
      "text/plain": [
       "      Price  rooms  price_per_m2  level  levels    year  area_total  \\\n",
       "0  140000.0    2.0        2258.0    7.0     9.0  1969.0        62.0   \n",
       "1  105000.0    4.0         847.0   25.0    26.0  2018.0       124.0   \n",
       "2  175000.0    3.0        1786.0   25.0    26.0  2010.0        98.0   \n",
       "3   30970.0    1.0        1106.0   12.0    13.0  2013.0        28.0   \n",
       "4   82000.0    2.0        1281.0   18.0    26.0  2009.0        64.0   \n",
       "\n",
       "   area_living  area_kitchen                street     district  area_comfort  \n",
       "0         47.0           9.0  Омеляновича-Павленка          NaN           6.0  \n",
       "1         71.0          16.0      Ованеса Туманяна          NaN          37.0  \n",
       "2         37.0          14.0      Ованеса Туманяна          NaN          47.0  \n",
       "3         13.0           5.0       Петропавлівська  Оболонський          10.0  \n",
       "4         37.0          14.0           Дніпровська  Оболонський          13.0  "
      ]
     },
     "execution_count": 29,
     "metadata": {},
     "output_type": "execute_result"
    }
   ],
   "source": [
    "apartments.head()"
   ]
  },
  {
   "cell_type": "code",
   "execution_count": 30,
   "id": "98277207",
   "metadata": {},
   "outputs": [],
   "source": [
    "apartments.fillna(method='bfill', inplace=True)"
   ]
  },
  {
   "cell_type": "code",
   "execution_count": 32,
   "id": "f41101da",
   "metadata": {},
   "outputs": [
    {
     "data": {
      "text/html": [
       "<div>\n",
       "<style scoped>\n",
       "    .dataframe tbody tr th:only-of-type {\n",
       "        vertical-align: middle;\n",
       "    }\n",
       "\n",
       "    .dataframe tbody tr th {\n",
       "        vertical-align: top;\n",
       "    }\n",
       "\n",
       "    .dataframe thead th {\n",
       "        text-align: right;\n",
       "    }\n",
       "</style>\n",
       "<table border=\"1\" class=\"dataframe\">\n",
       "  <thead>\n",
       "    <tr style=\"text-align: right;\">\n",
       "      <th></th>\n",
       "      <th>Price</th>\n",
       "      <th>rooms</th>\n",
       "      <th>price_per_m2</th>\n",
       "      <th>level</th>\n",
       "      <th>levels</th>\n",
       "      <th>year</th>\n",
       "      <th>area_total</th>\n",
       "      <th>area_living</th>\n",
       "      <th>area_kitchen</th>\n",
       "      <th>street</th>\n",
       "      <th>district</th>\n",
       "      <th>area_comfort</th>\n",
       "    </tr>\n",
       "  </thead>\n",
       "  <tbody>\n",
       "    <tr>\n",
       "      <th>722</th>\n",
       "      <td>185000.0</td>\n",
       "      <td>2.0</td>\n",
       "      <td>2256.0</td>\n",
       "      <td>6.0</td>\n",
       "      <td>9.0</td>\n",
       "      <td>2009.0</td>\n",
       "      <td>82.0</td>\n",
       "      <td>35.0</td>\n",
       "      <td>24.0</td>\n",
       "      <td>Наумова</td>\n",
       "      <td>Шевченківський</td>\n",
       "      <td>23.0</td>\n",
       "    </tr>\n",
       "    <tr>\n",
       "      <th>723</th>\n",
       "      <td>49990.0</td>\n",
       "      <td>3.0</td>\n",
       "      <td>757.0</td>\n",
       "      <td>8.0</td>\n",
       "      <td>9.0</td>\n",
       "      <td>1976.0</td>\n",
       "      <td>66.0</td>\n",
       "      <td>45.0</td>\n",
       "      <td>8.0</td>\n",
       "      <td>Наумова</td>\n",
       "      <td>Шевченківський</td>\n",
       "      <td>13.0</td>\n",
       "    </tr>\n",
       "    <tr>\n",
       "      <th>724</th>\n",
       "      <td>89000.0</td>\n",
       "      <td>1.0</td>\n",
       "      <td>2342.0</td>\n",
       "      <td>7.0</td>\n",
       "      <td>15.0</td>\n",
       "      <td>2009.0</td>\n",
       "      <td>38.0</td>\n",
       "      <td>20.0</td>\n",
       "      <td>7.0</td>\n",
       "      <td>Перемоги</td>\n",
       "      <td>Шевченківський</td>\n",
       "      <td>11.0</td>\n",
       "    </tr>\n",
       "    <tr>\n",
       "      <th>725</th>\n",
       "      <td>170000.0</td>\n",
       "      <td>2.0</td>\n",
       "      <td>2656.0</td>\n",
       "      <td>5.0</td>\n",
       "      <td>7.0</td>\n",
       "      <td>1948.0</td>\n",
       "      <td>64.0</td>\n",
       "      <td>37.0</td>\n",
       "      <td>9.0</td>\n",
       "      <td>Велика Васильківська</td>\n",
       "      <td>Голосіївський, Шевченківський, Печерський</td>\n",
       "      <td>18.0</td>\n",
       "    </tr>\n",
       "    <tr>\n",
       "      <th>727</th>\n",
       "      <td>46500.0</td>\n",
       "      <td>2.0</td>\n",
       "      <td>1011.0</td>\n",
       "      <td>5.0</td>\n",
       "      <td>5.0</td>\n",
       "      <td>1963.0</td>\n",
       "      <td>46.0</td>\n",
       "      <td>31.0</td>\n",
       "      <td>7.0</td>\n",
       "      <td>Вишгородська</td>\n",
       "      <td>Подільський, Оболонський</td>\n",
       "      <td>8.0</td>\n",
       "    </tr>\n",
       "  </tbody>\n",
       "</table>\n",
       "</div>"
      ],
      "text/plain": [
       "        Price  rooms  price_per_m2  level  levels    year  area_total  \\\n",
       "722  185000.0    2.0        2256.0    6.0     9.0  2009.0        82.0   \n",
       "723   49990.0    3.0         757.0    8.0     9.0  1976.0        66.0   \n",
       "724   89000.0    1.0        2342.0    7.0    15.0  2009.0        38.0   \n",
       "725  170000.0    2.0        2656.0    5.0     7.0  1948.0        64.0   \n",
       "727   46500.0    2.0        1011.0    5.0     5.0  1963.0        46.0   \n",
       "\n",
       "     area_living  area_kitchen                street  \\\n",
       "722         35.0          24.0               Наумова   \n",
       "723         45.0           8.0               Наумова   \n",
       "724         20.0           7.0              Перемоги   \n",
       "725         37.0           9.0  Велика Васильківська   \n",
       "727         31.0           7.0          Вишгородська   \n",
       "\n",
       "                                      district  area_comfort  \n",
       "722                             Шевченківський          23.0  \n",
       "723                             Шевченківський          13.0  \n",
       "724                             Шевченківський          11.0  \n",
       "725  Голосіївський, Шевченківський, Печерський          18.0  \n",
       "727                   Подільський, Оболонський           8.0  "
      ]
     },
     "execution_count": 32,
     "metadata": {},
     "output_type": "execute_result"
    }
   ],
   "source": [
    "apartments.tail()"
   ]
  },
  {
   "cell_type": "code",
   "execution_count": 33,
   "id": "e98a758f",
   "metadata": {},
   "outputs": [
    {
     "name": "stdout",
     "output_type": "stream",
     "text": [
      "<class 'pandas.core.frame.DataFrame'>\n",
      "Int64Index: 676 entries, 0 to 727\n",
      "Data columns (total 12 columns):\n",
      " #   Column        Non-Null Count  Dtype  \n",
      "---  ------        --------------  -----  \n",
      " 0   Price         676 non-null    float64\n",
      " 1   rooms         676 non-null    float64\n",
      " 2   price_per_m2  676 non-null    float64\n",
      " 3   level         676 non-null    float64\n",
      " 4   levels        676 non-null    float64\n",
      " 5   year          676 non-null    float64\n",
      " 6   area_total    676 non-null    float64\n",
      " 7   area_living   676 non-null    float64\n",
      " 8   area_kitchen  676 non-null    float64\n",
      " 9   street        676 non-null    object \n",
      " 10  district      676 non-null    object \n",
      " 11  area_comfort  676 non-null    float64\n",
      "dtypes: float64(10), object(2)\n",
      "memory usage: 68.7+ KB\n"
     ]
    }
   ],
   "source": [
    "apartments.info()"
   ]
  },
  {
   "cell_type": "code",
   "execution_count": 36,
   "id": "8824c88f",
   "metadata": {},
   "outputs": [
    {
     "data": {
      "text/plain": [
       "['Price',\n",
       " 'rooms',\n",
       " 'price_per_m2',\n",
       " 'level',\n",
       " 'levels',\n",
       " 'year',\n",
       " 'area_total',\n",
       " 'area_living',\n",
       " 'area_kitchen',\n",
       " 'street',\n",
       " 'district',\n",
       " 'area_comfort']"
      ]
     },
     "execution_count": 36,
     "metadata": {},
     "output_type": "execute_result"
    }
   ],
   "source": [
    "old_col = list(apartments.columns)\n",
    "old_col"
   ]
  },
  {
   "cell_type": "code",
   "execution_count": 50,
   "id": "2c9f5dd2",
   "metadata": {},
   "outputs": [
    {
     "data": {
      "text/plain": [
       "['Price',\n",
       " 'rooms',\n",
       " 'price_per_m2',\n",
       " 'level',\n",
       " 'levels',\n",
       " 'year',\n",
       " 'area_total',\n",
       " 'area_living',\n",
       " 'area_kitchen',\n",
       " 'area_comfort',\n",
       " 'street',\n",
       " 'district']"
      ]
     },
     "execution_count": 50,
     "metadata": {},
     "output_type": "execute_result"
    }
   ],
   "source": [
    "new_col = old_col[:9] + [old_col[-1]] + old_col[9:-1]\n",
    "new_col"
   ]
  },
  {
   "cell_type": "code",
   "execution_count": 51,
   "id": "37f0d201",
   "metadata": {},
   "outputs": [
    {
     "data": {
      "text/html": [
       "<div>\n",
       "<style scoped>\n",
       "    .dataframe tbody tr th:only-of-type {\n",
       "        vertical-align: middle;\n",
       "    }\n",
       "\n",
       "    .dataframe tbody tr th {\n",
       "        vertical-align: top;\n",
       "    }\n",
       "\n",
       "    .dataframe thead th {\n",
       "        text-align: right;\n",
       "    }\n",
       "</style>\n",
       "<table border=\"1\" class=\"dataframe\">\n",
       "  <thead>\n",
       "    <tr style=\"text-align: right;\">\n",
       "      <th></th>\n",
       "      <th>Price</th>\n",
       "      <th>rooms</th>\n",
       "      <th>price_per_m2</th>\n",
       "      <th>level</th>\n",
       "      <th>levels</th>\n",
       "      <th>year</th>\n",
       "      <th>area_total</th>\n",
       "      <th>area_living</th>\n",
       "      <th>area_kitchen</th>\n",
       "      <th>area_comfort</th>\n",
       "      <th>street</th>\n",
       "      <th>district</th>\n",
       "    </tr>\n",
       "  </thead>\n",
       "  <tbody>\n",
       "    <tr>\n",
       "      <th>0</th>\n",
       "      <td>140000.0</td>\n",
       "      <td>2.0</td>\n",
       "      <td>2258.0</td>\n",
       "      <td>7.0</td>\n",
       "      <td>9.0</td>\n",
       "      <td>1969.0</td>\n",
       "      <td>62.0</td>\n",
       "      <td>47.0</td>\n",
       "      <td>9.0</td>\n",
       "      <td>6.0</td>\n",
       "      <td>Омеляновича-Павленка</td>\n",
       "      <td>Оболонський</td>\n",
       "    </tr>\n",
       "    <tr>\n",
       "      <th>1</th>\n",
       "      <td>105000.0</td>\n",
       "      <td>4.0</td>\n",
       "      <td>847.0</td>\n",
       "      <td>25.0</td>\n",
       "      <td>26.0</td>\n",
       "      <td>2018.0</td>\n",
       "      <td>124.0</td>\n",
       "      <td>71.0</td>\n",
       "      <td>16.0</td>\n",
       "      <td>37.0</td>\n",
       "      <td>Ованеса Туманяна</td>\n",
       "      <td>Оболонський</td>\n",
       "    </tr>\n",
       "    <tr>\n",
       "      <th>2</th>\n",
       "      <td>175000.0</td>\n",
       "      <td>3.0</td>\n",
       "      <td>1786.0</td>\n",
       "      <td>25.0</td>\n",
       "      <td>26.0</td>\n",
       "      <td>2010.0</td>\n",
       "      <td>98.0</td>\n",
       "      <td>37.0</td>\n",
       "      <td>14.0</td>\n",
       "      <td>47.0</td>\n",
       "      <td>Ованеса Туманяна</td>\n",
       "      <td>Оболонський</td>\n",
       "    </tr>\n",
       "    <tr>\n",
       "      <th>3</th>\n",
       "      <td>30970.0</td>\n",
       "      <td>1.0</td>\n",
       "      <td>1106.0</td>\n",
       "      <td>12.0</td>\n",
       "      <td>13.0</td>\n",
       "      <td>2013.0</td>\n",
       "      <td>28.0</td>\n",
       "      <td>13.0</td>\n",
       "      <td>5.0</td>\n",
       "      <td>10.0</td>\n",
       "      <td>Петропавлівська</td>\n",
       "      <td>Оболонський</td>\n",
       "    </tr>\n",
       "    <tr>\n",
       "      <th>4</th>\n",
       "      <td>82000.0</td>\n",
       "      <td>2.0</td>\n",
       "      <td>1281.0</td>\n",
       "      <td>18.0</td>\n",
       "      <td>26.0</td>\n",
       "      <td>2009.0</td>\n",
       "      <td>64.0</td>\n",
       "      <td>37.0</td>\n",
       "      <td>14.0</td>\n",
       "      <td>13.0</td>\n",
       "      <td>Дніпровська</td>\n",
       "      <td>Оболонський</td>\n",
       "    </tr>\n",
       "  </tbody>\n",
       "</table>\n",
       "</div>"
      ],
      "text/plain": [
       "      Price  rooms  price_per_m2  level  levels    year  area_total  \\\n",
       "0  140000.0    2.0        2258.0    7.0     9.0  1969.0        62.0   \n",
       "1  105000.0    4.0         847.0   25.0    26.0  2018.0       124.0   \n",
       "2  175000.0    3.0        1786.0   25.0    26.0  2010.0        98.0   \n",
       "3   30970.0    1.0        1106.0   12.0    13.0  2013.0        28.0   \n",
       "4   82000.0    2.0        1281.0   18.0    26.0  2009.0        64.0   \n",
       "\n",
       "   area_living  area_kitchen  area_comfort                street     district  \n",
       "0         47.0           9.0           6.0  Омеляновича-Павленка  Оболонський  \n",
       "1         71.0          16.0          37.0      Ованеса Туманяна  Оболонський  \n",
       "2         37.0          14.0          47.0      Ованеса Туманяна  Оболонський  \n",
       "3         13.0           5.0          10.0       Петропавлівська  Оболонський  \n",
       "4         37.0          14.0          13.0           Дніпровська  Оболонський  "
      ]
     },
     "execution_count": 51,
     "metadata": {},
     "output_type": "execute_result"
    }
   ],
   "source": [
    "apartments = apartments[new_col]\n",
    "apartments.head()"
   ]
  },
  {
   "cell_type": "code",
   "execution_count": 52,
   "id": "efdf3071",
   "metadata": {},
   "outputs": [],
   "source": [
    "apartments.to_csv('./apartments_final.csv', index=False)"
   ]
  },
  {
   "cell_type": "markdown",
   "id": "b3f452c9",
   "metadata": {},
   "source": [
    "### 5"
   ]
  },
  {
   "cell_type": "code",
   "execution_count": 48,
   "id": "a5ac2834",
   "metadata": {},
   "outputs": [],
   "source": [
    "import pandas as pd\n",
    "import matplotlib.pyplot as plt\n",
    "\n",
    "# Assuming 'data' is your DataFrame\n",
    "# Select features and target\n",
    "features = list(apartments.columns[1:-3])\n",
    "target = ['Price']"
   ]
  },
  {
   "cell_type": "code",
   "execution_count": 49,
   "id": "033efdd8",
   "metadata": {},
   "outputs": [
    {
     "data": {
      "text/plain": [
       "['rooms',\n",
       " 'price_per_m2',\n",
       " 'level',\n",
       " 'levels',\n",
       " 'year',\n",
       " 'area_total',\n",
       " 'area_living',\n",
       " 'area_kitchen',\n",
       " 'area_comfort',\n",
       " 'Price']"
      ]
     },
     "execution_count": 49,
     "metadata": {},
     "output_type": "execute_result"
    }
   ],
   "source": [
    "features + target"
   ]
  },
  {
   "cell_type": "code",
   "execution_count": 50,
   "id": "015782dc",
   "metadata": {
    "scrolled": true
   },
   "outputs": [],
   "source": [
    "correlation_matrix = apartments[features + target].corr()"
   ]
  },
  {
   "cell_type": "code",
   "execution_count": 51,
   "id": "5c429e2f",
   "metadata": {},
   "outputs": [
    {
     "data": {
      "text/plain": [
       "(10, 10)"
      ]
     },
     "execution_count": 51,
     "metadata": {},
     "output_type": "execute_result"
    }
   ],
   "source": [
    "correlation_matrix.shape"
   ]
  },
  {
   "cell_type": "code",
   "execution_count": 52,
   "id": "f28cdd66",
   "metadata": {},
   "outputs": [],
   "source": [
    "# Extract the target correlation values\n",
    "target_correlation = correlation_matrix[target].loc[features]"
   ]
  },
  {
   "cell_type": "code",
   "execution_count": 73,
   "id": "f2dfedbd",
   "metadata": {},
   "outputs": [
    {
     "data": {
      "text/plain": [
       "(9, 1)"
      ]
     },
     "execution_count": 73,
     "metadata": {},
     "output_type": "execute_result"
    }
   ],
   "source": [
    "target_correlation.shape"
   ]
  },
  {
   "cell_type": "code",
   "execution_count": 91,
   "id": "756139bf",
   "metadata": {},
   "outputs": [
    {
     "data": {
      "image/png": "[encoded data removed]",
      "text/plain": [
       "<Figure size 1000x500 with 1 Axes>"
      ]
     },
     "metadata": {},
     "output_type": "display_data"
    }
   ],
   "source": [
    "# Plot the correlation values\n",
    "target_correlation.plot(kind='bar', figsize=(10,5), color='g', alpha=.7)\n",
    "\n",
    "# Add labels\n",
    "plt.xlabel(\"Ознаки\")\n",
    "plt.ylabel(\"Рівень кореляції\")\n",
    "plt.legend(['Ціна'])\n",
    "plt.title('Зв`язок показчиків з ціною')\n",
    "plt.grid(True, axis='y', linestyle='dashed')\n",
    "\n",
    "# Show the plot\n",
    "plt.show()"
   ]
  },
  {
   "cell_type": "code",
   "execution_count": 121,
   "id": "8f943480",
   "metadata": {},
   "outputs": [
    {
     "data": {
      "image/png": "[encoded data removed]",
      "text/plain": [
       "<Figure size 1000x500 with 3 Axes>"
      ]
     },
     "metadata": {},
     "output_type": "display_data"
    }
   ],
   "source": [
    "import matplotlib.pyplot as plt\n",
    "\n",
    "# Create a figure and set its size\n",
    "fig = plt.figure(figsize=(10, 5))\n",
    "\n",
    "# Create a subplot for each feature\n",
    "ax1 = fig.add_subplot(1, 3, 1)\n",
    "ax2 = fig.add_subplot(1, 3, 2)\n",
    "ax3 = fig.add_subplot(1, 3, 3)\n",
    "ax3 = fig.add_subplot?\n",
    "\n",
    "# Plot the box plot for each feature\n",
    "apartments.boxplot(column='year', ax=ax1)\n",
    "apartments.boxplot(column='rooms', ax=ax2)\n",
    "apartments.boxplot(column='levels', ax=ax3)\n",
    "\n",
    "# Add a title for each subplot\n",
    "# ax1.set_title(\"Рік\")\n",
    "# ax2.set_title(\"Кількість кімнат\")\n",
    "# ax3.set_title(\"Кількість поверхів\")\n",
    "\n",
    "plt.title('Розмах варіації деяких показчиків')\n",
    "\n",
    "# Display the figure\n",
    "plt.show()\n"
   ]
  },
  {
   "cell_type": "code",
   "execution_count": 95,
   "id": "763dcd87",
   "metadata": {},
   "outputs": [
    {
     "data": {
      "image/png": "[encoded data removed]",
      "text/plain": [
       "<Figure size 1000x500 with 1 Axes>"
      ]
     },
     "metadata": {},
     "output_type": "display_data"
    }
   ],
   "source": [
    "import matplotlib.pyplot as plt\n",
    "\n",
    "# Create a figure and set its size\n",
    "fig = plt.figure(figsize=(10, 5))\n",
    "\n",
    "# Create a single subplot\n",
    "ax = fig.add_subplot(1, 1, 1)\n",
    "\n",
    "# Set the x-axis to be logarithmic\n",
    "ax.set_xscale('log')\n",
    "\n",
    "# Plot the box plot for each feature\n",
    "apartments.boxplot(column=features, ax=ax, vert=False)\n",
    "\n",
    "# Add a title for the subplot\n",
    "ax.set_title(\"Box Plot for Features a, b, c\")\n",
    "\n",
    "# Display the figure\n",
    "plt.show()\n"
   ]
  },
  {
   "cell_type": "markdown",
   "id": "707ae291",
   "metadata": {},
   "source": [
    "### Categories"
   ]
  },
  {
   "cell_type": "code",
   "execution_count": 28,
   "id": "d524b28b",
   "metadata": {},
   "outputs": [],
   "source": [
    "import pandas as pd\n",
    "data = pd.read_csv('apartments_category.csv')"
   ]
  },
  {
   "cell_type": "code",
   "execution_count": 29,
   "id": "810ad836",
   "metadata": {},
   "outputs": [
    {
     "data": {
      "text/html": [
       "<div>\n",
       "<style scoped>\n",
       "    .dataframe tbody tr th:only-of-type {\n",
       "        vertical-align: middle;\n",
       "    }\n",
       "\n",
       "    .dataframe tbody tr th {\n",
       "        vertical-align: top;\n",
       "    }\n",
       "\n",
       "    .dataframe thead th {\n",
       "        text-align: right;\n",
       "    }\n",
       "</style>\n",
       "<table border=\"1\" class=\"dataframe\">\n",
       "  <thead>\n",
       "    <tr style=\"text-align: right;\">\n",
       "      <th></th>\n",
       "      <th>Price</th>\n",
       "      <th>rooms</th>\n",
       "      <th>price_per_m2</th>\n",
       "      <th>level</th>\n",
       "      <th>levels</th>\n",
       "      <th>year</th>\n",
       "      <th>area_total</th>\n",
       "      <th>area_living</th>\n",
       "      <th>area_kitchen</th>\n",
       "      <th>area_comfort</th>\n",
       "      <th>street</th>\n",
       "      <th>district</th>\n",
       "      <th>category</th>\n",
       "    </tr>\n",
       "  </thead>\n",
       "  <tbody>\n",
       "    <tr>\n",
       "      <th>0</th>\n",
       "      <td>140000.0</td>\n",
       "      <td>2.0</td>\n",
       "      <td>2258.0</td>\n",
       "      <td>7.0</td>\n",
       "      <td>9.0</td>\n",
       "      <td>1969.0</td>\n",
       "      <td>62.0</td>\n",
       "      <td>47.0</td>\n",
       "      <td>9.0</td>\n",
       "      <td>6.0</td>\n",
       "      <td>Омеляновича-Павленка</td>\n",
       "      <td>Оболонський</td>\n",
       "      <td>економ</td>\n",
       "    </tr>\n",
       "    <tr>\n",
       "      <th>1</th>\n",
       "      <td>105000.0</td>\n",
       "      <td>4.0</td>\n",
       "      <td>847.0</td>\n",
       "      <td>25.0</td>\n",
       "      <td>26.0</td>\n",
       "      <td>2018.0</td>\n",
       "      <td>124.0</td>\n",
       "      <td>71.0</td>\n",
       "      <td>16.0</td>\n",
       "      <td>37.0</td>\n",
       "      <td>Ованеса Туманяна</td>\n",
       "      <td>Оболонський</td>\n",
       "      <td>бізнес</td>\n",
       "    </tr>\n",
       "    <tr>\n",
       "      <th>2</th>\n",
       "      <td>175000.0</td>\n",
       "      <td>3.0</td>\n",
       "      <td>1786.0</td>\n",
       "      <td>25.0</td>\n",
       "      <td>26.0</td>\n",
       "      <td>2010.0</td>\n",
       "      <td>98.0</td>\n",
       "      <td>37.0</td>\n",
       "      <td>14.0</td>\n",
       "      <td>47.0</td>\n",
       "      <td>Ованеса Туманяна</td>\n",
       "      <td>Оболонський</td>\n",
       "      <td>бізнес</td>\n",
       "    </tr>\n",
       "    <tr>\n",
       "      <th>3</th>\n",
       "      <td>30970.0</td>\n",
       "      <td>1.0</td>\n",
       "      <td>1106.0</td>\n",
       "      <td>12.0</td>\n",
       "      <td>13.0</td>\n",
       "      <td>2013.0</td>\n",
       "      <td>28.0</td>\n",
       "      <td>13.0</td>\n",
       "      <td>5.0</td>\n",
       "      <td>10.0</td>\n",
       "      <td>Петропавлівська</td>\n",
       "      <td>Оболонський</td>\n",
       "      <td>економ</td>\n",
       "    </tr>\n",
       "    <tr>\n",
       "      <th>4</th>\n",
       "      <td>82000.0</td>\n",
       "      <td>2.0</td>\n",
       "      <td>1281.0</td>\n",
       "      <td>18.0</td>\n",
       "      <td>26.0</td>\n",
       "      <td>2009.0</td>\n",
       "      <td>64.0</td>\n",
       "      <td>37.0</td>\n",
       "      <td>14.0</td>\n",
       "      <td>13.0</td>\n",
       "      <td>Дніпровська</td>\n",
       "      <td>Оболонський</td>\n",
       "      <td>бізнес</td>\n",
       "    </tr>\n",
       "  </tbody>\n",
       "</table>\n",
       "</div>"
      ],
      "text/plain": [
       "      Price  rooms  price_per_m2  level  levels    year  area_total  \\\n",
       "0  140000.0    2.0        2258.0    7.0     9.0  1969.0        62.0   \n",
       "1  105000.0    4.0         847.0   25.0    26.0  2018.0       124.0   \n",
       "2  175000.0    3.0        1786.0   25.0    26.0  2010.0        98.0   \n",
       "3   30970.0    1.0        1106.0   12.0    13.0  2013.0        28.0   \n",
       "4   82000.0    2.0        1281.0   18.0    26.0  2009.0        64.0   \n",
       "\n",
       "   area_living  area_kitchen  area_comfort                street     district  \\\n",
       "0         47.0           9.0           6.0  Омеляновича-Павленка  Оболонський   \n",
       "1         71.0          16.0          37.0      Ованеса Туманяна  Оболонський   \n",
       "2         37.0          14.0          47.0      Ованеса Туманяна  Оболонський   \n",
       "3         13.0           5.0          10.0       Петропавлівська  Оболонський   \n",
       "4         37.0          14.0          13.0           Дніпровська  Оболонський   \n",
       "\n",
       "  category  \n",
       "0   економ  \n",
       "1   бізнес  \n",
       "2   бізнес  \n",
       "3   економ  \n",
       "4   бізнес  "
      ]
     },
     "execution_count": 29,
     "metadata": {},
     "output_type": "execute_result"
    }
   ],
   "source": [
    "data.head()"
   ]
  },
  {
   "cell_type": "code",
   "execution_count": 30,
   "id": "ba1479f7",
   "metadata": {},
   "outputs": [
    {
     "data": {
      "text/plain": [
       "бізнес    569\n",
       "економ    104\n",
       "еліт        3\n",
       "Name: category, dtype: int64"
      ]
     },
     "execution_count": 30,
     "metadata": {},
     "output_type": "execute_result"
    }
   ],
   "source": [
    "data['category'].value_counts()"
   ]
  },
  {
   "cell_type": "code",
   "execution_count": 26,
   "id": "59e1c1b5",
   "metadata": {},
   "outputs": [
    {
     "data": {
      "text/html": [
       "<div>\n",
       "<style scoped>\n",
       "    .dataframe tbody tr th:only-of-type {\n",
       "        vertical-align: middle;\n",
       "    }\n",
       "\n",
       "    .dataframe tbody tr th {\n",
       "        vertical-align: top;\n",
       "    }\n",
       "\n",
       "    .dataframe thead th {\n",
       "        text-align: right;\n",
       "    }\n",
       "</style>\n",
       "<table border=\"1\" class=\"dataframe\">\n",
       "  <thead>\n",
       "    <tr style=\"text-align: right;\">\n",
       "      <th></th>\n",
       "      <th>Price</th>\n",
       "      <th>rooms</th>\n",
       "      <th>price_per_m2</th>\n",
       "      <th>level</th>\n",
       "      <th>levels</th>\n",
       "      <th>year</th>\n",
       "      <th>area_total</th>\n",
       "      <th>area_living</th>\n",
       "      <th>area_kitchen</th>\n",
       "      <th>area_comfort</th>\n",
       "      <th>street</th>\n",
       "      <th>district</th>\n",
       "      <th>category</th>\n",
       "    </tr>\n",
       "  </thead>\n",
       "  <tbody>\n",
       "  </tbody>\n",
       "</table>\n",
       "</div>"
      ],
      "text/plain": [
       "Empty DataFrame\n",
       "Columns: [Price, rooms, price_per_m2, level, levels, year, area_total, area_living, area_kitchen, area_comfort, street, district, category]\n",
       "Index: []"
      ]
     },
     "execution_count": 26,
     "metadata": {},
     "output_type": "execute_result"
    }
   ],
   "source": [
    "data[data['category'] == np.nan]"
   ]
  },
  {
   "cell_type": "code",
   "execution_count": 27,
   "id": "ec6f782e",
   "metadata": {},
   "outputs": [
    {
     "data": {
      "text/plain": [
       "(676, 13)"
      ]
     },
     "execution_count": 27,
     "metadata": {},
     "output_type": "execute_result"
    }
   ],
   "source": [
    "data.shape"
   ]
  },
  {
   "cell_type": "markdown",
   "id": "8cf11b1b",
   "metadata": {},
   "source": [
    "### Styling"
   ]
  },
  {
   "cell_type": "code",
   "execution_count": 31,
   "id": "51225e1c",
   "metadata": {},
   "outputs": [],
   "source": [
    "import matplotlib.pyplot as plt"
   ]
  },
  {
   "cell_type": "code",
   "execution_count": 34,
   "id": "7f56d869",
   "metadata": {
    "collapsed": true
   },
   "outputs": [
    {
     "data": {
      "text/plain": [
       "['__all__',\n",
       " '__builtins__',\n",
       " '__cached__',\n",
       " '__doc__',\n",
       " '__file__',\n",
       " '__loader__',\n",
       " '__name__',\n",
       " '__package__',\n",
       " '__path__',\n",
       " '__spec__',\n",
       " 'available',\n",
       " 'context',\n",
       " 'core',\n",
       " 'library',\n",
       " 'reload_library',\n",
       " 'use']"
      ]
     },
     "execution_count": 34,
     "metadata": {},
     "output_type": "execute_result"
    }
   ],
   "source": [
    "dir(plt.style)"
   ]
  },
  {
   "cell_type": "code",
   "execution_count": 37,
   "id": "4ff68760",
   "metadata": {},
   "outputs": [
    {
     "name": "stdout",
     "output_type": "stream",
     "text": [
      "['Solarize_Light2', '_classic_test_patch', '_mpl-gallery', '_mpl-gallery-nogrid', 'bmh', 'classic', 'dark_background', 'fast', 'fivethirtyeight', 'ggplot', 'grayscale', 'seaborn-v0_8', 'seaborn-v0_8-bright', 'seaborn-v0_8-colorblind', 'seaborn-v0_8-dark', 'seaborn-v0_8-dark-palette', 'seaborn-v0_8-darkgrid', 'seaborn-v0_8-deep', 'seaborn-v0_8-muted', 'seaborn-v0_8-notebook', 'seaborn-v0_8-paper', 'seaborn-v0_8-pastel', 'seaborn-v0_8-poster', 'seaborn-v0_8-talk', 'seaborn-v0_8-ticks', 'seaborn-v0_8-white', 'seaborn-v0_8-whitegrid', 'tableau-colorblind10']\n"
     ]
    }
   ],
   "source": [
    "print(plt.style.available)"
   ]
  },
  {
   "cell_type": "code",
   "execution_count": 66,
   "id": "be50b97b",
   "metadata": {},
   "outputs": [
    {
     "data": {
      "image/png": "[encoded data removed]",
      "text/plain": [
       "<Figure size 1000x500 with 3 Axes>"
      ]
     },
     "metadata": {},
     "output_type": "display_data"
    }
   ],
   "source": [
    "with plt.style.context('bmh'):\n",
    "    # Create a figure and set its size\n",
    "    fig = plt.figure(figsize=(10, 5))\n",
    "\n",
    "    # Create a subplot for each feature\n",
    "    ax1 = fig.add_subplot(1, 3, 1)\n",
    "    ax2 = fig.add_subplot(1, 3, 2)\n",
    "    ax3 = fig.add_subplot(1, 3, 3)\n",
    "    ax3 = fig.add_subplot?\n",
    "\n",
    "    # Plot the box plot for each feature\n",
    "    apartments.boxplot(column='year', ax=ax1)\n",
    "    apartments.boxplot(column='rooms', ax=ax2)\n",
    "    apartments.boxplot(column='levels', ax=ax3)\n",
    "\n",
    "    # Add a title for each subplot\n",
    "    # ax1.set_title(\"Рік\")\n",
    "    # ax2.set_title(\"Кількість кімнат\")\n",
    "    # ax3.set_title(\"Кількість поверхів\")\n",
    "\n",
    "    plt.title('Розмах варіації деяких показчиків')\n",
    "\n",
    "    # Display the figure\n",
    "    plt.show()\n"
   ]
  },
  {
   "cell_type": "code",
   "execution_count": null,
   "id": "f1b77b9d",
   "metadata": {},
   "outputs": [],
   "source": []
  }
 ],
 "metadata": {
  "kernelspec": {
   "display_name": "Python 3 (ipykernel)",
   "language": "python",
   "name": "python3"
  },
  "language_info": {
   "codemirror_mode": {
    "name": "ipython",
    "version": 3
   },
   "file_extension": ".py",
   "mimetype": "text/x-python",
   "name": "python",
   "nbconvert_exporter": "python",
   "pygments_lexer": "ipython3",
   "version": "3.11.0"
  },
  "varInspector": {
   "cols": {
    "lenName": 16,
    "lenType": 16,
    "lenVar": 40
   },
   "kernels_config": {
    "python": {
     "delete_cmd_postfix": "",
     "delete_cmd_prefix": "del ",
     "library": "var_list.py",
     "varRefreshCmd": "print(var_dic_list())"
    },
    "r": {
     "delete_cmd_postfix": ") ",
     "delete_cmd_prefix": "rm(",
     "library": "var_list.r",
     "varRefreshCmd": "cat(var_dic_list()) "
    }
   },
   "types_to_exclude": [
    "module",
    "function",
    "builtin_function_or_method",
    "instance",
    "_Feature"
   ],
   "window_display": false
  }
 },
 "nbformat": 4,
 "nbformat_minor": 5
}
