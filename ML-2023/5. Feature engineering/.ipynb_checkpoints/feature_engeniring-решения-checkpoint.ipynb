{
 "cells": [
  {
   "cell_type": "markdown",
   "id": "0dd7824e",
   "metadata": {},
   "source": [
    "# ЛАБОРАТОРНА РОБОТА \n",
    "## Елементи конструювання ознак в МН"
   ]
  },
  {
   "cell_type": "markdown",
   "id": "28e0d3d9",
   "metadata": {},
   "source": [
    "## Теоретичне введення"
   ]
  },
  {
   "cell_type": "markdown",
   "id": "988cb2df",
   "metadata": {},
   "source": [
    "[Конструювання ознак](https://ru.wikipedia.org/wiki/Конструирование_признаков) (_feature engineering_) - це процес створення нових ознак/показчиків або модифікації існуючих для поліпшення продуктивності моделей машинного навчання. \n",
    "\n",
    "__Ціль__ цього етапу - визначати основні закономірності в даних, які є актуальними для вирішуваної проблеми, та представити цю інформацію в формах та форматах, які можуть використовувати алгоритми машинного навчання."
   ]
  },
  {
   "cell_type": "markdown",
   "id": "b8658ea9",
   "metadata": {},
   "source": [
    "## Завдання"
   ]
  },
  {
   "cell_type": "markdown",
   "id": "004765f0",
   "metadata": {},
   "source": [
    "В даних ретейл-компанії які знаходяться в файлі `apartments_orig.csv` та відображають в відомості про продажі квартир на вторинному ринку зробити наступне:\n",
    "1. Провести попередній аналіз структури даних\n",
    "2. Знайти та видалити дубльовані рядки\n",
    "3. Провести реконструкцію пропущених даних\n",
    "4. Розробити та додати нові ознаки\n",
    "5. Зберегти оброблені дані в файлі `apartments_clean.csv`\n",
    "\n",
    "Завдання виконувати послідовно додержуючись інструкцій та коментарів"
   ]
  },
  {
   "cell_type": "markdown",
   "id": "4d991b4c",
   "metadata": {},
   "source": [
    "### 1. Підготовка "
   ]
  },
  {
   "cell_type": "code",
   "execution_count": 1,
   "id": "261ae0c4",
   "metadata": {},
   "outputs": [],
   "source": [
    "# імпортувати необхідні бібліотеки\n",
    "...\n",
    "import pandas as pd"
   ]
  },
  {
   "cell_type": "code",
   "execution_count": 2,
   "id": "33f795ae",
   "metadata": {},
   "outputs": [],
   "source": [
    "# створити датафрейм з ім'ям 'apartments' з файлу 'apartments.csv'\n",
    "apartments = pd.read_csv('apartments.csv')"
   ]
  },
  {
   "cell_type": "code",
   "execution_count": 3,
   "id": "10d5dacc",
   "metadata": {},
   "outputs": [
    {
     "data": {
      "text/html": [
       "<div>\n",
       "<style scoped>\n",
       "    .dataframe tbody tr th:only-of-type {\n",
       "        vertical-align: middle;\n",
       "    }\n",
       "\n",
       "    .dataframe tbody tr th {\n",
       "        vertical-align: top;\n",
       "    }\n",
       "\n",
       "    .dataframe thead th {\n",
       "        text-align: right;\n",
       "    }\n",
       "</style>\n",
       "<table border=\"1\" class=\"dataframe\">\n",
       "  <thead>\n",
       "    <tr style=\"text-align: right;\">\n",
       "      <th></th>\n",
       "      <th>Price</th>\n",
       "      <th>rooms</th>\n",
       "      <th>price_per_m2</th>\n",
       "      <th>level</th>\n",
       "      <th>levels</th>\n",
       "      <th>year</th>\n",
       "      <th>area_total</th>\n",
       "      <th>area_living</th>\n",
       "      <th>area_kitchen</th>\n",
       "      <th>street</th>\n",
       "      <th>publish_date</th>\n",
       "    </tr>\n",
       "  </thead>\n",
       "  <tbody>\n",
       "    <tr>\n",
       "      <th>0</th>\n",
       "      <td>140000.0</td>\n",
       "      <td>2.0</td>\n",
       "      <td>2258.0</td>\n",
       "      <td>7.0</td>\n",
       "      <td>9.0</td>\n",
       "      <td>1969.0</td>\n",
       "      <td>62.0</td>\n",
       "      <td>47.0</td>\n",
       "      <td>9.0</td>\n",
       "      <td>Омеляновича-Павленка</td>\n",
       "      <td>3 вересня 2020 р.</td>\n",
       "    </tr>\n",
       "    <tr>\n",
       "      <th>1</th>\n",
       "      <td>105000.0</td>\n",
       "      <td>4.0</td>\n",
       "      <td>847.0</td>\n",
       "      <td>25.0</td>\n",
       "      <td>26.0</td>\n",
       "      <td>2018.0</td>\n",
       "      <td>124.0</td>\n",
       "      <td>71.0</td>\n",
       "      <td>16.0</td>\n",
       "      <td>NaN</td>\n",
       "      <td>7 жовтня 2020 р.</td>\n",
       "    </tr>\n",
       "    <tr>\n",
       "      <th>2</th>\n",
       "      <td>175000.0</td>\n",
       "      <td>3.0</td>\n",
       "      <td>1786.0</td>\n",
       "      <td>25.0</td>\n",
       "      <td>26.0</td>\n",
       "      <td>2010.0</td>\n",
       "      <td>98.0</td>\n",
       "      <td>NaN</td>\n",
       "      <td>NaN</td>\n",
       "      <td>Ованеса Туманяна</td>\n",
       "      <td>1 жовтня 2020 р.</td>\n",
       "    </tr>\n",
       "    <tr>\n",
       "      <th>3</th>\n",
       "      <td>30970.0</td>\n",
       "      <td>1.0</td>\n",
       "      <td>1106.0</td>\n",
       "      <td>12.0</td>\n",
       "      <td>13.0</td>\n",
       "      <td>2013.0</td>\n",
       "      <td>28.0</td>\n",
       "      <td>13.0</td>\n",
       "      <td>5.0</td>\n",
       "      <td>Петропавлівська</td>\n",
       "      <td>1 лютого</td>\n",
       "    </tr>\n",
       "    <tr>\n",
       "      <th>4</th>\n",
       "      <td>82000.0</td>\n",
       "      <td>2.0</td>\n",
       "      <td>1281.0</td>\n",
       "      <td>18.0</td>\n",
       "      <td>26.0</td>\n",
       "      <td>NaN</td>\n",
       "      <td>64.0</td>\n",
       "      <td>NaN</td>\n",
       "      <td>NaN</td>\n",
       "      <td>Дніпровська</td>\n",
       "      <td>NaN</td>\n",
       "    </tr>\n",
       "  </tbody>\n",
       "</table>\n",
       "</div>"
      ],
      "text/plain": [
       "      Price  rooms  price_per_m2  level  levels    year  area_total  \\\n",
       "0  140000.0    2.0        2258.0    7.0     9.0  1969.0        62.0   \n",
       "1  105000.0    4.0         847.0   25.0    26.0  2018.0       124.0   \n",
       "2  175000.0    3.0        1786.0   25.0    26.0  2010.0        98.0   \n",
       "3   30970.0    1.0        1106.0   12.0    13.0  2013.0        28.0   \n",
       "4   82000.0    2.0        1281.0   18.0    26.0     NaN        64.0   \n",
       "\n",
       "   area_living  area_kitchen                street       publish_date  \n",
       "0         47.0           9.0  Омеляновича-Павленка  3 вересня 2020 р.  \n",
       "1         71.0          16.0                   NaN   7 жовтня 2020 р.  \n",
       "2          NaN           NaN      Ованеса Туманяна   1 жовтня 2020 р.  \n",
       "3         13.0           5.0       Петропавлівська           1 лютого  \n",
       "4          NaN           NaN           Дніпровська                NaN  "
      ]
     },
     "execution_count": 3,
     "metadata": {},
     "output_type": "execute_result"
    }
   ],
   "source": [
    "# вивести загальну інформацію про датафрейм (head, info, describe, ...)\n",
    "apartments.head()"
   ]
  },
  {
   "cell_type": "code",
   "execution_count": 4,
   "id": "0447c1be",
   "metadata": {},
   "outputs": [
    {
     "name": "stdout",
     "output_type": "stream",
     "text": [
      "<class 'pandas.core.frame.DataFrame'>\n",
      "RangeIndex: 728 entries, 0 to 727\n",
      "Data columns (total 11 columns):\n",
      " #   Column        Non-Null Count  Dtype  \n",
      "---  ------        --------------  -----  \n",
      " 0   Price         728 non-null    float64\n",
      " 1   rooms         724 non-null    float64\n",
      " 2   price_per_m2  723 non-null    float64\n",
      " 3   level         703 non-null    float64\n",
      " 4   levels        703 non-null    float64\n",
      " 5   year          540 non-null    float64\n",
      " 6   area_total    640 non-null    float64\n",
      " 7   area_living   497 non-null    float64\n",
      " 8   area_kitchen  524 non-null    float64\n",
      " 9   street        715 non-null    object \n",
      " 10  publish_date  550 non-null    object \n",
      "dtypes: float64(9), object(2)\n",
      "memory usage: 62.7+ KB\n"
     ]
    }
   ],
   "source": [
    "apartments.info()"
   ]
  },
  {
   "cell_type": "code",
   "execution_count": 5,
   "id": "128d13a4",
   "metadata": {},
   "outputs": [
    {
     "data": {
      "text/html": [
       "<div>\n",
       "<style scoped>\n",
       "    .dataframe tbody tr th:only-of-type {\n",
       "        vertical-align: middle;\n",
       "    }\n",
       "\n",
       "    .dataframe tbody tr th {\n",
       "        vertical-align: top;\n",
       "    }\n",
       "\n",
       "    .dataframe thead th {\n",
       "        text-align: right;\n",
       "    }\n",
       "</style>\n",
       "<table border=\"1\" class=\"dataframe\">\n",
       "  <thead>\n",
       "    <tr style=\"text-align: right;\">\n",
       "      <th></th>\n",
       "      <th>Price</th>\n",
       "      <th>rooms</th>\n",
       "      <th>price_per_m2</th>\n",
       "      <th>level</th>\n",
       "      <th>levels</th>\n",
       "      <th>year</th>\n",
       "      <th>area_total</th>\n",
       "      <th>area_living</th>\n",
       "      <th>area_kitchen</th>\n",
       "    </tr>\n",
       "  </thead>\n",
       "  <tbody>\n",
       "    <tr>\n",
       "      <th>count</th>\n",
       "      <td>7.280000e+02</td>\n",
       "      <td>724.000000</td>\n",
       "      <td>723.000000</td>\n",
       "      <td>703.000000</td>\n",
       "      <td>703.000000</td>\n",
       "      <td>540.000000</td>\n",
       "      <td>640.000000</td>\n",
       "      <td>497.000000</td>\n",
       "      <td>524.000000</td>\n",
       "    </tr>\n",
       "    <tr>\n",
       "      <th>mean</th>\n",
       "      <td>2.001384e+05</td>\n",
       "      <td>2.226519</td>\n",
       "      <td>2090.259059</td>\n",
       "      <td>9.631579</td>\n",
       "      <td>17.695590</td>\n",
       "      <td>1996.662963</td>\n",
       "      <td>79.928125</td>\n",
       "      <td>42.301811</td>\n",
       "      <td>15.881679</td>\n",
       "    </tr>\n",
       "    <tr>\n",
       "      <th>std</th>\n",
       "      <td>6.748939e+05</td>\n",
       "      <td>1.027190</td>\n",
       "      <td>5900.910584</td>\n",
       "      <td>6.931243</td>\n",
       "      <td>8.458113</td>\n",
       "      <td>27.125786</td>\n",
       "      <td>51.143278</td>\n",
       "      <td>30.571793</td>\n",
       "      <td>10.043182</td>\n",
       "    </tr>\n",
       "    <tr>\n",
       "      <th>min</th>\n",
       "      <td>1.009210e+04</td>\n",
       "      <td>1.000000</td>\n",
       "      <td>478.000000</td>\n",
       "      <td>1.000000</td>\n",
       "      <td>2.000000</td>\n",
       "      <td>1860.000000</td>\n",
       "      <td>15.000000</td>\n",
       "      <td>10.000000</td>\n",
       "      <td>3.000000</td>\n",
       "    </tr>\n",
       "    <tr>\n",
       "      <th>25%</th>\n",
       "      <td>6.500000e+04</td>\n",
       "      <td>1.000000</td>\n",
       "      <td>1147.000000</td>\n",
       "      <td>4.000000</td>\n",
       "      <td>9.000000</td>\n",
       "      <td>1977.000000</td>\n",
       "      <td>50.000000</td>\n",
       "      <td>25.000000</td>\n",
       "      <td>10.000000</td>\n",
       "    </tr>\n",
       "    <tr>\n",
       "      <th>50%</th>\n",
       "      <td>1.039500e+05</td>\n",
       "      <td>2.000000</td>\n",
       "      <td>1562.000000</td>\n",
       "      <td>8.000000</td>\n",
       "      <td>19.000000</td>\n",
       "      <td>2010.000000</td>\n",
       "      <td>68.500000</td>\n",
       "      <td>37.000000</td>\n",
       "      <td>14.000000</td>\n",
       "    </tr>\n",
       "    <tr>\n",
       "      <th>75%</th>\n",
       "      <td>1.700000e+05</td>\n",
       "      <td>3.000000</td>\n",
       "      <td>2188.000000</td>\n",
       "      <td>14.000000</td>\n",
       "      <td>25.000000</td>\n",
       "      <td>2016.000000</td>\n",
       "      <td>92.250000</td>\n",
       "      <td>50.000000</td>\n",
       "      <td>18.000000</td>\n",
       "    </tr>\n",
       "    <tr>\n",
       "      <th>max</th>\n",
       "      <td>1.570000e+07</td>\n",
       "      <td>7.000000</td>\n",
       "      <td>157000.000000</td>\n",
       "      <td>33.000000</td>\n",
       "      <td>47.000000</td>\n",
       "      <td>2021.000000</td>\n",
       "      <td>520.000000</td>\n",
       "      <td>320.000000</td>\n",
       "      <td>78.000000</td>\n",
       "    </tr>\n",
       "  </tbody>\n",
       "</table>\n",
       "</div>"
      ],
      "text/plain": [
       "              Price       rooms   price_per_m2       level      levels  \\\n",
       "count  7.280000e+02  724.000000     723.000000  703.000000  703.000000   \n",
       "mean   2.001384e+05    2.226519    2090.259059    9.631579   17.695590   \n",
       "std    6.748939e+05    1.027190    5900.910584    6.931243    8.458113   \n",
       "min    1.009210e+04    1.000000     478.000000    1.000000    2.000000   \n",
       "25%    6.500000e+04    1.000000    1147.000000    4.000000    9.000000   \n",
       "50%    1.039500e+05    2.000000    1562.000000    8.000000   19.000000   \n",
       "75%    1.700000e+05    3.000000    2188.000000   14.000000   25.000000   \n",
       "max    1.570000e+07    7.000000  157000.000000   33.000000   47.000000   \n",
       "\n",
       "              year  area_total  area_living  area_kitchen  \n",
       "count   540.000000  640.000000   497.000000    524.000000  \n",
       "mean   1996.662963   79.928125    42.301811     15.881679  \n",
       "std      27.125786   51.143278    30.571793     10.043182  \n",
       "min    1860.000000   15.000000    10.000000      3.000000  \n",
       "25%    1977.000000   50.000000    25.000000     10.000000  \n",
       "50%    2010.000000   68.500000    37.000000     14.000000  \n",
       "75%    2016.000000   92.250000    50.000000     18.000000  \n",
       "max    2021.000000  520.000000   320.000000     78.000000  "
      ]
     },
     "execution_count": 5,
     "metadata": {},
     "output_type": "execute_result"
    }
   ],
   "source": [
    "apartments.describe()"
   ]
  },
  {
   "cell_type": "code",
   "execution_count": null,
   "id": "e028a0fe",
   "metadata": {},
   "outputs": [],
   "source": []
  }
 ],
 "metadata": {
  "kernelspec": {
   "display_name": "Python 3 (ipykernel)",
   "language": "python",
   "name": "python3"
  },
  "language_info": {
   "codemirror_mode": {
    "name": "ipython",
    "version": 3
   },
   "file_extension": ".py",
   "mimetype": "text/x-python",
   "name": "python",
   "nbconvert_exporter": "python",
   "pygments_lexer": "ipython3",
   "version": "3.11.0"
  },
  "varInspector": {
   "cols": {
    "lenName": 16,
    "lenType": 16,
    "lenVar": 40
   },
   "kernels_config": {
    "python": {
     "delete_cmd_postfix": "",
     "delete_cmd_prefix": "del ",
     "library": "var_list.py",
     "varRefreshCmd": "print(var_dic_list())"
    },
    "r": {
     "delete_cmd_postfix": ") ",
     "delete_cmd_prefix": "rm(",
     "library": "var_list.r",
     "varRefreshCmd": "cat(var_dic_list()) "
    }
   },
   "types_to_exclude": [
    "module",
    "function",
    "builtin_function_or_method",
    "instance",
    "_Feature"
   ],
   "window_display": false
  }
 },
 "nbformat": 4,
 "nbformat_minor": 5
}
