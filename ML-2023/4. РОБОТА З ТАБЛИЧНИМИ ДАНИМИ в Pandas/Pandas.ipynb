{
 "cells": [
  {
   "cell_type": "markdown",
   "id": "4e46fd31",
   "metadata": {
    "slideshow": {
     "slide_type": "slide"
    }
   },
   "source": [
    "# Робота з табличними даними в Pandas\n",
    "\n"
   ]
  },
  {
   "cell_type": "markdown",
   "id": "387ae429",
   "metadata": {
    "slideshow": {
     "slide_type": "slide"
    }
   },
   "source": [
    "1. #### Огляд та призначення Pandas\n",
    "2. #### Встановлення та настроювання Pandas\n",
    "3. #### Об'єкти Series та DataFrame\n",
    "4. #### Статистична обробка даних в Pandas"
   ]
  },
  {
   "cell_type": "markdown",
   "id": "7dcf8f14",
   "metadata": {
    "slideshow": {
     "slide_type": "slide"
    }
   },
   "source": [
    "## 1. Огляд та призначення Pandas"
   ]
  },
  {
   "cell_type": "markdown",
   "id": "a1fafb2b",
   "metadata": {
    "slideshow": {
     "slide_type": "subslide"
    }
   },
   "source": [
    "__pandas__ — [програмна бібліотека, написана для мови програмування Python для маніпулювання даними та їхнього аналізу](https://uk.wikipedia.org/wiki/Pandas)"
   ]
  },
  {
   "cell_type": "markdown",
   "id": "354ec64d",
   "metadata": {
    "slideshow": {
     "slide_type": "subslide"
    }
   },
   "source": [
    "<table>\n",
    "  <tr>\n",
    "      <td><a href=\"https://pandas.pydata.org\"><img src=\"icon_pandas.png\" width=200 /></a></td>\n",
    "      <td><a href=\"https://pypi.org/project/pandas2/\"><img src=\"icon_pypi.png\" width=200 /></a></td>\n",
    "      <td><a href=\"https://github.com/pandas-dev/pandas\"><img src=\"icon_github.png\" width=200 /></a></td>\n",
    "  </tr>\n",
    "</table>"
   ]
  },
  {
   "cell_type": "markdown",
   "id": "d557ba95",
   "metadata": {
    "slideshow": {
     "slide_type": "subslide"
    }
   },
   "source": [
    "__ПЕРЕВАГИ__:\n",
    "- Добре представлення даних\n",
    "- Мінімальне використання програмного коду\n",
    "- Ефективна обробка великих об'ємів даних\n",
    "- Багатофункціональність\n",
    "- Природня інтеграція з Python\n",
    "- Легкість в настроювані"
   ]
  },
  {
   "cell_type": "markdown",
   "id": "9966ad06",
   "metadata": {
    "slideshow": {
     "slide_type": "subslide"
    }
   },
   "source": [
    "__НЕДОЛІКИ__:\n",
    "- Занадто складний синтаксис\n",
    "- Високий барєр входження\n",
    "- Бідна документація"
   ]
  },
  {
   "cell_type": "markdown",
   "id": "5d3943fc",
   "metadata": {
    "slideshow": {
     "slide_type": "slide"
    }
   },
   "source": [
    "## 2. Встановлення та настроювання Pandas"
   ]
  },
  {
   "cell_type": "markdown",
   "id": "a4585581",
   "metadata": {
    "slideshow": {
     "slide_type": "subslide"
    }
   },
   "source": [
    "- В [Anaconda](https://www.anaconda.com) __Pandas__ встановлюється за замовчанням.\n",
    "- З офіційного [сайту](https://pandas.pydata.org) \n",
    "- Ручна инсталяция включає:\n",
    "    - встановлення [__numpy__](https://numpy.org)\n",
    "    - встановлення [__pandas__](https://pypi.org/project/pandas2/)\n",
    " "
   ]
  },
  {
   "cell_type": "code",
   "execution_count": 2,
   "id": "2269fb77",
   "metadata": {},
   "outputs": [
    {
     "name": "stdout",
     "output_type": "stream",
     "text": [
      "pandas                            1.5.3\r\n",
      "pandocfilters                     1.5.0\r\n"
     ]
    }
   ],
   "source": [
    "!pip list | grep pand"
   ]
  },
  {
   "cell_type": "code",
   "execution_count": 1,
   "id": "169f820c",
   "metadata": {
    "slideshow": {
     "slide_type": "subslide"
    }
   },
   "outputs": [],
   "source": [
    "# активація pandas\n",
    "import pandas as pd"
   ]
  },
  {
   "cell_type": "code",
   "execution_count": 3,
   "id": "23c50699",
   "metadata": {
    "slideshow": {
     "slide_type": "subslide"
    }
   },
   "outputs": [
    {
     "data": {
      "text/plain": [
       "module"
      ]
     },
     "execution_count": 3,
     "metadata": {},
     "output_type": "execute_result"
    }
   ],
   "source": [
    "type(pd)"
   ]
  },
  {
   "cell_type": "code",
   "execution_count": 4,
   "id": "b00555a3",
   "metadata": {
    "slideshow": {
     "slide_type": "subslide"
    }
   },
   "outputs": [
    {
     "data": {
      "text/plain": [
       "144"
      ]
     },
     "execution_count": 4,
     "metadata": {},
     "output_type": "execute_result"
    }
   ],
   "source": [
    "len(dir(pd))"
   ]
  },
  {
   "cell_type": "code",
   "execution_count": 5,
   "id": "25c26a76",
   "metadata": {
    "slideshow": {
     "slide_type": "subslide"
    }
   },
   "outputs": [
    {
     "name": "stdout",
     "output_type": "stream",
     "text": [
      "\n",
      "pandas - a powerful data analysis and manipulation library for Python\n",
      "=====================================================================\n",
      "\n",
      "**pandas** is a Python package providing fast, flexible, and expressive data\n",
      "structures designed to make working with \"relational\" or \"labeled\" data both\n",
      "easy and intuitive. It aims to be the fundamental high-level building block for\n",
      "doing practical, **real world** data analysis in Python. Additionally, it has\n",
      "the broader goal of becoming **the most powerful and flexible open source data\n",
      "analysis / manipulation tool available in any language**. It is already well on\n",
      "its way toward this goal.\n",
      "\n",
      "Main Features\n",
      "-------------\n",
      "Here are just a few of the things that pandas does well:\n",
      "\n",
      "  - Easy handling of missing data in floating point as well as non-floating\n",
      "    point data.\n",
      "  - Size mutability: columns can be inserted and deleted from DataFrame and\n",
      "    higher dimensional objects\n",
      "  - Automatic and explicit data alignment: objects can be explicitly aligned\n",
      "    to a set of labels, or the user can simply ignore the labels and let\n",
      "    `Series`, `DataFrame`, etc. automatically align the data for you in\n",
      "    computations.\n",
      "  - Powerful, flexible group by functionality to perform split-apply-combine\n",
      "    operations on data sets, for both aggregating and transforming data.\n",
      "  - Make it easy to convert ragged, differently-indexed data in other Python\n",
      "    and NumPy data structures into DataFrame objects.\n",
      "  - Intelligent label-based slicing, fancy indexing, and subsetting of large\n",
      "    data sets.\n",
      "  - Intuitive merging and joining data sets.\n",
      "  - Flexible reshaping and pivoting of data sets.\n",
      "  - Hierarchical labeling of axes (possible to have multiple labels per tick).\n",
      "  - Robust IO tools for loading data from flat files (CSV and delimited),\n",
      "    Excel files, databases, and saving/loading data from the ultrafast HDF5\n",
      "    format.\n",
      "  - Time series-specific functionality: date range generation and frequency\n",
      "    conversion, moving window statistics, date shifting and lagging.\n",
      "\n"
     ]
    }
   ],
   "source": [
    "print(pd.__doc__)"
   ]
  },
  {
   "cell_type": "markdown",
   "id": "eb9e7907",
   "metadata": {
    "slideshow": {
     "slide_type": "slide"
    }
   },
   "source": [
    "## 3. Об'єкти Series та DataFrame"
   ]
  },
  {
   "cell_type": "markdown",
   "id": "0b3ad439",
   "metadata": {
    "slideshow": {
     "slide_type": "subslide"
    }
   },
   "source": [
    "Два __фундаментальних__ об'єкти:\n",
    "1. [Series](https://pandas.pydata.org/docs/reference/api/pandas.Series.html) - це об'єкт бібліотеки pandas, спроектований для представлення __одномірних__ структур даних, схожих на масиви, але з додатковими можливостями.\n",
    "2. [DataFrame](https://pandas.pydata.org/docs/reference/api/pandas.DataFrame.html) - це __таблична__ структура даних, що нагадує таблиці Microsoft Excel."
   ]
  },
  {
   "cell_type": "markdown",
   "id": "18af6d1b",
   "metadata": {
    "slideshow": {
     "slide_type": "subslide"
    }
   },
   "source": [
    "Деякі додаткові(службові) об'єкти:\n",
    "- [Index](https://pandas.pydata.org/docs/reference/api/pandas.Index.html) - використовується для швидкого доступу до елементів даних\n",
    "- [array](https://pandas.pydata.org/docs/reference/arrays.html) - надбудова над __numpy array__ для роботи з датами та часом\n",
    "- [MultiIndex](https://pandas.pydata.org/pandas-docs/stable/reference/api/pandas.MultiIndex.html) - для роботи з три та більше вимірними таблицями\n",
    "\n",
    "- ..."
   ]
  },
  {
   "cell_type": "markdown",
   "id": "c8086be6",
   "metadata": {
    "slideshow": {
     "slide_type": "slide"
    }
   },
   "source": [
    "### 3.1 Об'єкт Series\n",
    "1. одновимірний масив даних\n",
    "2. містить тільки один тип даних, наприклад, тільки __int__, тільки __str__, тільки об'єкт певного типу тощо\n"
   ]
  },
  {
   "attachments": {
    "image.png": {
     "image/png": "[encoded data removed]"
    }
   },
   "cell_type": "markdown",
   "id": "d8f06d21",
   "metadata": {
    "slideshow": {
     "slide_type": "subslide"
    }
   },
   "source": [
    "![image.png](attachment:image.png)"
   ]
  },
  {
   "cell_type": "markdown",
   "id": "56366fc7",
   "metadata": {
    "slideshow": {
     "slide_type": "slide"
    }
   },
   "source": [
    "#### Створення"
   ]
  },
  {
   "cell_type": "code",
   "execution_count": 10,
   "id": "1c3c5391",
   "metadata": {
    "scrolled": true,
    "slideshow": {
     "slide_type": "subslide"
    }
   },
   "outputs": [
    {
     "name": "stdout",
     "output_type": "stream",
     "text": [
      "0     Іванов\n",
      "1     Петров\n",
      "2    Сидоров\n",
      "dtype: object\n",
      "\n",
      "0    0.0\n",
      "1    1.0\n",
      "2    2.0\n",
      "3    3.0\n",
      "4    4.0\n",
      "dtype: float64\n"
     ]
    },
    {
     "data": {
      "text/plain": [
       "(None, None)"
      ]
     },
     "execution_count": 10,
     "metadata": {},
     "output_type": "execute_result"
    }
   ],
   "source": [
    "# Створення об'єкта Series з списка\n",
    "names = pd.Series([\"Іванов\", \"Петров\", \"Сидоров\"]) \n",
    "print(names)\n",
    "arr = np.arange(5, dtype='float')\n",
    "numb = pd.Series(arr)\n",
    "print(), print(numb)"
   ]
  },
  {
   "cell_type": "code",
   "execution_count": 11,
   "id": "43645a45",
   "metadata": {
    "slideshow": {
     "slide_type": "subslide"
    }
   },
   "outputs": [
    {
     "name": "stdout",
     "output_type": "stream",
     "text": [
      "Іванов    123\n",
      "Петров    345\n",
      "dtype: int64 \n",
      " <class 'pandas.core.series.Series'>\n"
     ]
    }
   ],
   "source": [
    "# Створення з словника\n",
    "tn = {\n",
    "    \"Іванов\" : 123,\n",
    "    \"Петров\" : 345\n",
    "}\n",
    "ser_tn = pd.Series(tn)\n",
    "print(ser_tn, \"\\n\", type(ser_tn))"
   ]
  },
  {
   "cell_type": "markdown",
   "id": "8dd0c7bf",
   "metadata": {
    "slideshow": {
     "slide_type": "slide"
    }
   },
   "source": [
    "#### Атрибути  об'єкта Series"
   ]
  },
  {
   "cell_type": "code",
   "execution_count": 12,
   "id": "976ba859",
   "metadata": {
    "slideshow": {
     "slide_type": "subslide"
    }
   },
   "outputs": [
    {
     "data": {
      "text/plain": [
       "421"
      ]
     },
     "execution_count": 12,
     "metadata": {},
     "output_type": "execute_result"
    }
   ],
   "source": [
    "len(dir(ser_tn))"
   ]
  },
  {
   "cell_type": "code",
   "execution_count": 14,
   "id": "f114998e",
   "metadata": {
    "slideshow": {
     "slide_type": "subslide"
    }
   },
   "outputs": [
    {
     "name": "stdout",
     "output_type": "stream",
     "text": [
      "Іванов    123\n",
      "Петров    345\n",
      "dtype: int64\n",
      "\n",
      "значення [123 345] <class 'numpy.ndarray'>\n",
      "\n",
      "індекси Index(['Іванов', 'Петров'], dtype='object') <class 'pandas.core.indexes.base.Index'>\n"
     ]
    },
    {
     "data": {
      "text/plain": [
       "'Іванов'"
      ]
     },
     "execution_count": 14,
     "metadata": {},
     "output_type": "execute_result"
    }
   ],
   "source": [
    "print(ser_tn) \n",
    "print(\"\\nзначення\", ser_tn.values, type(ser_tn.values))\n",
    "print(\"\\nіндекси\", ser_tn.index, type(ser_tn.index))\n",
    "ser_tn.index[0]"
   ]
  },
  {
   "cell_type": "markdown",
   "id": "c388345f",
   "metadata": {
    "slideshow": {
     "slide_type": "slide"
    }
   },
   "source": [
    "#### Методи"
   ]
  },
  {
   "cell_type": "code",
   "execution_count": 16,
   "id": "1b270477",
   "metadata": {},
   "outputs": [
    {
     "data": {
      "text/plain": [
       "Іванов    123\n",
       "Петров    345\n",
       "dtype: int64"
      ]
     },
     "execution_count": 16,
     "metadata": {},
     "output_type": "execute_result"
    }
   ],
   "source": [
    "ser_tn"
   ]
  },
  {
   "cell_type": "code",
   "execution_count": 18,
   "id": "ae91256a",
   "metadata": {
    "slideshow": {
     "slide_type": "subslide"
    }
   },
   "outputs": [
    {
     "data": {
      "text/plain": [
       "('Іванов', 123)"
      ]
     },
     "execution_count": 18,
     "metadata": {},
     "output_type": "execute_result"
    }
   ],
   "source": [
    "# перелік вмісту: items()\n",
    "tuple(ser_tn.items())[0]"
   ]
  },
  {
   "cell_type": "code",
   "execution_count": 19,
   "id": "1b486bc2",
   "metadata": {
    "slideshow": {
     "slide_type": "subslide"
    }
   },
   "outputs": [
    {
     "name": "stdout",
     "output_type": "stream",
     "text": [
      "123\n",
      "345\n",
      "234.0\n"
     ]
    }
   ],
   "source": [
    "# min, max, sum ...\n",
    "print(ser_tn.min())\n",
    "print(ser_tn.max())\n",
    "print(ser_tn.mean())"
   ]
  },
  {
   "cell_type": "code",
   "execution_count": 23,
   "id": "9b1ef32e",
   "metadata": {
    "slideshow": {
     "slide_type": "subslide"
    }
   },
   "outputs": [
    {
     "name": "stdout",
     "output_type": "stream",
     "text": [
      "b    222\n",
      "a    444\n",
      "c    333\n",
      "dtype: int64\n",
      "\n",
      "[('b', 222), ('a', 444), ('c', 333)]\n"
     ]
    },
    {
     "data": {
      "text/plain": [
       "444"
      ]
     },
     "execution_count": 23,
     "metadata": {},
     "output_type": "execute_result"
    }
   ],
   "source": [
    "# створення Series з окремих об'єктів\n",
    "datas = [222, 444, 333]\n",
    "indexes = (\"b\", \"a\", \"c\")\n",
    "ser = pd.Series(data=datas, index=indexes)\n",
    "print(ser.head())\n",
    "print(), print(list(ser.items()))\n",
    "ser['a']"
   ]
  },
  {
   "cell_type": "code",
   "execution_count": 24,
   "id": "87f3d03d",
   "metadata": {
    "slideshow": {
     "slide_type": "subslide"
    }
   },
   "outputs": [
    {
     "name": "stdout",
     "output_type": "stream",
     "text": [
      "['a', 'b', 'c']\n",
      "[222, 333, 444]\n",
      "a    444\n",
      "b    222\n",
      "c    333\n",
      "dtype: int64\n",
      "b    222\n",
      "c    333\n",
      "a    444\n",
      "dtype: int64\n"
     ]
    }
   ],
   "source": [
    "# сортування складових частин\n",
    "print(sorted(ser.keys()))\n",
    "print(sorted(ser.values))\n",
    "\n",
    "# сортування об'єкта в цілому \n",
    "print(ser.sort_index())\n",
    "print(ser.sort_values())"
   ]
  },
  {
   "cell_type": "code",
   "execution_count": 26,
   "id": "9fa02af2",
   "metadata": {},
   "outputs": [
    {
     "data": {
      "text/plain": [
       "b    222\n",
       "a    444\n",
       "c    333\n",
       "dtype: int64"
      ]
     },
     "execution_count": 26,
     "metadata": {},
     "output_type": "execute_result"
    }
   ],
   "source": [
    "ser"
   ]
  },
  {
   "cell_type": "code",
   "execution_count": 25,
   "id": "36259b17",
   "metadata": {
    "slideshow": {
     "slide_type": "subslide"
    }
   },
   "outputs": [
    {
     "name": "stdout",
     "output_type": "stream",
     "text": [
      "True\n",
      "False\n",
      "\n",
      "b     True\n",
      "a     True\n",
      "c    False\n",
      "dtype: bool\n"
     ]
    }
   ],
   "source": [
    "# перевірки вмісту (інспекція)\n",
    "print(ser.is_unique)\n",
    "print(ser.is_monotonic_increasing)\n",
    "print()\n",
    "print(ser.isin([444, 222]))"
   ]
  },
  {
   "cell_type": "code",
   "execution_count": 27,
   "id": "0917f372",
   "metadata": {
    "slideshow": {
     "slide_type": "subslide"
    }
   },
   "outputs": [
    {
     "name": "stdout",
     "output_type": "stream",
     "text": [
      "995    0.040249\n",
      "996    0.879300\n",
      "997    0.155666\n",
      "998    0.672419\n",
      "999    0.685208\n",
      "dtype: float64\n",
      "\n",
      "300    0.867740\n",
      "301    0.196614\n",
      "302    0.508618\n",
      "303    0.088051\n",
      "304    0.746230\n",
      "dtype: float64\n"
     ]
    },
    {
     "data": {
      "text/plain": [
       "(None, None)"
      ]
     },
     "execution_count": 27,
     "metadata": {},
     "output_type": "execute_result"
    }
   ],
   "source": [
    "# робота з індексами\n",
    "ser_num = pd.Series(np.random.rand(1000))\n",
    "print(ser_num.tail(5))\n",
    "print(), print(ser_num[300:305])"
   ]
  },
  {
   "cell_type": "markdown",
   "id": "b4181c10",
   "metadata": {
    "slideshow": {
     "slide_type": "slide"
    }
   },
   "source": [
    "### 3.2 Об'єкт DataFrame\n",
    "\n",
    "__DataFrame__ складається з упорядкованої колекції колонок, кожна з яких містить значення різних типів (числове, рядкове, булеве тощо).\n",
    "\n",
    "Має два індекси - для рядків та для колонок\n",
    "\n",
    "[Докладніше про DataFrame](https://pandas.pydata.org/docs/reference/api/pandas.DataFrame.html)"
   ]
  },
  {
   "attachments": {
    "image-2.png": {
     "image/png": "[encoded data removed]"
    }
   },
   "cell_type": "markdown",
   "id": "2f324f29",
   "metadata": {
    "slideshow": {
     "slide_type": "subslide"
    }
   },
   "source": [
    "![image-2.png](attachment:image-2.png)"
   ]
  },
  {
   "cell_type": "code",
   "execution_count": 28,
   "id": "d6fde4ed",
   "metadata": {
    "slideshow": {
     "slide_type": "subslide"
    }
   },
   "outputs": [
    {
     "name": "stdout",
     "output_type": "stream",
     "text": [
      "<class 'pandas.core.frame.DataFrame'>\n"
     ]
    },
    {
     "data": {
      "text/plain": [
       "438"
      ]
     },
     "execution_count": 28,
     "metadata": {},
     "output_type": "execute_result"
    }
   ],
   "source": [
    "# pd.DataFrame() - конструктор \n",
    "df = pd.DataFrame()\n",
    "print(type(df))\n",
    "len(dir(df))"
   ]
  },
  {
   "cell_type": "markdown",
   "id": "99ae2c37",
   "metadata": {
    "slideshow": {
     "slide_type": "slide"
    }
   },
   "source": [
    "#### Створення DataFrame"
   ]
  },
  {
   "cell_type": "code",
   "execution_count": 29,
   "id": "85ebd9b0",
   "metadata": {
    "scrolled": true,
    "slideshow": {
     "slide_type": "subslide"
    }
   },
   "outputs": [
    {
     "name": "stdout",
     "output_type": "stream",
     "text": [
      "   0  1  2\n",
      "0  1  2  3\n",
      "1  a  b  c\n"
     ]
    }
   ],
   "source": [
    "# з ітерируємого об'єкту(список, словник, кортеж і т.п.)\n",
    "lst = [[1, 2, 3],\n",
    "       ['a', 'b', 'c']\n",
    "      ]\n",
    "df = pd.DataFrame(lst)\n",
    "print(df)"
   ]
  },
  {
   "cell_type": "code",
   "execution_count": 30,
   "id": "4795e5de",
   "metadata": {},
   "outputs": [],
   "source": [
    "df?"
   ]
  },
  {
   "cell_type": "code",
   "execution_count": 33,
   "id": "33ea953a",
   "metadata": {
    "slideshow": {
     "slide_type": "subslide"
    }
   },
   "outputs": [
    {
     "data": {
      "text/html": [
       "<div>\n",
       "<style scoped>\n",
       "    .dataframe tbody tr th:only-of-type {\n",
       "        vertical-align: middle;\n",
       "    }\n",
       "\n",
       "    .dataframe tbody tr th {\n",
       "        vertical-align: top;\n",
       "    }\n",
       "\n",
       "    .dataframe thead th {\n",
       "        text-align: right;\n",
       "    }\n",
       "</style>\n",
       "<table border=\"1\" class=\"dataframe\">\n",
       "  <thead>\n",
       "    <tr style=\"text-align: right;\">\n",
       "      <th></th>\n",
       "      <th>колонка 1</th>\n",
       "      <th>колонка 1</th>\n",
       "      <th>колонка 3</th>\n",
       "    </tr>\n",
       "  </thead>\n",
       "  <tbody>\n",
       "    <tr>\n",
       "      <th>10</th>\n",
       "      <td>1</td>\n",
       "      <td>2</td>\n",
       "      <td>3</td>\n",
       "    </tr>\n",
       "    <tr>\n",
       "      <th>10</th>\n",
       "      <td>a</td>\n",
       "      <td>b</td>\n",
       "      <td>c</td>\n",
       "    </tr>\n",
       "  </tbody>\n",
       "</table>\n",
       "</div>"
      ],
      "text/plain": [
       "   колонка 1 колонка 1 колонка 3\n",
       "10         1         2         3\n",
       "10         a         b         c"
      ]
     },
     "execution_count": 33,
     "metadata": {},
     "output_type": "execute_result"
    }
   ],
   "source": [
    "# з додатковими можливостями\n",
    "lst = [[1, 2, 3], ['a', 'b', 'c']]\n",
    "df = pd.DataFrame(data=lst, columns=('колонка 1', 'колонка 1', 'колонка 3'),\n",
    "                  index=[10,10])\n",
    "df"
   ]
  },
  {
   "cell_type": "code",
   "execution_count": 38,
   "id": "22fbbdaf",
   "metadata": {
    "slideshow": {
     "slide_type": "subslide"
    }
   },
   "outputs": [
    {
     "data": {
      "text/html": [
       "<div>\n",
       "<style scoped>\n",
       "    .dataframe tbody tr th:only-of-type {\n",
       "        vertical-align: middle;\n",
       "    }\n",
       "\n",
       "    .dataframe tbody tr th {\n",
       "        vertical-align: top;\n",
       "    }\n",
       "\n",
       "    .dataframe thead th {\n",
       "        text-align: right;\n",
       "    }\n",
       "</style>\n",
       "<table border=\"1\" class=\"dataframe\">\n",
       "  <thead>\n",
       "    <tr style=\"text-align: right;\">\n",
       "      <th></th>\n",
       "      <th>a</th>\n",
       "      <th>b</th>\n",
       "      <th>c</th>\n",
       "    </tr>\n",
       "  </thead>\n",
       "  <tbody>\n",
       "    <tr>\n",
       "      <th>0</th>\n",
       "      <td>1</td>\n",
       "      <td>10</td>\n",
       "      <td>0</td>\n",
       "    </tr>\n",
       "    <tr>\n",
       "      <th>1</th>\n",
       "      <td>2</td>\n",
       "      <td>20</td>\n",
       "      <td>1</td>\n",
       "    </tr>\n",
       "    <tr>\n",
       "      <th>2</th>\n",
       "      <td>3</td>\n",
       "      <td>30</td>\n",
       "      <td>2</td>\n",
       "    </tr>\n",
       "  </tbody>\n",
       "</table>\n",
       "</div>"
      ],
      "text/plain": [
       "   a   b  c\n",
       "0  1  10  0\n",
       "1  2  20  1\n",
       "2  3  30  2"
      ]
     },
     "execution_count": 38,
     "metadata": {},
     "output_type": "execute_result"
    }
   ],
   "source": [
    "# з словника\n",
    "dct = {'a':['1','2','3'], 'b':[10,20,30], 'c':np.arange(3)}\n",
    "df = pd.DataFrame(dct)\n",
    "df"
   ]
  },
  {
   "cell_type": "code",
   "execution_count": 39,
   "id": "103d977a",
   "metadata": {},
   "outputs": [],
   "source": [
    "pd.read_csv?"
   ]
  },
  {
   "cell_type": "code",
   "execution_count": 44,
   "id": "823a25eb",
   "metadata": {
    "slideshow": {
     "slide_type": "subslide"
    }
   },
   "outputs": [
    {
     "data": {
      "text/html": [
       "<div>\n",
       "<style scoped>\n",
       "    .dataframe tbody tr th:only-of-type {\n",
       "        vertical-align: middle;\n",
       "    }\n",
       "\n",
       "    .dataframe tbody tr th {\n",
       "        vertical-align: top;\n",
       "    }\n",
       "\n",
       "    .dataframe thead th {\n",
       "        text-align: right;\n",
       "    }\n",
       "</style>\n",
       "<table border=\"1\" class=\"dataframe\">\n",
       "  <thead>\n",
       "    <tr style=\"text-align: right;\">\n",
       "      <th></th>\n",
       "      <th>ім'я</th>\n",
       "      <th>рік</th>\n",
       "    </tr>\n",
       "  </thead>\n",
       "  <tbody>\n",
       "    <tr>\n",
       "      <th>0</th>\n",
       "      <td>вася</td>\n",
       "      <td>2005</td>\n",
       "    </tr>\n",
       "    <tr>\n",
       "      <th>1</th>\n",
       "      <td>петя</td>\n",
       "      <td>2001</td>\n",
       "    </tr>\n",
       "    <tr>\n",
       "      <th>2</th>\n",
       "      <td>галя</td>\n",
       "      <td>2002</td>\n",
       "    </tr>\n",
       "  </tbody>\n",
       "</table>\n",
       "</div>"
      ],
      "text/plain": [
       "   ім'я   рік\n",
       "0  вася  2005\n",
       "1  петя  2001\n",
       "2  галя  2002"
      ]
     },
     "execution_count": 44,
     "metadata": {},
     "output_type": "execute_result"
    }
   ],
   "source": [
    "# створення з файлу\n",
    "# with open(\"work_file.csv\", \"w\")as tf:\n",
    "#     tf.writelines([\"вася,\", \"2005\\n\", \"петя,\", \"2001\\n\", \"галя,\", \"2002\"])\n",
    "#     tf.seek(0)\n",
    "\n",
    "df = pd.read_csv(\"work_file.csv\", names=[\"ім'я\", \"рік\"])\n",
    "df"
   ]
  },
  {
   "cell_type": "markdown",
   "id": "cd8f84b9",
   "metadata": {
    "slideshow": {
     "slide_type": "slide"
    }
   },
   "source": [
    "#### Модифікація DataFrame"
   ]
  },
  {
   "cell_type": "code",
   "execution_count": 45,
   "id": "0357f9f7",
   "metadata": {},
   "outputs": [
    {
     "data": {
      "text/html": [
       "<div>\n",
       "<style scoped>\n",
       "    .dataframe tbody tr th:only-of-type {\n",
       "        vertical-align: middle;\n",
       "    }\n",
       "\n",
       "    .dataframe tbody tr th {\n",
       "        vertical-align: top;\n",
       "    }\n",
       "\n",
       "    .dataframe thead th {\n",
       "        text-align: right;\n",
       "    }\n",
       "</style>\n",
       "<table border=\"1\" class=\"dataframe\">\n",
       "  <thead>\n",
       "    <tr style=\"text-align: right;\">\n",
       "      <th></th>\n",
       "      <th>ім'я</th>\n",
       "      <th>рік</th>\n",
       "    </tr>\n",
       "  </thead>\n",
       "  <tbody>\n",
       "    <tr>\n",
       "      <th>0</th>\n",
       "      <td>вася</td>\n",
       "      <td>2005</td>\n",
       "    </tr>\n",
       "    <tr>\n",
       "      <th>1</th>\n",
       "      <td>петя</td>\n",
       "      <td>2001</td>\n",
       "    </tr>\n",
       "    <tr>\n",
       "      <th>2</th>\n",
       "      <td>галя</td>\n",
       "      <td>2002</td>\n",
       "    </tr>\n",
       "  </tbody>\n",
       "</table>\n",
       "</div>"
      ],
      "text/plain": [
       "   ім'я   рік\n",
       "0  вася  2005\n",
       "1  петя  2001\n",
       "2  галя  2002"
      ]
     },
     "execution_count": 45,
     "metadata": {},
     "output_type": "execute_result"
    }
   ],
   "source": [
    "df"
   ]
  },
  {
   "cell_type": "code",
   "execution_count": 46,
   "id": "4d623a7b",
   "metadata": {
    "slideshow": {
     "slide_type": "subslide"
    }
   },
   "outputs": [
    {
     "data": {
      "text/html": [
       "<div>\n",
       "<style scoped>\n",
       "    .dataframe tbody tr th:only-of-type {\n",
       "        vertical-align: middle;\n",
       "    }\n",
       "\n",
       "    .dataframe tbody tr th {\n",
       "        vertical-align: top;\n",
       "    }\n",
       "\n",
       "    .dataframe thead th {\n",
       "        text-align: right;\n",
       "    }\n",
       "</style>\n",
       "<table border=\"1\" class=\"dataframe\">\n",
       "  <thead>\n",
       "    <tr style=\"text-align: right;\">\n",
       "      <th></th>\n",
       "      <th>ім'я</th>\n",
       "      <th>рік</th>\n",
       "      <th>місто</th>\n",
       "    </tr>\n",
       "  </thead>\n",
       "  <tbody>\n",
       "    <tr>\n",
       "      <th>0</th>\n",
       "      <td>вася</td>\n",
       "      <td>2005</td>\n",
       "      <td></td>\n",
       "    </tr>\n",
       "    <tr>\n",
       "      <th>1</th>\n",
       "      <td>петя</td>\n",
       "      <td>2001</td>\n",
       "      <td></td>\n",
       "    </tr>\n",
       "    <tr>\n",
       "      <th>2</th>\n",
       "      <td>галя</td>\n",
       "      <td>2002</td>\n",
       "      <td></td>\n",
       "    </tr>\n",
       "  </tbody>\n",
       "</table>\n",
       "</div>"
      ],
      "text/plain": [
       "   ім'я   рік місто\n",
       "0  вася  2005      \n",
       "1  петя  2001      \n",
       "2  галя  2002      "
      ]
     },
     "execution_count": 46,
     "metadata": {},
     "output_type": "execute_result"
    }
   ],
   "source": [
    "# додавання пустої колонки\n",
    "df['місто'] = ''\n",
    "df"
   ]
  },
  {
   "cell_type": "code",
   "execution_count": 52,
   "id": "25168067",
   "metadata": {
    "slideshow": {
     "slide_type": "subslide"
    }
   },
   "outputs": [
    {
     "data": {
      "text/html": [
       "<div>\n",
       "<style scoped>\n",
       "    .dataframe tbody tr th:only-of-type {\n",
       "        vertical-align: middle;\n",
       "    }\n",
       "\n",
       "    .dataframe tbody tr th {\n",
       "        vertical-align: top;\n",
       "    }\n",
       "\n",
       "    .dataframe thead th {\n",
       "        text-align: right;\n",
       "    }\n",
       "</style>\n",
       "<table border=\"1\" class=\"dataframe\">\n",
       "  <thead>\n",
       "    <tr style=\"text-align: right;\">\n",
       "      <th></th>\n",
       "      <th>ім'я</th>\n",
       "      <th>рік</th>\n",
       "      <th>місто</th>\n",
       "      <th>стать</th>\n",
       "    </tr>\n",
       "  </thead>\n",
       "  <tbody>\n",
       "    <tr>\n",
       "      <th>0</th>\n",
       "      <td>вася</td>\n",
       "      <td>2005</td>\n",
       "      <td></td>\n",
       "      <td>чол</td>\n",
       "    </tr>\n",
       "    <tr>\n",
       "      <th>1</th>\n",
       "      <td>петя</td>\n",
       "      <td>2001</td>\n",
       "      <td></td>\n",
       "      <td>чол</td>\n",
       "    </tr>\n",
       "    <tr>\n",
       "      <th>2</th>\n",
       "      <td>галя</td>\n",
       "      <td>2002</td>\n",
       "      <td></td>\n",
       "      <td>жін</td>\n",
       "    </tr>\n",
       "  </tbody>\n",
       "</table>\n",
       "</div>"
      ],
      "text/plain": [
       "   ім'я   рік місто стать\n",
       "0  вася  2005         чол\n",
       "1  петя  2001         чол\n",
       "2  галя  2002         жін"
      ]
     },
     "execution_count": 52,
     "metadata": {},
     "output_type": "execute_result"
    }
   ],
   "source": [
    "# додавання заповненої колонки\n",
    "df['стать'] = ['чол', 'чол', 'жін']\n",
    "df"
   ]
  },
  {
   "cell_type": "code",
   "execution_count": 54,
   "id": "730ba6aa",
   "metadata": {},
   "outputs": [
    {
     "data": {
      "text/html": [
       "<div>\n",
       "<style scoped>\n",
       "    .dataframe tbody tr th:only-of-type {\n",
       "        vertical-align: middle;\n",
       "    }\n",
       "\n",
       "    .dataframe tbody tr th {\n",
       "        vertical-align: top;\n",
       "    }\n",
       "\n",
       "    .dataframe thead th {\n",
       "        text-align: right;\n",
       "    }\n",
       "</style>\n",
       "<table border=\"1\" class=\"dataframe\">\n",
       "  <thead>\n",
       "    <tr style=\"text-align: right;\">\n",
       "      <th></th>\n",
       "      <th>ім'я</th>\n",
       "      <th>рік</th>\n",
       "      <th>місто</th>\n",
       "      <th>стать</th>\n",
       "    </tr>\n",
       "  </thead>\n",
       "  <tbody>\n",
       "    <tr>\n",
       "      <th>0</th>\n",
       "      <td>вася</td>\n",
       "      <td>2005</td>\n",
       "      <td></td>\n",
       "      <td>чол</td>\n",
       "    </tr>\n",
       "    <tr>\n",
       "      <th>1</th>\n",
       "      <td>петя</td>\n",
       "      <td>2001</td>\n",
       "      <td></td>\n",
       "      <td>чол</td>\n",
       "    </tr>\n",
       "    <tr>\n",
       "      <th>2</th>\n",
       "      <td>галя</td>\n",
       "      <td>2002</td>\n",
       "      <td></td>\n",
       "      <td>жін</td>\n",
       "    </tr>\n",
       "  </tbody>\n",
       "</table>\n",
       "</div>"
      ],
      "text/plain": [
       "   ім'я   рік місто стать\n",
       "0  вася  2005         чол\n",
       "1  петя  2001         чол\n",
       "2  галя  2002         жін"
      ]
     },
     "execution_count": 54,
     "metadata": {},
     "output_type": "execute_result"
    }
   ],
   "source": [
    "df"
   ]
  },
  {
   "cell_type": "code",
   "execution_count": 57,
   "id": "0f03ceaf",
   "metadata": {
    "slideshow": {
     "slide_type": "subslide"
    }
   },
   "outputs": [
    {
     "data": {
      "text/html": [
       "<div>\n",
       "<style scoped>\n",
       "    .dataframe tbody tr th:only-of-type {\n",
       "        vertical-align: middle;\n",
       "    }\n",
       "\n",
       "    .dataframe tbody tr th {\n",
       "        vertical-align: top;\n",
       "    }\n",
       "\n",
       "    .dataframe thead th {\n",
       "        text-align: right;\n",
       "    }\n",
       "</style>\n",
       "<table border=\"1\" class=\"dataframe\">\n",
       "  <thead>\n",
       "    <tr style=\"text-align: right;\">\n",
       "      <th></th>\n",
       "      <th>ім'я</th>\n",
       "      <th>рік</th>\n",
       "      <th>місто</th>\n",
       "      <th>стать</th>\n",
       "    </tr>\n",
       "  </thead>\n",
       "  <tbody>\n",
       "    <tr>\n",
       "      <th>0</th>\n",
       "      <td>вася</td>\n",
       "      <td>2005.0</td>\n",
       "      <td>полтава</td>\n",
       "      <td>чол</td>\n",
       "    </tr>\n",
       "    <tr>\n",
       "      <th>1</th>\n",
       "      <td>петя</td>\n",
       "      <td>2001.0</td>\n",
       "      <td>пирятин</td>\n",
       "      <td>чол</td>\n",
       "    </tr>\n",
       "    <tr>\n",
       "      <th>2</th>\n",
       "      <td>галя</td>\n",
       "      <td>2002.0</td>\n",
       "      <td></td>\n",
       "      <td>жін</td>\n",
       "    </tr>\n",
       "    <tr>\n",
       "      <th>c</th>\n",
       "      <td>NaN</td>\n",
       "      <td>NaN</td>\n",
       "      <td>пирятин</td>\n",
       "      <td>NaN</td>\n",
       "    </tr>\n",
       "    <tr>\n",
       "      <th>1</th>\n",
       "      <td>NaN</td>\n",
       "      <td>NaN</td>\n",
       "      <td>пирятин</td>\n",
       "      <td>NaN</td>\n",
       "    </tr>\n",
       "  </tbody>\n",
       "</table>\n",
       "</div>"
      ],
      "text/plain": [
       "   ім'я     рік    місто стать\n",
       "0  вася  2005.0  полтава   чол\n",
       "1  петя  2001.0  пирятин   чол\n",
       "2  галя  2002.0            жін\n",
       "c   NaN     NaN  пирятин   NaN\n",
       "1   NaN     NaN  пирятин   NaN"
      ]
     },
     "execution_count": 57,
     "metadata": {},
     "output_type": "execute_result"
    }
   ],
   "source": [
    "# модифікація вмісту  по індексу `iloc`\n",
    "df.iloc[0,2] = 'полтава'\n",
    "# модифікація вмісту по назві `loc`\n",
    "df.loc[1, 'місто'] = 'пирятин'\n",
    "df"
   ]
  },
  {
   "cell_type": "markdown",
   "id": "acd14a14",
   "metadata": {
    "slideshow": {
     "slide_type": "slide"
    }
   },
   "source": [
    "#### Читання/доступ до об'єктів DataFrame"
   ]
  },
  {
   "cell_type": "code",
   "execution_count": 58,
   "id": "f821f528",
   "metadata": {
    "slideshow": {
     "slide_type": "subslide"
    }
   },
   "outputs": [
    {
     "data": {
      "text/html": [
       "<div>\n",
       "<style scoped>\n",
       "    .dataframe tbody tr th:only-of-type {\n",
       "        vertical-align: middle;\n",
       "    }\n",
       "\n",
       "    .dataframe tbody tr th {\n",
       "        vertical-align: top;\n",
       "    }\n",
       "\n",
       "    .dataframe thead th {\n",
       "        text-align: right;\n",
       "    }\n",
       "</style>\n",
       "<table border=\"1\" class=\"dataframe\">\n",
       "  <thead>\n",
       "    <tr style=\"text-align: right;\">\n",
       "      <th></th>\n",
       "      <th>ім'я</th>\n",
       "      <th>рік</th>\n",
       "      <th>місто</th>\n",
       "      <th>стать</th>\n",
       "    </tr>\n",
       "  </thead>\n",
       "  <tbody>\n",
       "    <tr>\n",
       "      <th>0</th>\n",
       "      <td>вася</td>\n",
       "      <td>2005.0</td>\n",
       "      <td>полтава</td>\n",
       "      <td>чол</td>\n",
       "    </tr>\n",
       "    <tr>\n",
       "      <th>1</th>\n",
       "      <td>петя</td>\n",
       "      <td>2001.0</td>\n",
       "      <td>пирятин</td>\n",
       "      <td>чол</td>\n",
       "    </tr>\n",
       "    <tr>\n",
       "      <th>2</th>\n",
       "      <td>галя</td>\n",
       "      <td>2002.0</td>\n",
       "      <td></td>\n",
       "      <td>жін</td>\n",
       "    </tr>\n",
       "    <tr>\n",
       "      <th>c</th>\n",
       "      <td>NaN</td>\n",
       "      <td>NaN</td>\n",
       "      <td>пирятин</td>\n",
       "      <td>NaN</td>\n",
       "    </tr>\n",
       "    <tr>\n",
       "      <th>1</th>\n",
       "      <td>NaN</td>\n",
       "      <td>NaN</td>\n",
       "      <td>пирятин</td>\n",
       "      <td>NaN</td>\n",
       "    </tr>\n",
       "  </tbody>\n",
       "</table>\n",
       "</div>"
      ],
      "text/plain": [
       "   ім'я     рік    місто стать\n",
       "0  вася  2005.0  полтава   чол\n",
       "1  петя  2001.0  пирятин   чол\n",
       "2  галя  2002.0            жін\n",
       "c   NaN     NaN  пирятин   NaN\n",
       "1   NaN     NaN  пирятин   NaN"
      ]
     },
     "execution_count": 58,
     "metadata": {},
     "output_type": "execute_result"
    }
   ],
   "source": [
    "df\n"
   ]
  },
  {
   "cell_type": "code",
   "execution_count": 59,
   "id": "d2831113",
   "metadata": {},
   "outputs": [
    {
     "data": {
      "text/html": [
       "<div>\n",
       "<style scoped>\n",
       "    .dataframe tbody tr th:only-of-type {\n",
       "        vertical-align: middle;\n",
       "    }\n",
       "\n",
       "    .dataframe tbody tr th {\n",
       "        vertical-align: top;\n",
       "    }\n",
       "\n",
       "    .dataframe thead th {\n",
       "        text-align: right;\n",
       "    }\n",
       "</style>\n",
       "<table border=\"1\" class=\"dataframe\">\n",
       "  <thead>\n",
       "    <tr style=\"text-align: right;\">\n",
       "      <th></th>\n",
       "      <th>ім'я</th>\n",
       "      <th>рік</th>\n",
       "      <th>місто</th>\n",
       "      <th>стать</th>\n",
       "    </tr>\n",
       "  </thead>\n",
       "  <tbody>\n",
       "    <tr>\n",
       "      <th>0</th>\n",
       "      <td>вася</td>\n",
       "      <td>2005.0</td>\n",
       "      <td>полтава</td>\n",
       "      <td>чол</td>\n",
       "    </tr>\n",
       "    <tr>\n",
       "      <th>1</th>\n",
       "      <td>петя</td>\n",
       "      <td>2001.0</td>\n",
       "      <td>пирятин</td>\n",
       "      <td>чол</td>\n",
       "    </tr>\n",
       "    <tr>\n",
       "      <th>2</th>\n",
       "      <td>галя</td>\n",
       "      <td>2002.0</td>\n",
       "      <td></td>\n",
       "      <td>жін</td>\n",
       "    </tr>\n",
       "    <tr>\n",
       "      <th>c</th>\n",
       "      <td>NaN</td>\n",
       "      <td>NaN</td>\n",
       "      <td>пирятин</td>\n",
       "      <td>NaN</td>\n",
       "    </tr>\n",
       "    <tr>\n",
       "      <th>1</th>\n",
       "      <td>NaN</td>\n",
       "      <td>NaN</td>\n",
       "      <td>пирятин</td>\n",
       "      <td>NaN</td>\n",
       "    </tr>\n",
       "  </tbody>\n",
       "</table>\n",
       "</div>"
      ],
      "text/plain": [
       "   ім'я     рік    місто стать\n",
       "0  вася  2005.0  полтава   чол\n",
       "1  петя  2001.0  пирятин   чол\n",
       "2  галя  2002.0            жін\n",
       "c   NaN     NaN  пирятин   NaN\n",
       "1   NaN     NaN  пирятин   NaN"
      ]
     },
     "execution_count": 59,
     "metadata": {},
     "output_type": "execute_result"
    }
   ],
   "source": [
    "df"
   ]
  },
  {
   "cell_type": "code",
   "execution_count": 60,
   "id": "321ec500",
   "metadata": {
    "slideshow": {
     "slide_type": "subslide"
    }
   },
   "outputs": [
    {
     "name": "stdout",
     "output_type": "stream",
     "text": [
      "ім'я        вася\n",
      "рік       2005.0\n",
      "місто    полтава\n",
      "стать        чол\n",
      "Name: 0, dtype: object\n",
      "<class 'pandas.core.series.Series'>\n"
     ]
    }
   ],
   "source": [
    "# доступ до рядка по індексу`iloc`\n",
    "print(df.iloc[0])\n",
    "print(type(df.iloc[0]))"
   ]
  },
  {
   "cell_type": "code",
   "execution_count": null,
   "id": "8050ccc4",
   "metadata": {
    "slideshow": {
     "slide_type": "subslide"
    }
   },
   "outputs": [],
   "source": [
    "df"
   ]
  },
  {
   "cell_type": "code",
   "execution_count": 61,
   "id": "828a546e",
   "metadata": {
    "slideshow": {
     "slide_type": "subslide"
    }
   },
   "outputs": [
    {
     "data": {
      "text/html": [
       "<div>\n",
       "<style scoped>\n",
       "    .dataframe tbody tr th:only-of-type {\n",
       "        vertical-align: middle;\n",
       "    }\n",
       "\n",
       "    .dataframe tbody tr th {\n",
       "        vertical-align: top;\n",
       "    }\n",
       "\n",
       "    .dataframe thead th {\n",
       "        text-align: right;\n",
       "    }\n",
       "</style>\n",
       "<table border=\"1\" class=\"dataframe\">\n",
       "  <thead>\n",
       "    <tr style=\"text-align: right;\">\n",
       "      <th></th>\n",
       "      <th>ім'я</th>\n",
       "      <th>рік</th>\n",
       "      <th>місто</th>\n",
       "      <th>стать</th>\n",
       "    </tr>\n",
       "  </thead>\n",
       "  <tbody>\n",
       "    <tr>\n",
       "      <th>0</th>\n",
       "      <td>вася</td>\n",
       "      <td>2005.0</td>\n",
       "      <td>полтава</td>\n",
       "      <td>чол</td>\n",
       "    </tr>\n",
       "    <tr>\n",
       "      <th>1</th>\n",
       "      <td>петя</td>\n",
       "      <td>2001.0</td>\n",
       "      <td>пирятин</td>\n",
       "      <td>чол</td>\n",
       "    </tr>\n",
       "  </tbody>\n",
       "</table>\n",
       "</div>"
      ],
      "text/plain": [
       "   ім'я     рік    місто стать\n",
       "0  вася  2005.0  полтава   чол\n",
       "1  петя  2001.0  пирятин   чол"
      ]
     },
     "execution_count": 61,
     "metadata": {},
     "output_type": "execute_result"
    }
   ],
   "source": [
    "# до інтервалу рядків\n",
    "df.iloc[0:2]"
   ]
  },
  {
   "cell_type": "code",
   "execution_count": 63,
   "id": "ff5b712e",
   "metadata": {},
   "outputs": [
    {
     "data": {
      "text/plain": [
       "0    2005.0\n",
       "1    2001.0\n",
       "2    2002.0\n",
       "c       NaN\n",
       "1       NaN\n",
       "Name: рік, dtype: float64"
      ]
     },
     "execution_count": 63,
     "metadata": {},
     "output_type": "execute_result"
    }
   ],
   "source": [
    "df.loc[:, \"рік\"]"
   ]
  },
  {
   "cell_type": "code",
   "execution_count": 62,
   "id": "c3f1e4f5",
   "metadata": {
    "scrolled": false,
    "slideshow": {
     "slide_type": "subslide"
    }
   },
   "outputs": [
    {
     "name": "stdout",
     "output_type": "stream",
     "text": [
      "0    2005.0\n",
      "1    2001.0\n",
      "2    2002.0\n",
      "c       NaN\n",
      "1       NaN\n",
      "Name: рік, dtype: float64\n"
     ]
    }
   ],
   "source": [
    "# доступ до колонки за ім'ям\n",
    "print(df[\"рік\"])"
   ]
  },
  {
   "cell_type": "code",
   "execution_count": 66,
   "id": "b5677dd7",
   "metadata": {
    "slideshow": {
     "slide_type": "subslide"
    }
   },
   "outputs": [
    {
     "data": {
      "text/html": [
       "<div>\n",
       "<style scoped>\n",
       "    .dataframe tbody tr th:only-of-type {\n",
       "        vertical-align: middle;\n",
       "    }\n",
       "\n",
       "    .dataframe tbody tr th {\n",
       "        vertical-align: top;\n",
       "    }\n",
       "\n",
       "    .dataframe thead th {\n",
       "        text-align: right;\n",
       "    }\n",
       "</style>\n",
       "<table border=\"1\" class=\"dataframe\">\n",
       "  <thead>\n",
       "    <tr style=\"text-align: right;\">\n",
       "      <th></th>\n",
       "      <th>ім'я</th>\n",
       "      <th>рік</th>\n",
       "      <th>місто</th>\n",
       "      <th>стать</th>\n",
       "    </tr>\n",
       "  </thead>\n",
       "  <tbody>\n",
       "    <tr>\n",
       "      <th>0</th>\n",
       "      <td>вася</td>\n",
       "      <td>2005.0</td>\n",
       "      <td>полтава</td>\n",
       "      <td>чол</td>\n",
       "    </tr>\n",
       "    <tr>\n",
       "      <th>1</th>\n",
       "      <td>петя</td>\n",
       "      <td>2001.0</td>\n",
       "      <td>пирятин</td>\n",
       "      <td>чол</td>\n",
       "    </tr>\n",
       "  </tbody>\n",
       "</table>\n",
       "</div>"
      ],
      "text/plain": [
       "   ім'я     рік    місто стать\n",
       "0  вася  2005.0  полтава   чол\n",
       "1  петя  2001.0  пирятин   чол"
      ]
     },
     "execution_count": 66,
     "metadata": {},
     "output_type": "execute_result"
    }
   ],
   "source": [
    "# відбір рядків по умові\n",
    "# df['стать'] == 'чол' # - не вірно!\n",
    "cond = df['стать'] == 'чол'\n",
    "df[cond]"
   ]
  },
  {
   "cell_type": "code",
   "execution_count": 67,
   "id": "067b63de",
   "metadata": {
    "scrolled": true,
    "slideshow": {
     "slide_type": "subslide"
    }
   },
   "outputs": [
    {
     "data": {
      "text/html": [
       "<div>\n",
       "<style scoped>\n",
       "    .dataframe tbody tr th:only-of-type {\n",
       "        vertical-align: middle;\n",
       "    }\n",
       "\n",
       "    .dataframe tbody tr th {\n",
       "        vertical-align: top;\n",
       "    }\n",
       "\n",
       "    .dataframe thead th {\n",
       "        text-align: right;\n",
       "    }\n",
       "</style>\n",
       "<table border=\"1\" class=\"dataframe\">\n",
       "  <thead>\n",
       "    <tr style=\"text-align: right;\">\n",
       "      <th></th>\n",
       "      <th>ім'я</th>\n",
       "      <th>рік</th>\n",
       "      <th>місто</th>\n",
       "      <th>стать</th>\n",
       "    </tr>\n",
       "  </thead>\n",
       "  <tbody>\n",
       "    <tr>\n",
       "      <th>0</th>\n",
       "      <td>вася</td>\n",
       "      <td>2005.0</td>\n",
       "      <td>полтава</td>\n",
       "      <td>чол</td>\n",
       "    </tr>\n",
       "    <tr>\n",
       "      <th>2</th>\n",
       "      <td>галя</td>\n",
       "      <td>2002.0</td>\n",
       "      <td></td>\n",
       "      <td>жін</td>\n",
       "    </tr>\n",
       "  </tbody>\n",
       "</table>\n",
       "</div>"
      ],
      "text/plain": [
       "   ім'я     рік    місто стать\n",
       "0  вася  2005.0  полтава   чол\n",
       "2  галя  2002.0            жін"
      ]
     },
     "execution_count": 67,
     "metadata": {},
     "output_type": "execute_result"
    }
   ],
   "source": [
    "df.loc[df['рік'] > 2001]"
   ]
  },
  {
   "cell_type": "code",
   "execution_count": 68,
   "id": "518ee284",
   "metadata": {
    "slideshow": {
     "slide_type": "subslide"
    }
   },
   "outputs": [
    {
     "data": {
      "text/html": [
       "<div>\n",
       "<style scoped>\n",
       "    .dataframe tbody tr th:only-of-type {\n",
       "        vertical-align: middle;\n",
       "    }\n",
       "\n",
       "    .dataframe tbody tr th {\n",
       "        vertical-align: top;\n",
       "    }\n",
       "\n",
       "    .dataframe thead th {\n",
       "        text-align: right;\n",
       "    }\n",
       "</style>\n",
       "<table border=\"1\" class=\"dataframe\">\n",
       "  <thead>\n",
       "    <tr style=\"text-align: right;\">\n",
       "      <th></th>\n",
       "      <th>ім'я</th>\n",
       "      <th>рік</th>\n",
       "      <th>місто</th>\n",
       "      <th>стать</th>\n",
       "    </tr>\n",
       "  </thead>\n",
       "  <tbody>\n",
       "    <tr>\n",
       "      <th>0</th>\n",
       "      <td>вася</td>\n",
       "      <td>2005.0</td>\n",
       "      <td>полтава</td>\n",
       "      <td>чол</td>\n",
       "    </tr>\n",
       "    <tr>\n",
       "      <th>1</th>\n",
       "      <td>петя</td>\n",
       "      <td>2001.0</td>\n",
       "      <td>пирятин</td>\n",
       "      <td>чол</td>\n",
       "    </tr>\n",
       "  </tbody>\n",
       "</table>\n",
       "</div>"
      ],
      "text/plain": [
       "   ім'я     рік    місто стать\n",
       "0  вася  2005.0  полтава   чол\n",
       "1  петя  2001.0  пирятин   чол"
      ]
     },
     "execution_count": 68,
     "metadata": {},
     "output_type": "execute_result"
    }
   ],
   "source": [
    "# відбір рядків по комплексній умові\n",
    "filt = (df['рік'] > 2000) & (df['місто'] != '')\n",
    "df[filt]"
   ]
  },
  {
   "cell_type": "code",
   "execution_count": 69,
   "id": "b9d568eb",
   "metadata": {
    "slideshow": {
     "slide_type": "subslide"
    }
   },
   "outputs": [
    {
     "data": {
      "text/html": [
       "<div>\n",
       "<style scoped>\n",
       "    .dataframe tbody tr th:only-of-type {\n",
       "        vertical-align: middle;\n",
       "    }\n",
       "\n",
       "    .dataframe tbody tr th {\n",
       "        vertical-align: top;\n",
       "    }\n",
       "\n",
       "    .dataframe thead th {\n",
       "        text-align: right;\n",
       "    }\n",
       "</style>\n",
       "<table border=\"1\" class=\"dataframe\">\n",
       "  <thead>\n",
       "    <tr style=\"text-align: right;\">\n",
       "      <th></th>\n",
       "      <th>ім'я</th>\n",
       "      <th>стать</th>\n",
       "    </tr>\n",
       "  </thead>\n",
       "  <tbody>\n",
       "    <tr>\n",
       "      <th>0</th>\n",
       "      <td>вася</td>\n",
       "      <td>чол</td>\n",
       "    </tr>\n",
       "    <tr>\n",
       "      <th>1</th>\n",
       "      <td>петя</td>\n",
       "      <td>чол</td>\n",
       "    </tr>\n",
       "  </tbody>\n",
       "</table>\n",
       "</div>"
      ],
      "text/plain": [
       "   ім'я стать\n",
       "0  вася   чол\n",
       "1  петя   чол"
      ]
     },
     "execution_count": 69,
     "metadata": {},
     "output_type": "execute_result"
    }
   ],
   "source": [
    "# відбір рядків та деяких колонок\n",
    "filt_row = (df['рік'] > 2000) & (df['місто'] != '')\n",
    "df.loc[filt_row, [\"ім'я\", \"стать\"]]"
   ]
  },
  {
   "cell_type": "markdown",
   "id": "adcc956b",
   "metadata": {
    "slideshow": {
     "slide_type": "slide"
    }
   },
   "source": [
    "#### інспектування DataFrame"
   ]
  },
  {
   "cell_type": "code",
   "execution_count": 70,
   "id": "af7c12f4",
   "metadata": {
    "slideshow": {
     "slide_type": "subslide"
    }
   },
   "outputs": [
    {
     "name": "stdout",
     "output_type": "stream",
     "text": [
      "   ім'я     рік    місто стать\n",
      "0  вася  2005.0  полтава   чол\n",
      "1  петя  2001.0  пирятин   чол\n",
      "2  галя  2002.0            жін\n",
      "c   NaN     NaN  пирятин   NaN\n",
      "1   NaN     NaN  пирятин   NaN\n",
      "ім'я      object\n",
      "рік      float64\n",
      "місто     object\n",
      "стать     object\n",
      "dtype: object\n",
      "Index([0, 1, 2, 'c', '1'], dtype='object')\n",
      "Index(['ім'я', 'рік', 'місто', 'стать'], dtype='object')\n",
      "[Index([0, 1, 2, 'c', '1'], dtype='object'), Index(['ім'я', 'рік', 'місто', 'стать'], dtype='object')]\n",
      "(5, 4)\n"
     ]
    }
   ],
   "source": [
    "# Огляд структури \n",
    "print(df)\n",
    "print(df.dtypes)\n",
    "print(df.index)\n",
    "print(df.columns)\n",
    "print(df.axes)\n",
    "print(df.shape)"
   ]
  },
  {
   "cell_type": "code",
   "execution_count": 72,
   "id": "05ac6c36",
   "metadata": {
    "slideshow": {
     "slide_type": "subslide"
    }
   },
   "outputs": [
    {
     "name": "stdout",
     "output_type": "stream",
     "text": [
      "<class 'pandas.core.frame.DataFrame'>\n",
      "Index: 5 entries, 0 to 1\n",
      "Data columns (total 4 columns):\n",
      " #   Column  Non-Null Count  Dtype  \n",
      "---  ------  --------------  -----  \n",
      " 0   ім'я    3 non-null      object \n",
      " 1   рік     3 non-null      float64\n",
      " 2   місто   5 non-null      object \n",
      " 3   стать   3 non-null      object \n",
      "dtypes: float64(1), object(3)\n",
      "memory usage: 372.0+ bytes\n"
     ]
    },
    {
     "data": {
      "text/plain": [
       "NoneType"
      ]
     },
     "execution_count": 72,
     "metadata": {},
     "output_type": "execute_result"
    }
   ],
   "source": [
    "# загальна характеристика\n",
    "df.info()"
   ]
  },
  {
   "cell_type": "code",
   "execution_count": 74,
   "id": "110d1b05",
   "metadata": {
    "slideshow": {
     "slide_type": "subslide"
    }
   },
   "outputs": [
    {
     "name": "stdout",
     "output_type": "stream",
     "text": [
      "               рік\n",
      "count     3.000000\n",
      "mean   2002.666667\n",
      "std       2.081666\n",
      "min    2001.000000\n",
      "25%    2001.500000\n",
      "50%    2002.000000\n",
      "75%    2003.500000\n",
      "max    2005.000000\n"
     ]
    }
   ],
   "source": [
    "# дескриптивна статистика в розрізі типів даних в колонках\n",
    "# print(df[\"ім\\'я\"].describe())\n",
    "print(df.describe())"
   ]
  },
  {
   "cell_type": "markdown",
   "id": "11fbecb5",
   "metadata": {
    "slideshow": {
     "slide_type": "slide"
    }
   },
   "source": [
    "## 4. Статистична обробка даних в Pandas"
   ]
  },
  {
   "cell_type": "code",
   "execution_count": 77,
   "id": "421c20fa",
   "metadata": {
    "scrolled": true,
    "slideshow": {
     "slide_type": "subslide"
    }
   },
   "outputs": [
    {
     "name": "stdout",
     "output_type": "stream",
     "text": [
      "<class 'pandas.core.frame.DataFrame'>\n",
      "RangeIndex: 74437 entries, 0 to 74436\n",
      "Data columns (total 10 columns):\n",
      " #   Column              Non-Null Count  Dtype \n",
      "---  ------              --------------  ----- \n",
      " 0   organunit           74437 non-null  object\n",
      " 1   insertdate          74437 non-null  object\n",
      " 2   brandmodel          74437 non-null  object\n",
      " 3   cartype             74437 non-null  object\n",
      " 4   color               74437 non-null  object\n",
      " 5   vehiclenumber       74437 non-null  object\n",
      " 6   bodynumber          74437 non-null  object\n",
      " 7   chassisnumber       74437 non-null  object\n",
      " 8   enginenumber        74437 non-null  object\n",
      " 9   illegalseizuredate  74437 non-null  object\n",
      "dtypes: object(10)\n",
      "memory usage: 5.7+ MB\n"
     ]
    }
   ],
   "source": [
    "# https://diia.data.gov.ua\n",
    "data_path = \"./DATA/\"\n",
    "stolen_cars = pd.read_json(data_path + \"carswanted.json\")\n",
    "stolen_cars.info()"
   ]
  },
  {
   "cell_type": "markdown",
   "id": "37d26867",
   "metadata": {
    "slideshow": {
     "slide_type": "subslide"
    }
   },
   "source": [
    "#### Попередній аналіз\n",
    "\n",
    "1. Оцінка таблиці \"ззовні\"\n",
    "2. Отримання загальної інформації про поля та формат вцілому\n",
    "3. Перегляд елементарних статистик\n"
   ]
  },
  {
   "cell_type": "code",
   "execution_count": 78,
   "id": "7d8fc3df",
   "metadata": {
    "slideshow": {
     "slide_type": "subslide"
    }
   },
   "outputs": [
    {
     "data": {
      "text/html": [
       "<div>\n",
       "<style scoped>\n",
       "    .dataframe tbody tr th:only-of-type {\n",
       "        vertical-align: middle;\n",
       "    }\n",
       "\n",
       "    .dataframe tbody tr th {\n",
       "        vertical-align: top;\n",
       "    }\n",
       "\n",
       "    .dataframe thead th {\n",
       "        text-align: right;\n",
       "    }\n",
       "</style>\n",
       "<table border=\"1\" class=\"dataframe\">\n",
       "  <thead>\n",
       "    <tr style=\"text-align: right;\">\n",
       "      <th></th>\n",
       "      <th>organunit</th>\n",
       "      <th>insertdate</th>\n",
       "      <th>brandmodel</th>\n",
       "      <th>cartype</th>\n",
       "      <th>color</th>\n",
       "      <th>vehiclenumber</th>\n",
       "      <th>bodynumber</th>\n",
       "      <th>chassisnumber</th>\n",
       "      <th>enginenumber</th>\n",
       "      <th>illegalseizuredate</th>\n",
       "    </tr>\n",
       "  </thead>\n",
       "  <tbody>\n",
       "    <tr>\n",
       "      <th>0</th>\n",
       "      <td>ОБУХІВСЬКИЙ ВІДДІЛ ПОЛІЦІЇ ГУНП В КИЇВСЬКІЙ ОБ...</td>\n",
       "      <td>2021-05-14T15:00:30.000+03:00</td>\n",
       "      <td>BMW - X5</td>\n",
       "      <td>Легковий автотранспорт</td>\n",
       "      <td>ЧОРНИЙ</td>\n",
       "      <td>АІ9055НТ</td>\n",
       "      <td>WBAZW41050L844526</td>\n",
       "      <td></td>\n",
       "      <td>N57D30A30818330</td>\n",
       "      <td>2021-05-12T03:00:00.000+03:00</td>\n",
       "    </tr>\n",
       "    <tr>\n",
       "      <th>1</th>\n",
       "      <td>ЖИТОМИРСЬКИЙ ВІДДІЛ ПОЛІЦІЇ ГУНП В ЖИТОМИРСЬКІ...</td>\n",
       "      <td>2021-06-04T18:15:39.000+03:00</td>\n",
       "      <td>PEUGEOT - 307</td>\n",
       "      <td>Легковий автотранспорт</td>\n",
       "      <td>СІРИЙ</td>\n",
       "      <td>ВС4073НК</td>\n",
       "      <td>VF33CRHYB83212421</td>\n",
       "      <td></td>\n",
       "      <td>10DYRC3000943</td>\n",
       "      <td>2021-06-04T03:00:00.000+03:00</td>\n",
       "    </tr>\n",
       "    <tr>\n",
       "      <th>2</th>\n",
       "      <td>СЛОВ’ЯНСЬКИЙ ВІДДІЛ ПОЛІЦІЇ ГУНП В ДОНЕЦЬКІЙ ОБЛ.</td>\n",
       "      <td>2021-06-20T12:52:58.000+03:00</td>\n",
       "      <td>RENAULT - MEGANE 1.4</td>\n",
       "      <td>Легковий автотранспорт</td>\n",
       "      <td>СИНІЙ</td>\n",
       "      <td>NОS14213</td>\n",
       "      <td>VF1KA0W0522540597</td>\n",
       "      <td></td>\n",
       "      <td></td>\n",
       "      <td>2021-06-19T03:00:00.000+03:00</td>\n",
       "    </tr>\n",
       "  </tbody>\n",
       "</table>\n",
       "</div>"
      ],
      "text/plain": [
       "                                           organunit  \\\n",
       "0  ОБУХІВСЬКИЙ ВІДДІЛ ПОЛІЦІЇ ГУНП В КИЇВСЬКІЙ ОБ...   \n",
       "1  ЖИТОМИРСЬКИЙ ВІДДІЛ ПОЛІЦІЇ ГУНП В ЖИТОМИРСЬКІ...   \n",
       "2  СЛОВ’ЯНСЬКИЙ ВІДДІЛ ПОЛІЦІЇ ГУНП В ДОНЕЦЬКІЙ ОБЛ.   \n",
       "\n",
       "                      insertdate            brandmodel  \\\n",
       "0  2021-05-14T15:00:30.000+03:00              BMW - X5   \n",
       "1  2021-06-04T18:15:39.000+03:00         PEUGEOT - 307   \n",
       "2  2021-06-20T12:52:58.000+03:00  RENAULT - MEGANE 1.4   \n",
       "\n",
       "                  cartype   color vehiclenumber         bodynumber  \\\n",
       "0  Легковий автотранспорт  ЧОРНИЙ      АІ9055НТ  WBAZW41050L844526   \n",
       "1  Легковий автотранспорт   СІРИЙ      ВС4073НК  VF33CRHYB83212421   \n",
       "2  Легковий автотранспорт   СИНІЙ      NОS14213  VF1KA0W0522540597   \n",
       "\n",
       "  chassisnumber     enginenumber             illegalseizuredate  \n",
       "0                N57D30A30818330  2021-05-12T03:00:00.000+03:00  \n",
       "1                  10DYRC3000943  2021-06-04T03:00:00.000+03:00  \n",
       "2                                 2021-06-19T03:00:00.000+03:00  "
      ]
     },
     "execution_count": 78,
     "metadata": {},
     "output_type": "execute_result"
    }
   ],
   "source": [
    "stolen_cars.head(3)"
   ]
  },
  {
   "cell_type": "code",
   "execution_count": 79,
   "id": "87bf7d40",
   "metadata": {
    "slideshow": {
     "slide_type": "subslide"
    }
   },
   "outputs": [
    {
     "data": {
      "text/plain": [
       "(74437, 10)"
      ]
     },
     "execution_count": 79,
     "metadata": {},
     "output_type": "execute_result"
    }
   ],
   "source": [
    "# розмір таблиці\n",
    "stolen_cars.shape"
   ]
  },
  {
   "cell_type": "code",
   "execution_count": 80,
   "id": "0b4af739",
   "metadata": {
    "slideshow": {
     "slide_type": "subslide"
    }
   },
   "outputs": [
    {
     "name": "stdout",
     "output_type": "stream",
     "text": [
      "<class 'pandas.core.frame.DataFrame'>\n",
      "RangeIndex: 74437 entries, 0 to 74436\n",
      "Data columns (total 10 columns):\n",
      " #   Column              Non-Null Count  Dtype \n",
      "---  ------              --------------  ----- \n",
      " 0   organunit           74437 non-null  object\n",
      " 1   insertdate          74437 non-null  object\n",
      " 2   brandmodel          74437 non-null  object\n",
      " 3   cartype             74437 non-null  object\n",
      " 4   color               74437 non-null  object\n",
      " 5   vehiclenumber       74437 non-null  object\n",
      " 6   bodynumber          74437 non-null  object\n",
      " 7   chassisnumber       74437 non-null  object\n",
      " 8   enginenumber        74437 non-null  object\n",
      " 9   illegalseizuredate  74437 non-null  object\n",
      "dtypes: object(10)\n",
      "memory usage: 5.7+ MB\n"
     ]
    }
   ],
   "source": [
    "stolen_cars.info()"
   ]
  },
  {
   "cell_type": "code",
   "execution_count": 81,
   "id": "b67ae4ab",
   "metadata": {
    "scrolled": false,
    "slideshow": {
     "slide_type": "subslide"
    }
   },
   "outputs": [
    {
     "data": {
      "text/plain": [
       "Index(['organunit', 'insertdate', 'brandmodel', 'cartype', 'color',\n",
       "       'vehiclenumber', 'bodynumber', 'chassisnumber', 'enginenumber',\n",
       "       'illegalseizuredate'],\n",
       "      dtype='object')"
      ]
     },
     "execution_count": 81,
     "metadata": {},
     "output_type": "execute_result"
    }
   ],
   "source": [
    "# список найменувань стовпчиків\n",
    "stolen_cars.columns"
   ]
  },
  {
   "cell_type": "code",
   "execution_count": 82,
   "id": "e1b72fe9",
   "metadata": {
    "scrolled": true,
    "slideshow": {
     "slide_type": "subslide"
    }
   },
   "outputs": [
    {
     "data": {
      "text/plain": [
       "array(['Легковий автотранспорт', 'Мотоцикл', 'Вантажний автотранспорт',\n",
       "       'Мопед', 'Тракторний причіп', 'Автопричіп', 'Моторолер',\n",
       "       'Автобус (мікроавтобус)', 'Трактор'], dtype=object)"
      ]
     },
     "execution_count": 82,
     "metadata": {},
     "output_type": "execute_result"
    }
   ],
   "source": [
    "# типи автомобілів\n",
    "stolen_cars.cartype.unique()"
   ]
  },
  {
   "cell_type": "code",
   "execution_count": 83,
   "id": "c1d003d7",
   "metadata": {
    "slideshow": {
     "slide_type": "subslide"
    }
   },
   "outputs": [
    {
     "data": {
      "text/plain": [
       "array(['BMW - X5', 'PEUGEOT - 307', 'RENAULT - MEGANE 1.4', ...,\n",
       "       'Діон - 250 СВ', 'MERCEDES-BENZ - GLA 200 CDI',\n",
       "       'MERCEDES-BENZ - G350'], dtype=object)"
      ]
     },
     "execution_count": 83,
     "metadata": {},
     "output_type": "execute_result"
    }
   ],
   "source": [
    "# марки автомобілів\n",
    "stolen_cars.brandmodel.unique()"
   ]
  },
  {
   "cell_type": "code",
   "execution_count": null,
   "id": "ecae27e2",
   "metadata": {},
   "outputs": [],
   "source": []
  },
  {
   "cell_type": "code",
   "execution_count": 84,
   "id": "557e610f",
   "metadata": {
    "scrolled": false,
    "slideshow": {
     "slide_type": "subslide"
    }
   },
   "outputs": [
    {
     "data": {
      "text/html": [
       "<div>\n",
       "<style scoped>\n",
       "    .dataframe tbody tr th:only-of-type {\n",
       "        vertical-align: middle;\n",
       "    }\n",
       "\n",
       "    .dataframe tbody tr th {\n",
       "        vertical-align: top;\n",
       "    }\n",
       "\n",
       "    .dataframe thead th {\n",
       "        text-align: right;\n",
       "    }\n",
       "</style>\n",
       "<table border=\"1\" class=\"dataframe\">\n",
       "  <thead>\n",
       "    <tr style=\"text-align: right;\">\n",
       "      <th></th>\n",
       "      <th>organunit</th>\n",
       "      <th>insertdate</th>\n",
       "      <th>brandmodel</th>\n",
       "      <th>cartype</th>\n",
       "      <th>color</th>\n",
       "      <th>vehiclenumber</th>\n",
       "      <th>bodynumber</th>\n",
       "      <th>chassisnumber</th>\n",
       "      <th>enginenumber</th>\n",
       "      <th>illegalseizuredate</th>\n",
       "    </tr>\n",
       "  </thead>\n",
       "  <tbody>\n",
       "    <tr>\n",
       "      <th>count</th>\n",
       "      <td>74437</td>\n",
       "      <td>74437</td>\n",
       "      <td>74437</td>\n",
       "      <td>74437</td>\n",
       "      <td>74437</td>\n",
       "      <td>74437</td>\n",
       "      <td>74437</td>\n",
       "      <td>74437</td>\n",
       "      <td>74437</td>\n",
       "      <td>74437</td>\n",
       "    </tr>\n",
       "    <tr>\n",
       "      <th>unique</th>\n",
       "      <td>802</td>\n",
       "      <td>34780</td>\n",
       "      <td>18596</td>\n",
       "      <td>9</td>\n",
       "      <td>242</td>\n",
       "      <td>63308</td>\n",
       "      <td>50948</td>\n",
       "      <td>26816</td>\n",
       "      <td>47142</td>\n",
       "      <td>8958</td>\n",
       "    </tr>\n",
       "    <tr>\n",
       "      <th>top</th>\n",
       "      <td>ДАРНИЦЬКЕ УПРАВЛІННЯ ПОЛІЦІЇ ГУНП В М. КИЄВІ</td>\n",
       "      <td>2007-06-22T03:00:00.000+03:00</td>\n",
       "      <td>HONDA</td>\n",
       "      <td>Легковий автотранспорт</td>\n",
       "      <td>ЧОРНИЙ</td>\n",
       "      <td></td>\n",
       "      <td></td>\n",
       "      <td></td>\n",
       "      <td></td>\n",
       "      <td>2014-04-28T03:00:00.000+03:00</td>\n",
       "    </tr>\n",
       "    <tr>\n",
       "      <th>freq</th>\n",
       "      <td>2031</td>\n",
       "      <td>310</td>\n",
       "      <td>1147</td>\n",
       "      <td>43054</td>\n",
       "      <td>12335</td>\n",
       "      <td>10834</td>\n",
       "      <td>22996</td>\n",
       "      <td>47046</td>\n",
       "      <td>26678</td>\n",
       "      <td>835</td>\n",
       "    </tr>\n",
       "  </tbody>\n",
       "</table>\n",
       "</div>"
      ],
      "text/plain": [
       "                                           organunit  \\\n",
       "count                                          74437   \n",
       "unique                                           802   \n",
       "top     ДАРНИЦЬКЕ УПРАВЛІННЯ ПОЛІЦІЇ ГУНП В М. КИЄВІ   \n",
       "freq                                            2031   \n",
       "\n",
       "                           insertdate brandmodel                 cartype  \\\n",
       "count                           74437      74437                   74437   \n",
       "unique                          34780      18596                       9   \n",
       "top     2007-06-22T03:00:00.000+03:00      HONDA  Легковий автотранспорт   \n",
       "freq                              310       1147                   43054   \n",
       "\n",
       "         color vehiclenumber bodynumber chassisnumber enginenumber  \\\n",
       "count    74437         74437      74437         74437        74437   \n",
       "unique     242         63308      50948         26816        47142   \n",
       "top     ЧОРНИЙ                                                       \n",
       "freq     12335         10834      22996         47046        26678   \n",
       "\n",
       "                   illegalseizuredate  \n",
       "count                           74437  \n",
       "unique                           8958  \n",
       "top     2014-04-28T03:00:00.000+03:00  \n",
       "freq                              835  "
      ]
     },
     "execution_count": 84,
     "metadata": {},
     "output_type": "execute_result"
    }
   ],
   "source": [
    "stolen_cars.describe()"
   ]
  },
  {
   "cell_type": "markdown",
   "id": "3ef7ea21",
   "metadata": {
    "slideshow": {
     "slide_type": "slide"
    }
   },
   "source": [
    "#### Сортування та впорядкування таблиць\n",
    "\n",
    "__Два методи__:\n",
    "- [`sort_index`](https://pandas.pydata.org/docs/reference/api/pandas.DataFrame.sort_index.html)\n",
    "- [`sort_values`](https://pandas.pydata.org/docs/reference/api/pandas.DataFrame.sort_values.html)"
   ]
  },
  {
   "cell_type": "code",
   "execution_count": 85,
   "id": "a5011e81",
   "metadata": {
    "slideshow": {
     "slide_type": "slide"
    }
   },
   "outputs": [
    {
     "data": {
      "text/html": [
       "<div>\n",
       "<style scoped>\n",
       "    .dataframe tbody tr th:only-of-type {\n",
       "        vertical-align: middle;\n",
       "    }\n",
       "\n",
       "    .dataframe tbody tr th {\n",
       "        vertical-align: top;\n",
       "    }\n",
       "\n",
       "    .dataframe thead th {\n",
       "        text-align: right;\n",
       "    }\n",
       "</style>\n",
       "<table border=\"1\" class=\"dataframe\">\n",
       "  <thead>\n",
       "    <tr style=\"text-align: right;\">\n",
       "      <th></th>\n",
       "      <th>organunit</th>\n",
       "      <th>insertdate</th>\n",
       "      <th>brandmodel</th>\n",
       "      <th>cartype</th>\n",
       "      <th>color</th>\n",
       "      <th>vehiclenumber</th>\n",
       "      <th>bodynumber</th>\n",
       "      <th>chassisnumber</th>\n",
       "      <th>enginenumber</th>\n",
       "      <th>illegalseizuredate</th>\n",
       "    </tr>\n",
       "  </thead>\n",
       "  <tbody>\n",
       "    <tr>\n",
       "      <th>0</th>\n",
       "      <td>ОБУХІВСЬКИЙ ВІДДІЛ ПОЛІЦІЇ ГУНП В КИЇВСЬКІЙ ОБ...</td>\n",
       "      <td>2021-05-14T15:00:30.000+03:00</td>\n",
       "      <td>BMW - X5</td>\n",
       "      <td>Легковий автотранспорт</td>\n",
       "      <td>ЧОРНИЙ</td>\n",
       "      <td>АІ9055НТ</td>\n",
       "      <td>WBAZW41050L844526</td>\n",
       "      <td></td>\n",
       "      <td>N57D30A30818330</td>\n",
       "      <td>2021-05-12T03:00:00.000+03:00</td>\n",
       "    </tr>\n",
       "    <tr>\n",
       "      <th>1</th>\n",
       "      <td>ЖИТОМИРСЬКИЙ ВІДДІЛ ПОЛІЦІЇ ГУНП В ЖИТОМИРСЬКІ...</td>\n",
       "      <td>2021-06-04T18:15:39.000+03:00</td>\n",
       "      <td>PEUGEOT - 307</td>\n",
       "      <td>Легковий автотранспорт</td>\n",
       "      <td>СІРИЙ</td>\n",
       "      <td>ВС4073НК</td>\n",
       "      <td>VF33CRHYB83212421</td>\n",
       "      <td></td>\n",
       "      <td>10DYRC3000943</td>\n",
       "      <td>2021-06-04T03:00:00.000+03:00</td>\n",
       "    </tr>\n",
       "    <tr>\n",
       "      <th>2</th>\n",
       "      <td>СЛОВ’ЯНСЬКИЙ ВІДДІЛ ПОЛІЦІЇ ГУНП В ДОНЕЦЬКІЙ ОБЛ.</td>\n",
       "      <td>2021-06-20T12:52:58.000+03:00</td>\n",
       "      <td>RENAULT - MEGANE 1.4</td>\n",
       "      <td>Легковий автотранспорт</td>\n",
       "      <td>СИНІЙ</td>\n",
       "      <td>NОS14213</td>\n",
       "      <td>VF1KA0W0522540597</td>\n",
       "      <td></td>\n",
       "      <td></td>\n",
       "      <td>2021-06-19T03:00:00.000+03:00</td>\n",
       "    </tr>\n",
       "    <tr>\n",
       "      <th>3</th>\n",
       "      <td>ОБОЛОНСЬКЕ УПРАВЛІННЯ ПОЛІЦІЇ ГУНП В М. КИЄВІ</td>\n",
       "      <td>2021-07-02T16:00:22.000+03:00</td>\n",
       "      <td>MITSUBISHI - OUTLANDER</td>\n",
       "      <td>Легковий автотранспорт</td>\n",
       "      <td>ЧОРНИЙ</td>\n",
       "      <td>КА4816ВВ</td>\n",
       "      <td>JA4AZ3A39GZ042736</td>\n",
       "      <td></td>\n",
       "      <td>4J12RM0771</td>\n",
       "      <td>2021-07-02T03:00:00.000+03:00</td>\n",
       "    </tr>\n",
       "    <tr>\n",
       "      <th>4</th>\n",
       "      <td>ЧЕРНІГІВСЬКИЙ ВІДДІЛ ПОЛІЦІЇ ГУНП В ЧЕРНІГІВСЬ...</td>\n",
       "      <td>2021-07-19T18:19:03.000+03:00</td>\n",
       "      <td>SPARK - SP80S-15</td>\n",
       "      <td>Мотоцикл</td>\n",
       "      <td>ЧЕРВОНИЙ</td>\n",
       "      <td>СВ2304АВ</td>\n",
       "      <td></td>\n",
       "      <td>L2BB9NCC9HB420061</td>\n",
       "      <td>1P47QMD91703169</td>\n",
       "      <td>2021-07-19T03:00:00.000+03:00</td>\n",
       "    </tr>\n",
       "  </tbody>\n",
       "</table>\n",
       "</div>"
      ],
      "text/plain": [
       "                                           organunit  \\\n",
       "0  ОБУХІВСЬКИЙ ВІДДІЛ ПОЛІЦІЇ ГУНП В КИЇВСЬКІЙ ОБ...   \n",
       "1  ЖИТОМИРСЬКИЙ ВІДДІЛ ПОЛІЦІЇ ГУНП В ЖИТОМИРСЬКІ...   \n",
       "2  СЛОВ’ЯНСЬКИЙ ВІДДІЛ ПОЛІЦІЇ ГУНП В ДОНЕЦЬКІЙ ОБЛ.   \n",
       "3      ОБОЛОНСЬКЕ УПРАВЛІННЯ ПОЛІЦІЇ ГУНП В М. КИЄВІ   \n",
       "4  ЧЕРНІГІВСЬКИЙ ВІДДІЛ ПОЛІЦІЇ ГУНП В ЧЕРНІГІВСЬ...   \n",
       "\n",
       "                      insertdate              brandmodel  \\\n",
       "0  2021-05-14T15:00:30.000+03:00                BMW - X5   \n",
       "1  2021-06-04T18:15:39.000+03:00           PEUGEOT - 307   \n",
       "2  2021-06-20T12:52:58.000+03:00    RENAULT - MEGANE 1.4   \n",
       "3  2021-07-02T16:00:22.000+03:00  MITSUBISHI - OUTLANDER   \n",
       "4  2021-07-19T18:19:03.000+03:00        SPARK - SP80S-15   \n",
       "\n",
       "                  cartype     color vehiclenumber         bodynumber  \\\n",
       "0  Легковий автотранспорт    ЧОРНИЙ      АІ9055НТ  WBAZW41050L844526   \n",
       "1  Легковий автотранспорт     СІРИЙ      ВС4073НК  VF33CRHYB83212421   \n",
       "2  Легковий автотранспорт     СИНІЙ      NОS14213  VF1KA0W0522540597   \n",
       "3  Легковий автотранспорт    ЧОРНИЙ      КА4816ВВ  JA4AZ3A39GZ042736   \n",
       "4                Мотоцикл  ЧЕРВОНИЙ      СВ2304АВ                      \n",
       "\n",
       "       chassisnumber     enginenumber             illegalseizuredate  \n",
       "0                     N57D30A30818330  2021-05-12T03:00:00.000+03:00  \n",
       "1                       10DYRC3000943  2021-06-04T03:00:00.000+03:00  \n",
       "2                                      2021-06-19T03:00:00.000+03:00  \n",
       "3                          4J12RM0771  2021-07-02T03:00:00.000+03:00  \n",
       "4  L2BB9NCC9HB420061  1P47QMD91703169  2021-07-19T03:00:00.000+03:00  "
      ]
     },
     "execution_count": 85,
     "metadata": {},
     "output_type": "execute_result"
    }
   ],
   "source": [
    "stolen_cars.head(5)"
   ]
  },
  {
   "cell_type": "code",
   "execution_count": 86,
   "id": "87b503d6",
   "metadata": {
    "slideshow": {
     "slide_type": "slide"
    }
   },
   "outputs": [
    {
     "data": {
      "text/html": [
       "<div>\n",
       "<style scoped>\n",
       "    .dataframe tbody tr th:only-of-type {\n",
       "        vertical-align: middle;\n",
       "    }\n",
       "\n",
       "    .dataframe tbody tr th {\n",
       "        vertical-align: top;\n",
       "    }\n",
       "\n",
       "    .dataframe thead th {\n",
       "        text-align: right;\n",
       "    }\n",
       "</style>\n",
       "<table border=\"1\" class=\"dataframe\">\n",
       "  <thead>\n",
       "    <tr style=\"text-align: right;\">\n",
       "      <th></th>\n",
       "      <th>bodynumber</th>\n",
       "      <th>brandmodel</th>\n",
       "      <th>cartype</th>\n",
       "      <th>chassisnumber</th>\n",
       "      <th>color</th>\n",
       "      <th>enginenumber</th>\n",
       "      <th>illegalseizuredate</th>\n",
       "      <th>insertdate</th>\n",
       "      <th>organunit</th>\n",
       "      <th>vehiclenumber</th>\n",
       "    </tr>\n",
       "  </thead>\n",
       "  <tbody>\n",
       "    <tr>\n",
       "      <th>0</th>\n",
       "      <td>WBAZW41050L844526</td>\n",
       "      <td>BMW - X5</td>\n",
       "      <td>Легковий автотранспорт</td>\n",
       "      <td></td>\n",
       "      <td>ЧОРНИЙ</td>\n",
       "      <td>N57D30A30818330</td>\n",
       "      <td>2021-05-12T03:00:00.000+03:00</td>\n",
       "      <td>2021-05-14T15:00:30.000+03:00</td>\n",
       "      <td>ОБУХІВСЬКИЙ ВІДДІЛ ПОЛІЦІЇ ГУНП В КИЇВСЬКІЙ ОБ...</td>\n",
       "      <td>АІ9055НТ</td>\n",
       "    </tr>\n",
       "    <tr>\n",
       "      <th>1</th>\n",
       "      <td>VF33CRHYB83212421</td>\n",
       "      <td>PEUGEOT - 307</td>\n",
       "      <td>Легковий автотранспорт</td>\n",
       "      <td></td>\n",
       "      <td>СІРИЙ</td>\n",
       "      <td>10DYRC3000943</td>\n",
       "      <td>2021-06-04T03:00:00.000+03:00</td>\n",
       "      <td>2021-06-04T18:15:39.000+03:00</td>\n",
       "      <td>ЖИТОМИРСЬКИЙ ВІДДІЛ ПОЛІЦІЇ ГУНП В ЖИТОМИРСЬКІ...</td>\n",
       "      <td>ВС4073НК</td>\n",
       "    </tr>\n",
       "    <tr>\n",
       "      <th>2</th>\n",
       "      <td>VF1KA0W0522540597</td>\n",
       "      <td>RENAULT - MEGANE 1.4</td>\n",
       "      <td>Легковий автотранспорт</td>\n",
       "      <td></td>\n",
       "      <td>СИНІЙ</td>\n",
       "      <td></td>\n",
       "      <td>2021-06-19T03:00:00.000+03:00</td>\n",
       "      <td>2021-06-20T12:52:58.000+03:00</td>\n",
       "      <td>СЛОВ’ЯНСЬКИЙ ВІДДІЛ ПОЛІЦІЇ ГУНП В ДОНЕЦЬКІЙ ОБЛ.</td>\n",
       "      <td>NОS14213</td>\n",
       "    </tr>\n",
       "  </tbody>\n",
       "</table>\n",
       "</div>"
      ],
      "text/plain": [
       "          bodynumber            brandmodel                 cartype  \\\n",
       "0  WBAZW41050L844526              BMW - X5  Легковий автотранспорт   \n",
       "1  VF33CRHYB83212421         PEUGEOT - 307  Легковий автотранспорт   \n",
       "2  VF1KA0W0522540597  RENAULT - MEGANE 1.4  Легковий автотранспорт   \n",
       "\n",
       "  chassisnumber   color     enginenumber             illegalseizuredate  \\\n",
       "0                ЧОРНИЙ  N57D30A30818330  2021-05-12T03:00:00.000+03:00   \n",
       "1                 СІРИЙ    10DYRC3000943  2021-06-04T03:00:00.000+03:00   \n",
       "2                 СИНІЙ                   2021-06-19T03:00:00.000+03:00   \n",
       "\n",
       "                      insertdate  \\\n",
       "0  2021-05-14T15:00:30.000+03:00   \n",
       "1  2021-06-04T18:15:39.000+03:00   \n",
       "2  2021-06-20T12:52:58.000+03:00   \n",
       "\n",
       "                                           organunit vehiclenumber  \n",
       "0  ОБУХІВСЬКИЙ ВІДДІЛ ПОЛІЦІЇ ГУНП В КИЇВСЬКІЙ ОБ...      АІ9055НТ  \n",
       "1  ЖИТОМИРСЬКИЙ ВІДДІЛ ПОЛІЦІЇ ГУНП В ЖИТОМИРСЬКІ...      ВС4073НК  \n",
       "2  СЛОВ’ЯНСЬКИЙ ВІДДІЛ ПОЛІЦІЇ ГУНП В ДОНЕЦЬКІЙ ОБЛ.      NОS14213  "
      ]
     },
     "execution_count": 86,
     "metadata": {},
     "output_type": "execute_result"
    }
   ],
   "source": [
    "# впорядкування по стовпчику/рядку\n",
    "stolen_cars.sort_index(axis=1).head(3)"
   ]
  },
  {
   "cell_type": "code",
   "execution_count": 87,
   "id": "96fdd140",
   "metadata": {
    "slideshow": {
     "slide_type": "slide"
    }
   },
   "outputs": [
    {
     "data": {
      "text/html": [
       "<div>\n",
       "<style scoped>\n",
       "    .dataframe tbody tr th:only-of-type {\n",
       "        vertical-align: middle;\n",
       "    }\n",
       "\n",
       "    .dataframe tbody tr th {\n",
       "        vertical-align: top;\n",
       "    }\n",
       "\n",
       "    .dataframe thead th {\n",
       "        text-align: right;\n",
       "    }\n",
       "</style>\n",
       "<table border=\"1\" class=\"dataframe\">\n",
       "  <thead>\n",
       "    <tr style=\"text-align: right;\">\n",
       "      <th></th>\n",
       "      <th>organunit</th>\n",
       "      <th>insertdate</th>\n",
       "      <th>brandmodel</th>\n",
       "      <th>cartype</th>\n",
       "      <th>color</th>\n",
       "      <th>vehiclenumber</th>\n",
       "      <th>bodynumber</th>\n",
       "      <th>chassisnumber</th>\n",
       "      <th>enginenumber</th>\n",
       "      <th>illegalseizuredate</th>\n",
       "    </tr>\n",
       "  </thead>\n",
       "  <tbody>\n",
       "    <tr>\n",
       "      <th>2510</th>\n",
       "      <td>СОЛОМ’ЯНСЬКЕ УПРАВЛІННЯ ПОЛІЦІЇ ГУНП В М. КИЄВІ</td>\n",
       "      <td>2002-09-25T03:00:00.000+03:00</td>\n",
       "      <td>VOLKSWAGEN</td>\n",
       "      <td>Автобус (мікроавтобус)</td>\n",
       "      <td>067</td>\n",
       "      <td></td>\n",
       "      <td>WV2ZZZ70Z2H046548</td>\n",
       "      <td></td>\n",
       "      <td>ACV318988</td>\n",
       "      <td>2002-09-24T03:00:00.000+03:00</td>\n",
       "    </tr>\n",
       "    <tr>\n",
       "      <th>39826</th>\n",
       "      <td>ЗАЛІЗНИЧНИЙ ВІДДІЛ ПОЛІЦІЇ ГУНП У ЛЬВІВСЬКІЙ О...</td>\n",
       "      <td>1996-04-19T03:00:00.000+03:00</td>\n",
       "      <td>VOLKSWAGENEUROVAN</td>\n",
       "      <td>Автобус (мікроавтобус)</td>\n",
       "      <td>БEЛЫЙ</td>\n",
       "      <td>С662306</td>\n",
       "      <td>WU2ZZZ70ZSH111270</td>\n",
       "      <td></td>\n",
       "      <td>AAC059750</td>\n",
       "      <td>1996-04-18T03:00:00.000+03:00</td>\n",
       "    </tr>\n",
       "    <tr>\n",
       "      <th>620</th>\n",
       "      <td>СЄВЄРОДОНЕЦЬКИЙ ВІДДІЛ ПОЛІЦІЇ ГУНП В ЛУГАНСЬК...</td>\n",
       "      <td>2021-11-09T11:08:55.000+02:00</td>\n",
       "      <td>MERCEDES-BENZ - SPRINTER 311 C</td>\n",
       "      <td>Автобус (мікроавтобус)</td>\n",
       "      <td>БІЛИЙ</td>\n",
       "      <td>ВВ4443СР</td>\n",
       "      <td>WDB9066331S122317</td>\n",
       "      <td></td>\n",
       "      <td>64698551249936</td>\n",
       "      <td>2021-11-08T02:00:00.000+02:00</td>\n",
       "    </tr>\n",
       "    <tr>\n",
       "      <th>621</th>\n",
       "      <td>СЄВЄРОДОНЕЦЬКИЙ ВІДДІЛ ПОЛІЦІЇ ГУНП В ЛУГАНСЬК...</td>\n",
       "      <td>2021-11-09T11:11:11.000+02:00</td>\n",
       "      <td>VOLKSWAGEN - CRAFTER</td>\n",
       "      <td>Автобус (мікроавтобус)</td>\n",
       "      <td>БІЛИЙ</td>\n",
       "      <td>ВВ5222СТ</td>\n",
       "      <td>WV1ZZZ2EZ86014169</td>\n",
       "      <td></td>\n",
       "      <td></td>\n",
       "      <td>2021-11-08T02:00:00.000+02:00</td>\n",
       "    </tr>\n",
       "    <tr>\n",
       "      <th>622</th>\n",
       "      <td>СЄВЄРОДОНЕЦЬКИЙ ВІДДІЛ ПОЛІЦІЇ ГУНП В ЛУГАНСЬК...</td>\n",
       "      <td>2021-11-09T11:13:46.000+02:00</td>\n",
       "      <td>MERCEDES-BENZ - SPRINTER 316 C</td>\n",
       "      <td>Автобус (мікроавтобус)</td>\n",
       "      <td>БІЛИЙ</td>\n",
       "      <td>ВВ4555СН</td>\n",
       "      <td>WDB9036621R597126</td>\n",
       "      <td></td>\n",
       "      <td>61298150846955</td>\n",
       "      <td>2021-11-08T02:00:00.000+02:00</td>\n",
       "    </tr>\n",
       "    <tr>\n",
       "      <th>...</th>\n",
       "      <td>...</td>\n",
       "      <td>...</td>\n",
       "      <td>...</td>\n",
       "      <td>...</td>\n",
       "      <td>...</td>\n",
       "      <td>...</td>\n",
       "      <td>...</td>\n",
       "      <td>...</td>\n",
       "      <td>...</td>\n",
       "      <td>...</td>\n",
       "    </tr>\n",
       "    <tr>\n",
       "      <th>62616</th>\n",
       "      <td>ЛИМАНСЬКЕ ВІДДІЛЕННЯ ПОЛІЦІЇ СЛОВ’ЯНСЬКОГО ВІД...</td>\n",
       "      <td>2011-04-08T03:00:00.000+03:00</td>\n",
       "      <td>ПТ - 2ПТС4</td>\n",
       "      <td>Тракторний причіп</td>\n",
       "      <td>ЧЕРВОНИЙ</td>\n",
       "      <td>06604ТМ</td>\n",
       "      <td></td>\n",
       "      <td>0</td>\n",
       "      <td></td>\n",
       "      <td>2011-04-08T03:00:00.000+03:00</td>\n",
       "    </tr>\n",
       "    <tr>\n",
       "      <th>72032</th>\n",
       "      <td>КОСТЯНТИНІВСЬКЕ ВІДДІЛЕННЯ ПОЛІЦІЇ БАХМУТСЬКОГ...</td>\n",
       "      <td>2020-01-16T19:48:28.000+02:00</td>\n",
       "      <td>BODEX - KIS 3W</td>\n",
       "      <td>Тракторний причіп</td>\n",
       "      <td>ЧЕРВОНИЙ</td>\n",
       "      <td>АН6465ХТ</td>\n",
       "      <td></td>\n",
       "      <td>SU90333GH8SBU1713</td>\n",
       "      <td></td>\n",
       "      <td>2014-11-11T02:00:00.000+02:00</td>\n",
       "    </tr>\n",
       "    <tr>\n",
       "      <th>12989</th>\n",
       "      <td>ПЕРШОТРАВНЕВИЙ РВ В М.ЧЕРНІВЦІ УМВСУ В ЧЕРНІВЕ...</td>\n",
       "      <td>2004-08-28T03:00:00.000+03:00</td>\n",
       "      <td>ПГC4</td>\n",
       "      <td>Тракторний причіп</td>\n",
       "      <td>ЧЕРНЫЙ</td>\n",
       "      <td>4685ЧС</td>\n",
       "      <td></td>\n",
       "      <td>001197</td>\n",
       "      <td></td>\n",
       "      <td>2004-08-20T03:00:00.000+03:00</td>\n",
       "    </tr>\n",
       "    <tr>\n",
       "      <th>58891</th>\n",
       "      <td>ТАЛАЛАЇВСЬКЕ ВІДДІЛЕННЯ ПОЛІЦІЇ ПРИЛУЦЬКОГО ВІ...</td>\n",
       "      <td>2015-01-26T02:00:00.000+02:00</td>\n",
       "      <td>2ПТС-4</td>\n",
       "      <td>Тракторний причіп</td>\n",
       "      <td>ЧОРНИЙ</td>\n",
       "      <td>8170ФЮ</td>\n",
       "      <td></td>\n",
       "      <td>300468</td>\n",
       "      <td></td>\n",
       "      <td>2014-09-27T03:00:00.000+03:00</td>\n",
       "    </tr>\n",
       "    <tr>\n",
       "      <th>64437</th>\n",
       "      <td>ПУТИВЛЬСЬКЕ ВІДДІЛЕННЯ ПОЛІЦІЇ ГЛУХІВСЬКОГО ВІ...</td>\n",
       "      <td>2014-04-20T03:00:00.000+03:00</td>\n",
       "      <td>2ПТС - 4</td>\n",
       "      <td>Тракторний причіп</td>\n",
       "      <td>ЧОРНИЙ</td>\n",
       "      <td>СД9782</td>\n",
       "      <td>223644</td>\n",
       "      <td></td>\n",
       "      <td></td>\n",
       "      <td>2014-04-16T03:00:00.000+03:00</td>\n",
       "    </tr>\n",
       "  </tbody>\n",
       "</table>\n",
       "<p>74437 rows × 10 columns</p>\n",
       "</div>"
      ],
      "text/plain": [
       "                                               organunit  \\\n",
       "2510     СОЛОМ’ЯНСЬКЕ УПРАВЛІННЯ ПОЛІЦІЇ ГУНП В М. КИЄВІ   \n",
       "39826  ЗАЛІЗНИЧНИЙ ВІДДІЛ ПОЛІЦІЇ ГУНП У ЛЬВІВСЬКІЙ О...   \n",
       "620    СЄВЄРОДОНЕЦЬКИЙ ВІДДІЛ ПОЛІЦІЇ ГУНП В ЛУГАНСЬК...   \n",
       "621    СЄВЄРОДОНЕЦЬКИЙ ВІДДІЛ ПОЛІЦІЇ ГУНП В ЛУГАНСЬК...   \n",
       "622    СЄВЄРОДОНЕЦЬКИЙ ВІДДІЛ ПОЛІЦІЇ ГУНП В ЛУГАНСЬК...   \n",
       "...                                                  ...   \n",
       "62616  ЛИМАНСЬКЕ ВІДДІЛЕННЯ ПОЛІЦІЇ СЛОВ’ЯНСЬКОГО ВІД...   \n",
       "72032  КОСТЯНТИНІВСЬКЕ ВІДДІЛЕННЯ ПОЛІЦІЇ БАХМУТСЬКОГ...   \n",
       "12989  ПЕРШОТРАВНЕВИЙ РВ В М.ЧЕРНІВЦІ УМВСУ В ЧЕРНІВЕ...   \n",
       "58891  ТАЛАЛАЇВСЬКЕ ВІДДІЛЕННЯ ПОЛІЦІЇ ПРИЛУЦЬКОГО ВІ...   \n",
       "64437  ПУТИВЛЬСЬКЕ ВІДДІЛЕННЯ ПОЛІЦІЇ ГЛУХІВСЬКОГО ВІ...   \n",
       "\n",
       "                          insertdate                      brandmodel  \\\n",
       "2510   2002-09-25T03:00:00.000+03:00                      VOLKSWAGEN   \n",
       "39826  1996-04-19T03:00:00.000+03:00               VOLKSWAGENEUROVAN   \n",
       "620    2021-11-09T11:08:55.000+02:00  MERCEDES-BENZ - SPRINTER 311 C   \n",
       "621    2021-11-09T11:11:11.000+02:00            VOLKSWAGEN - CRAFTER   \n",
       "622    2021-11-09T11:13:46.000+02:00  MERCEDES-BENZ - SPRINTER 316 C   \n",
       "...                              ...                             ...   \n",
       "62616  2011-04-08T03:00:00.000+03:00                      ПТ - 2ПТС4   \n",
       "72032  2020-01-16T19:48:28.000+02:00                  BODEX - KIS 3W   \n",
       "12989  2004-08-28T03:00:00.000+03:00                            ПГC4   \n",
       "58891  2015-01-26T02:00:00.000+02:00                          2ПТС-4   \n",
       "64437  2014-04-20T03:00:00.000+03:00                        2ПТС - 4   \n",
       "\n",
       "                      cartype     color vehiclenumber         bodynumber  \\\n",
       "2510   Автобус (мікроавтобус)       067                WV2ZZZ70Z2H046548   \n",
       "39826  Автобус (мікроавтобус)     БEЛЫЙ       С662306  WU2ZZZ70ZSH111270   \n",
       "620    Автобус (мікроавтобус)     БІЛИЙ      ВВ4443СР  WDB9066331S122317   \n",
       "621    Автобус (мікроавтобус)     БІЛИЙ      ВВ5222СТ  WV1ZZZ2EZ86014169   \n",
       "622    Автобус (мікроавтобус)     БІЛИЙ      ВВ4555СН  WDB9036621R597126   \n",
       "...                       ...       ...           ...                ...   \n",
       "62616       Тракторний причіп  ЧЕРВОНИЙ       06604ТМ                      \n",
       "72032       Тракторний причіп  ЧЕРВОНИЙ      АН6465ХТ                      \n",
       "12989       Тракторний причіп    ЧЕРНЫЙ        4685ЧС                      \n",
       "58891       Тракторний причіп    ЧОРНИЙ        8170ФЮ                      \n",
       "64437       Тракторний причіп    ЧОРНИЙ        СД9782             223644   \n",
       "\n",
       "           chassisnumber    enginenumber             illegalseizuredate  \n",
       "2510                           ACV318988  2002-09-24T03:00:00.000+03:00  \n",
       "39826                          AAC059750  1996-04-18T03:00:00.000+03:00  \n",
       "620                       64698551249936  2021-11-08T02:00:00.000+02:00  \n",
       "621                                       2021-11-08T02:00:00.000+02:00  \n",
       "622                       61298150846955  2021-11-08T02:00:00.000+02:00  \n",
       "...                  ...             ...                            ...  \n",
       "62616                  0                  2011-04-08T03:00:00.000+03:00  \n",
       "72032  SU90333GH8SBU1713                  2014-11-11T02:00:00.000+02:00  \n",
       "12989             001197                  2004-08-20T03:00:00.000+03:00  \n",
       "58891             300468                  2014-09-27T03:00:00.000+03:00  \n",
       "64437                                     2014-04-16T03:00:00.000+03:00  \n",
       "\n",
       "[74437 rows x 10 columns]"
      ]
     },
     "execution_count": 87,
     "metadata": {},
     "output_type": "execute_result"
    }
   ],
   "source": [
    "# сортування по показчиках\n",
    "stolen_cars.sort_values(['cartype', 'color'])"
   ]
  },
  {
   "cell_type": "markdown",
   "id": "bbd08907",
   "metadata": {
    "slideshow": {
     "slide_type": "slide"
    }
   },
   "source": [
    "#### Групування, узагальненя та агрегація даних\n",
    "\n",
    "1. [`groupby`](https://pandas.pydata.org/docs/reference/api/pandas.DataFrame.groupby.html)\n",
    "2. [`pivot-table`](https://pandas.pydata.org/docs/reference/api/pandas.pivot_table.html)\n",
    "3. [`crosstab`](https://pandas.pydata.org/docs/reference/api/pandas.crosstab.html)"
   ]
  },
  {
   "attachments": {
    "image.png": {
     "image/png": "[encoded data removed]"
    }
   },
   "cell_type": "markdown",
   "id": "ba3f2d2d",
   "metadata": {
    "slideshow": {
     "slide_type": "subslide"
    }
   },
   "source": [
    "Cхема роботи __groupby__\n",
    "![image.png](attachment:image.png)"
   ]
  },
  {
   "cell_type": "code",
   "execution_count": 89,
   "id": "7b085e79",
   "metadata": {
    "slideshow": {
     "slide_type": "subslide"
    }
   },
   "outputs": [
    {
     "data": {
      "text/plain": [
       "cartype\n",
       "Автобус (мікроавтобус)      1052\n",
       "Автопричіп                  1884\n",
       "Вантажний автотранспорт     4659\n",
       "Легковий автотранспорт     43054\n",
       "Мопед                      10974\n",
       "Моторолер                   2747\n",
       "Мотоцикл                    9059\n",
       "Трактор                      925\n",
       "Тракторний причіп             83\n",
       "Name: cartype, dtype: int64"
      ]
     },
     "execution_count": 89,
     "metadata": {},
     "output_type": "execute_result"
    }
   ],
   "source": [
    "# Групування по типу автомобілів з підрахунком кількості\n",
    "by_types = stolen_cars.groupby(by=['cartype'])['cartype'].count()\n",
    "by_types"
   ]
  },
  {
   "cell_type": "code",
   "execution_count": 92,
   "id": "42b95b68",
   "metadata": {
    "slideshow": {
     "slide_type": "subslide"
    }
   },
   "outputs": [
    {
     "data": {
      "text/html": [
       "<div>\n",
       "<style scoped>\n",
       "    .dataframe tbody tr th:only-of-type {\n",
       "        vertical-align: middle;\n",
       "    }\n",
       "\n",
       "    .dataframe tbody tr th {\n",
       "        vertical-align: top;\n",
       "    }\n",
       "\n",
       "    .dataframe thead th {\n",
       "        text-align: right;\n",
       "    }\n",
       "</style>\n",
       "<table border=\"1\" class=\"dataframe\">\n",
       "  <thead>\n",
       "    <tr style=\"text-align: right;\">\n",
       "      <th></th>\n",
       "      <th>count</th>\n",
       "    </tr>\n",
       "    <tr>\n",
       "      <th>cartype</th>\n",
       "      <th></th>\n",
       "    </tr>\n",
       "  </thead>\n",
       "  <tbody>\n",
       "    <tr>\n",
       "      <th>Автобус (мікроавтобус)</th>\n",
       "      <td>1052</td>\n",
       "    </tr>\n",
       "    <tr>\n",
       "      <th>Автопричіп</th>\n",
       "      <td>1884</td>\n",
       "    </tr>\n",
       "    <tr>\n",
       "      <th>Вантажний автотранспорт</th>\n",
       "      <td>4659</td>\n",
       "    </tr>\n",
       "    <tr>\n",
       "      <th>Легковий автотранспорт</th>\n",
       "      <td>43054</td>\n",
       "    </tr>\n",
       "    <tr>\n",
       "      <th>Мопед</th>\n",
       "      <td>10974</td>\n",
       "    </tr>\n",
       "    <tr>\n",
       "      <th>Моторолер</th>\n",
       "      <td>2747</td>\n",
       "    </tr>\n",
       "    <tr>\n",
       "      <th>Мотоцикл</th>\n",
       "      <td>9059</td>\n",
       "    </tr>\n",
       "    <tr>\n",
       "      <th>Трактор</th>\n",
       "      <td>925</td>\n",
       "    </tr>\n",
       "    <tr>\n",
       "      <th>Тракторний причіп</th>\n",
       "      <td>83</td>\n",
       "    </tr>\n",
       "  </tbody>\n",
       "</table>\n",
       "</div>"
      ],
      "text/plain": [
       "                         count\n",
       "cartype                       \n",
       "Автобус (мікроавтобус)    1052\n",
       "Автопричіп                1884\n",
       "Вантажний автотранспорт   4659\n",
       "Легковий автотранспорт   43054\n",
       "Мопед                    10974\n",
       "Моторолер                 2747\n",
       "Мотоцикл                  9059\n",
       "Трактор                    925\n",
       "Тракторний причіп           83"
      ]
     },
     "execution_count": 92,
     "metadata": {},
     "output_type": "execute_result"
    }
   ],
   "source": [
    "stolen_cars.groupby('cartype')['cartype'].agg(['count'])"
   ]
  },
  {
   "cell_type": "code",
   "execution_count": 93,
   "id": "6e797bcd",
   "metadata": {
    "slideshow": {
     "slide_type": "subslide"
    }
   },
   "outputs": [
    {
     "data": {
      "text/plain": [
       "count        9.000000\n",
       "mean      8270.777778\n",
       "std      13579.673006\n",
       "min         83.000000\n",
       "25%       1052.000000\n",
       "50%       2747.000000\n",
       "75%       9059.000000\n",
       "max      43054.000000\n",
       "Name: cartype, dtype: float64"
      ]
     },
     "execution_count": 93,
     "metadata": {},
     "output_type": "execute_result"
    }
   ],
   "source": [
    "# елементарні статистики виборки\n",
    "by_types.describe()"
   ]
  },
  {
   "attachments": {
    "image.png": {
     "image/png": "[encoded data removed]"
    }
   },
   "cell_type": "markdown",
   "id": "393223ad",
   "metadata": {
    "slideshow": {
     "slide_type": "slide"
    }
   },
   "source": [
    "Зведені таблиці __pivot_table__\n",
    "![image.png](attachment:image.png)"
   ]
  },
  {
   "cell_type": "code",
   "execution_count": 94,
   "id": "bc01677a",
   "metadata": {
    "slideshow": {
     "slide_type": "subslide"
    }
   },
   "outputs": [
    {
     "data": {
      "text/html": [
       "<div>\n",
       "<style scoped>\n",
       "    .dataframe tbody tr th:only-of-type {\n",
       "        vertical-align: middle;\n",
       "    }\n",
       "\n",
       "    .dataframe tbody tr th {\n",
       "        vertical-align: top;\n",
       "    }\n",
       "\n",
       "    .dataframe thead th {\n",
       "        text-align: right;\n",
       "    }\n",
       "</style>\n",
       "<table border=\"1\" class=\"dataframe\">\n",
       "  <thead>\n",
       "    <tr style=\"text-align: right;\">\n",
       "      <th>cartype</th>\n",
       "      <th>Автобус (мікроавтобус)</th>\n",
       "      <th>Автопричіп</th>\n",
       "      <th>Вантажний автотранспорт</th>\n",
       "      <th>Легковий автотранспорт</th>\n",
       "      <th>Мопед</th>\n",
       "      <th>Моторолер</th>\n",
       "      <th>Мотоцикл</th>\n",
       "      <th>Трактор</th>\n",
       "      <th>Тракторний причіп</th>\n",
       "    </tr>\n",
       "    <tr>\n",
       "      <th>color</th>\n",
       "      <th></th>\n",
       "      <th></th>\n",
       "      <th></th>\n",
       "      <th></th>\n",
       "      <th></th>\n",
       "      <th></th>\n",
       "      <th></th>\n",
       "      <th></th>\n",
       "      <th></th>\n",
       "    </tr>\n",
       "  </thead>\n",
       "  <tbody>\n",
       "    <tr>\n",
       "      <th>ФИОЛЕТОВЫЙ</th>\n",
       "      <td>NaN</td>\n",
       "      <td>NaN</td>\n",
       "      <td>NaN</td>\n",
       "      <td>3.0</td>\n",
       "      <td>1.0</td>\n",
       "      <td>NaN</td>\n",
       "      <td>1.0</td>\n",
       "      <td>NaN</td>\n",
       "      <td>NaN</td>\n",
       "    </tr>\n",
       "    <tr>\n",
       "      <th>ЧEPHO KPACHЫЙ</th>\n",
       "      <td>NaN</td>\n",
       "      <td>NaN</td>\n",
       "      <td>NaN</td>\n",
       "      <td>NaN</td>\n",
       "      <td>NaN</td>\n",
       "      <td>NaN</td>\n",
       "      <td>1.0</td>\n",
       "      <td>NaN</td>\n",
       "      <td>NaN</td>\n",
       "    </tr>\n",
       "    <tr>\n",
       "      <th>ЧEPHЫЙ</th>\n",
       "      <td>NaN</td>\n",
       "      <td>1.0</td>\n",
       "      <td>NaN</td>\n",
       "      <td>13.0</td>\n",
       "      <td>2.0</td>\n",
       "      <td>NaN</td>\n",
       "      <td>61.0</td>\n",
       "      <td>NaN</td>\n",
       "      <td>NaN</td>\n",
       "    </tr>\n",
       "    <tr>\n",
       "      <th>ЧЕPHЫЙ</th>\n",
       "      <td>NaN</td>\n",
       "      <td>NaN</td>\n",
       "      <td>NaN</td>\n",
       "      <td>NaN</td>\n",
       "      <td>NaN</td>\n",
       "      <td>NaN</td>\n",
       "      <td>1.0</td>\n",
       "      <td>NaN</td>\n",
       "      <td>NaN</td>\n",
       "    </tr>\n",
       "    <tr>\n",
       "      <th>ЧЕРHЫЙ</th>\n",
       "      <td>NaN</td>\n",
       "      <td>NaN</td>\n",
       "      <td>NaN</td>\n",
       "      <td>9.0</td>\n",
       "      <td>NaN</td>\n",
       "      <td>NaN</td>\n",
       "      <td>NaN</td>\n",
       "      <td>NaN</td>\n",
       "      <td>NaN</td>\n",
       "    </tr>\n",
       "    <tr>\n",
       "      <th>ЧЕРВОНИЙ</th>\n",
       "      <td>53.0</td>\n",
       "      <td>118.0</td>\n",
       "      <td>283.0</td>\n",
       "      <td>4195.0</td>\n",
       "      <td>2076.0</td>\n",
       "      <td>428.0</td>\n",
       "      <td>2457.0</td>\n",
       "      <td>69.0</td>\n",
       "      <td>6.0</td>\n",
       "    </tr>\n",
       "    <tr>\n",
       "      <th>ЧЕРНО БЕЛЫЙ</th>\n",
       "      <td>NaN</td>\n",
       "      <td>NaN</td>\n",
       "      <td>NaN</td>\n",
       "      <td>NaN</td>\n",
       "      <td>NaN</td>\n",
       "      <td>NaN</td>\n",
       "      <td>1.0</td>\n",
       "      <td>NaN</td>\n",
       "      <td>NaN</td>\n",
       "    </tr>\n",
       "    <tr>\n",
       "      <th>ЧЕРНО-БЕЛЫЙ</th>\n",
       "      <td>NaN</td>\n",
       "      <td>NaN</td>\n",
       "      <td>NaN</td>\n",
       "      <td>NaN</td>\n",
       "      <td>1.0</td>\n",
       "      <td>NaN</td>\n",
       "      <td>NaN</td>\n",
       "      <td>NaN</td>\n",
       "      <td>NaN</td>\n",
       "    </tr>\n",
       "    <tr>\n",
       "      <th>ЧЕРНО-КРАСНЫЙ</th>\n",
       "      <td>NaN</td>\n",
       "      <td>NaN</td>\n",
       "      <td>NaN</td>\n",
       "      <td>NaN</td>\n",
       "      <td>1.0</td>\n",
       "      <td>NaN</td>\n",
       "      <td>NaN</td>\n",
       "      <td>NaN</td>\n",
       "      <td>NaN</td>\n",
       "    </tr>\n",
       "    <tr>\n",
       "      <th>ЧЕРНЫЙ</th>\n",
       "      <td>NaN</td>\n",
       "      <td>NaN</td>\n",
       "      <td>1.0</td>\n",
       "      <td>12.0</td>\n",
       "      <td>124.0</td>\n",
       "      <td>57.0</td>\n",
       "      <td>223.0</td>\n",
       "      <td>1.0</td>\n",
       "      <td>1.0</td>\n",
       "    </tr>\n",
       "    <tr>\n",
       "      <th>ЧОРНИЙ</th>\n",
       "      <td>14.0</td>\n",
       "      <td>57.0</td>\n",
       "      <td>49.0</td>\n",
       "      <td>6665.0</td>\n",
       "      <td>3288.0</td>\n",
       "      <td>703.0</td>\n",
       "      <td>1548.0</td>\n",
       "      <td>9.0</td>\n",
       "      <td>2.0</td>\n",
       "    </tr>\n",
       "    <tr>\n",
       "      <th>ЧОРНО-СЕРЫЙ</th>\n",
       "      <td>NaN</td>\n",
       "      <td>NaN</td>\n",
       "      <td>NaN</td>\n",
       "      <td>NaN</td>\n",
       "      <td>1.0</td>\n",
       "      <td>NaN</td>\n",
       "      <td>NaN</td>\n",
       "      <td>NaN</td>\n",
       "      <td>NaN</td>\n",
       "    </tr>\n",
       "    <tr>\n",
       "      <th>ЧОРНЫЙ</th>\n",
       "      <td>NaN</td>\n",
       "      <td>NaN</td>\n",
       "      <td>NaN</td>\n",
       "      <td>NaN</td>\n",
       "      <td>1.0</td>\n",
       "      <td>2.0</td>\n",
       "      <td>3.0</td>\n",
       "      <td>NaN</td>\n",
       "      <td>NaN</td>\n",
       "    </tr>\n",
       "    <tr>\n",
       "      <th>ЯРКО-СИНИЙ</th>\n",
       "      <td>NaN</td>\n",
       "      <td>NaN</td>\n",
       "      <td>NaN</td>\n",
       "      <td>NaN</td>\n",
       "      <td>NaN</td>\n",
       "      <td>NaN</td>\n",
       "      <td>1.0</td>\n",
       "      <td>NaN</td>\n",
       "      <td>NaN</td>\n",
       "    </tr>\n",
       "  </tbody>\n",
       "</table>\n",
       "</div>"
      ],
      "text/plain": [
       "cartype        Автобус (мікроавтобус)  Автопричіп  Вантажний автотранспорт  \\\n",
       "color                                                                        \n",
       "ФИОЛЕТОВЫЙ                        NaN         NaN                      NaN   \n",
       "ЧEPHO KPACHЫЙ                     NaN         NaN                      NaN   \n",
       "ЧEPHЫЙ                            NaN         1.0                      NaN   \n",
       "ЧЕPHЫЙ                            NaN         NaN                      NaN   \n",
       "ЧЕРHЫЙ                            NaN         NaN                      NaN   \n",
       "ЧЕРВОНИЙ                         53.0       118.0                    283.0   \n",
       "ЧЕРНО БЕЛЫЙ                       NaN         NaN                      NaN   \n",
       "ЧЕРНО-БЕЛЫЙ                       NaN         NaN                      NaN   \n",
       "ЧЕРНО-КРАСНЫЙ                     NaN         NaN                      NaN   \n",
       "ЧЕРНЫЙ                            NaN         NaN                      1.0   \n",
       "ЧОРНИЙ                           14.0        57.0                     49.0   \n",
       "ЧОРНО-СЕРЫЙ                       NaN         NaN                      NaN   \n",
       "ЧОРНЫЙ                            NaN         NaN                      NaN   \n",
       "ЯРКО-СИНИЙ                        NaN         NaN                      NaN   \n",
       "\n",
       "cartype        Легковий автотранспорт   Мопед  Моторолер  Мотоцикл  Трактор  \\\n",
       "color                                                                         \n",
       "ФИОЛЕТОВЫЙ                        3.0     1.0        NaN       1.0      NaN   \n",
       "ЧEPHO KPACHЫЙ                     NaN     NaN        NaN       1.0      NaN   \n",
       "ЧEPHЫЙ                           13.0     2.0        NaN      61.0      NaN   \n",
       "ЧЕPHЫЙ                            NaN     NaN        NaN       1.0      NaN   \n",
       "ЧЕРHЫЙ                            9.0     NaN        NaN       NaN      NaN   \n",
       "ЧЕРВОНИЙ                       4195.0  2076.0      428.0    2457.0     69.0   \n",
       "ЧЕРНО БЕЛЫЙ                       NaN     NaN        NaN       1.0      NaN   \n",
       "ЧЕРНО-БЕЛЫЙ                       NaN     1.0        NaN       NaN      NaN   \n",
       "ЧЕРНО-КРАСНЫЙ                     NaN     1.0        NaN       NaN      NaN   \n",
       "ЧЕРНЫЙ                           12.0   124.0       57.0     223.0      1.0   \n",
       "ЧОРНИЙ                         6665.0  3288.0      703.0    1548.0      9.0   \n",
       "ЧОРНО-СЕРЫЙ                       NaN     1.0        NaN       NaN      NaN   \n",
       "ЧОРНЫЙ                            NaN     1.0        2.0       3.0      NaN   \n",
       "ЯРКО-СИНИЙ                        NaN     NaN        NaN       1.0      NaN   \n",
       "\n",
       "cartype        Тракторний причіп  \n",
       "color                             \n",
       "ФИОЛЕТОВЫЙ                   NaN  \n",
       "ЧEPHO KPACHЫЙ                NaN  \n",
       "ЧEPHЫЙ                       NaN  \n",
       "ЧЕPHЫЙ                       NaN  \n",
       "ЧЕРHЫЙ                       NaN  \n",
       "ЧЕРВОНИЙ                     6.0  \n",
       "ЧЕРНО БЕЛЫЙ                  NaN  \n",
       "ЧЕРНО-БЕЛЫЙ                  NaN  \n",
       "ЧЕРНО-КРАСНЫЙ                NaN  \n",
       "ЧЕРНЫЙ                       1.0  \n",
       "ЧОРНИЙ                       2.0  \n",
       "ЧОРНО-СЕРЫЙ                  NaN  \n",
       "ЧОРНЫЙ                       NaN  \n",
       "ЯРКО-СИНИЙ                   NaN  "
      ]
     },
     "execution_count": 94,
     "metadata": {},
     "output_type": "execute_result"
    }
   ],
   "source": [
    "color_by_type = stolen_cars.pivot_table(index='color', columns='cartype',  \n",
    "                        values = 'insertdate', aggfunc='count',)\n",
    "color_by_type.tail(14)"
   ]
  },
  {
   "cell_type": "code",
   "execution_count": null,
   "id": "fe1daa4d",
   "metadata": {},
   "outputs": [],
   "source": [
    "import pivottablejs as pv"
   ]
  },
  {
   "cell_type": "code",
   "execution_count": null,
   "id": "aba9a160",
   "metadata": {},
   "outputs": [],
   "source": [
    "pv.pivot_ui(stolen_cars)"
   ]
  },
  {
   "cell_type": "code",
   "execution_count": 95,
   "id": "7aa80cc0",
   "metadata": {
    "slideshow": {
     "slide_type": "subslide"
    }
   },
   "outputs": [
    {
     "data": {
      "text/html": [
       "<style type=\"text/css\">\n",
       "</style>\n",
       "<table id=\"T_f14b1\">\n",
       "  <thead>\n",
       "    <tr>\n",
       "      <th class=\"index_name level0\" >cartype</th>\n",
       "      <th id=\"T_f14b1_level0_col0\" class=\"col_heading level0 col0\" >Автобус (мікроавтобус)</th>\n",
       "      <th id=\"T_f14b1_level0_col1\" class=\"col_heading level0 col1\" >Автопричіп</th>\n",
       "      <th id=\"T_f14b1_level0_col2\" class=\"col_heading level0 col2\" >Вантажний автотранспорт</th>\n",
       "      <th id=\"T_f14b1_level0_col3\" class=\"col_heading level0 col3\" >Легковий автотранспорт</th>\n",
       "      <th id=\"T_f14b1_level0_col4\" class=\"col_heading level0 col4\" >Мопед</th>\n",
       "      <th id=\"T_f14b1_level0_col5\" class=\"col_heading level0 col5\" >Моторолер</th>\n",
       "      <th id=\"T_f14b1_level0_col6\" class=\"col_heading level0 col6\" >Мотоцикл</th>\n",
       "      <th id=\"T_f14b1_level0_col7\" class=\"col_heading level0 col7\" >Трактор</th>\n",
       "      <th id=\"T_f14b1_level0_col8\" class=\"col_heading level0 col8\" >Тракторний причіп</th>\n",
       "    </tr>\n",
       "    <tr>\n",
       "      <th class=\"index_name level0\" >color</th>\n",
       "      <th class=\"blank col0\" >&nbsp;</th>\n",
       "      <th class=\"blank col1\" >&nbsp;</th>\n",
       "      <th class=\"blank col2\" >&nbsp;</th>\n",
       "      <th class=\"blank col3\" >&nbsp;</th>\n",
       "      <th class=\"blank col4\" >&nbsp;</th>\n",
       "      <th class=\"blank col5\" >&nbsp;</th>\n",
       "      <th class=\"blank col6\" >&nbsp;</th>\n",
       "      <th class=\"blank col7\" >&nbsp;</th>\n",
       "      <th class=\"blank col8\" >&nbsp;</th>\n",
       "    </tr>\n",
       "  </thead>\n",
       "  <tbody>\n",
       "    <tr>\n",
       "      <th id=\"T_f14b1_level0_row0\" class=\"row_heading level0 row0\" >ЧЕРНО-БЕЛЫЙ</th>\n",
       "      <td id=\"T_f14b1_row0_col0\" class=\"data row0 col0\" ></td>\n",
       "      <td id=\"T_f14b1_row0_col1\" class=\"data row0 col1\" ></td>\n",
       "      <td id=\"T_f14b1_row0_col2\" class=\"data row0 col2\" ></td>\n",
       "      <td id=\"T_f14b1_row0_col3\" class=\"data row0 col3\" ></td>\n",
       "      <td id=\"T_f14b1_row0_col4\" class=\"data row0 col4\" >1</td>\n",
       "      <td id=\"T_f14b1_row0_col5\" class=\"data row0 col5\" ></td>\n",
       "      <td id=\"T_f14b1_row0_col6\" class=\"data row0 col6\" ></td>\n",
       "      <td id=\"T_f14b1_row0_col7\" class=\"data row0 col7\" ></td>\n",
       "      <td id=\"T_f14b1_row0_col8\" class=\"data row0 col8\" ></td>\n",
       "    </tr>\n",
       "    <tr>\n",
       "      <th id=\"T_f14b1_level0_row1\" class=\"row_heading level0 row1\" >ЧЕРНО-КРАСНЫЙ</th>\n",
       "      <td id=\"T_f14b1_row1_col0\" class=\"data row1 col0\" ></td>\n",
       "      <td id=\"T_f14b1_row1_col1\" class=\"data row1 col1\" ></td>\n",
       "      <td id=\"T_f14b1_row1_col2\" class=\"data row1 col2\" ></td>\n",
       "      <td id=\"T_f14b1_row1_col3\" class=\"data row1 col3\" ></td>\n",
       "      <td id=\"T_f14b1_row1_col4\" class=\"data row1 col4\" >1</td>\n",
       "      <td id=\"T_f14b1_row1_col5\" class=\"data row1 col5\" ></td>\n",
       "      <td id=\"T_f14b1_row1_col6\" class=\"data row1 col6\" ></td>\n",
       "      <td id=\"T_f14b1_row1_col7\" class=\"data row1 col7\" ></td>\n",
       "      <td id=\"T_f14b1_row1_col8\" class=\"data row1 col8\" ></td>\n",
       "    </tr>\n",
       "    <tr>\n",
       "      <th id=\"T_f14b1_level0_row2\" class=\"row_heading level0 row2\" >ЧЕРНЫЙ</th>\n",
       "      <td id=\"T_f14b1_row2_col0\" class=\"data row2 col0\" ></td>\n",
       "      <td id=\"T_f14b1_row2_col1\" class=\"data row2 col1\" ></td>\n",
       "      <td id=\"T_f14b1_row2_col2\" class=\"data row2 col2\" >1</td>\n",
       "      <td id=\"T_f14b1_row2_col3\" class=\"data row2 col3\" >12</td>\n",
       "      <td id=\"T_f14b1_row2_col4\" class=\"data row2 col4\" >124</td>\n",
       "      <td id=\"T_f14b1_row2_col5\" class=\"data row2 col5\" >57</td>\n",
       "      <td id=\"T_f14b1_row2_col6\" class=\"data row2 col6\" >223</td>\n",
       "      <td id=\"T_f14b1_row2_col7\" class=\"data row2 col7\" >1</td>\n",
       "      <td id=\"T_f14b1_row2_col8\" class=\"data row2 col8\" >1</td>\n",
       "    </tr>\n",
       "    <tr>\n",
       "      <th id=\"T_f14b1_level0_row3\" class=\"row_heading level0 row3\" >ЧОРНИЙ</th>\n",
       "      <td id=\"T_f14b1_row3_col0\" class=\"data row3 col0\" >14</td>\n",
       "      <td id=\"T_f14b1_row3_col1\" class=\"data row3 col1\" >57</td>\n",
       "      <td id=\"T_f14b1_row3_col2\" class=\"data row3 col2\" >49</td>\n",
       "      <td id=\"T_f14b1_row3_col3\" class=\"data row3 col3\" >6665</td>\n",
       "      <td id=\"T_f14b1_row3_col4\" class=\"data row3 col4\" >3288</td>\n",
       "      <td id=\"T_f14b1_row3_col5\" class=\"data row3 col5\" >703</td>\n",
       "      <td id=\"T_f14b1_row3_col6\" class=\"data row3 col6\" >1548</td>\n",
       "      <td id=\"T_f14b1_row3_col7\" class=\"data row3 col7\" >9</td>\n",
       "      <td id=\"T_f14b1_row3_col8\" class=\"data row3 col8\" >2</td>\n",
       "    </tr>\n",
       "    <tr>\n",
       "      <th id=\"T_f14b1_level0_row4\" class=\"row_heading level0 row4\" >ЧОРНО-СЕРЫЙ</th>\n",
       "      <td id=\"T_f14b1_row4_col0\" class=\"data row4 col0\" ></td>\n",
       "      <td id=\"T_f14b1_row4_col1\" class=\"data row4 col1\" ></td>\n",
       "      <td id=\"T_f14b1_row4_col2\" class=\"data row4 col2\" ></td>\n",
       "      <td id=\"T_f14b1_row4_col3\" class=\"data row4 col3\" ></td>\n",
       "      <td id=\"T_f14b1_row4_col4\" class=\"data row4 col4\" >1</td>\n",
       "      <td id=\"T_f14b1_row4_col5\" class=\"data row4 col5\" ></td>\n",
       "      <td id=\"T_f14b1_row4_col6\" class=\"data row4 col6\" ></td>\n",
       "      <td id=\"T_f14b1_row4_col7\" class=\"data row4 col7\" ></td>\n",
       "      <td id=\"T_f14b1_row4_col8\" class=\"data row4 col8\" ></td>\n",
       "    </tr>\n",
       "    <tr>\n",
       "      <th id=\"T_f14b1_level0_row5\" class=\"row_heading level0 row5\" >ЧОРНЫЙ</th>\n",
       "      <td id=\"T_f14b1_row5_col0\" class=\"data row5 col0\" ></td>\n",
       "      <td id=\"T_f14b1_row5_col1\" class=\"data row5 col1\" ></td>\n",
       "      <td id=\"T_f14b1_row5_col2\" class=\"data row5 col2\" ></td>\n",
       "      <td id=\"T_f14b1_row5_col3\" class=\"data row5 col3\" ></td>\n",
       "      <td id=\"T_f14b1_row5_col4\" class=\"data row5 col4\" >1</td>\n",
       "      <td id=\"T_f14b1_row5_col5\" class=\"data row5 col5\" >2</td>\n",
       "      <td id=\"T_f14b1_row5_col6\" class=\"data row5 col6\" >3</td>\n",
       "      <td id=\"T_f14b1_row5_col7\" class=\"data row5 col7\" ></td>\n",
       "      <td id=\"T_f14b1_row5_col8\" class=\"data row5 col8\" ></td>\n",
       "    </tr>\n",
       "    <tr>\n",
       "      <th id=\"T_f14b1_level0_row6\" class=\"row_heading level0 row6\" >ЯРКО-СИНИЙ</th>\n",
       "      <td id=\"T_f14b1_row6_col0\" class=\"data row6 col0\" ></td>\n",
       "      <td id=\"T_f14b1_row6_col1\" class=\"data row6 col1\" ></td>\n",
       "      <td id=\"T_f14b1_row6_col2\" class=\"data row6 col2\" ></td>\n",
       "      <td id=\"T_f14b1_row6_col3\" class=\"data row6 col3\" ></td>\n",
       "      <td id=\"T_f14b1_row6_col4\" class=\"data row6 col4\" ></td>\n",
       "      <td id=\"T_f14b1_row6_col5\" class=\"data row6 col5\" ></td>\n",
       "      <td id=\"T_f14b1_row6_col6\" class=\"data row6 col6\" >1</td>\n",
       "      <td id=\"T_f14b1_row6_col7\" class=\"data row6 col7\" ></td>\n",
       "      <td id=\"T_f14b1_row6_col8\" class=\"data row6 col8\" ></td>\n",
       "    </tr>\n",
       "  </tbody>\n",
       "</table>\n"
      ],
      "text/plain": [
       "<pandas.io.formats.style.Styler at 0x123f6f790>"
      ]
     },
     "execution_count": 95,
     "metadata": {},
     "output_type": "execute_result"
    }
   ],
   "source": [
    "# деяка стилізація та форматування табліць\n",
    "# https://pandas.pydata.org/pandas-docs/stable/user_guide/style.html\n",
    "color_by_type.tail(7).style.format(\"{:.0f}\", na_rep = \"\")"
   ]
  },
  {
   "cell_type": "code",
   "execution_count": null,
   "id": "fadeb5e2",
   "metadata": {
    "slideshow": {
     "slide_type": "slide"
    }
   },
   "outputs": [],
   "source": [
    "pd.crosstab?"
   ]
  },
  {
   "cell_type": "markdown",
   "id": "ac123fd9",
   "metadata": {
    "slideshow": {
     "slide_type": "slide"
    }
   },
   "source": [
    "# ПИТАННЯ ? "
   ]
  }
 ],
 "metadata": {
  "celltoolbar": "Slideshow",
  "kernelspec": {
   "display_name": "Python 3 (ipykernel)",
   "language": "python",
   "name": "python3"
  },
  "language_info": {
   "codemirror_mode": {
    "name": "ipython",
    "version": 3
   },
   "file_extension": ".py",
   "mimetype": "text/x-python",
   "name": "python",
   "nbconvert_exporter": "python",
   "pygments_lexer": "ipython3",
   "version": "3.11.0"
  },
  "varInspector": {
   "cols": {
    "lenName": 16,
    "lenType": 16,
    "lenVar": 40
   },
   "kernels_config": {
    "python": {
     "delete_cmd_postfix": "",
     "delete_cmd_prefix": "del ",
     "library": "var_list.py",
     "varRefreshCmd": "print(var_dic_list())"
    },
    "r": {
     "delete_cmd_postfix": ") ",
     "delete_cmd_prefix": "rm(",
     "library": "var_list.r",
     "varRefreshCmd": "cat(var_dic_list()) "
    }
   },
   "types_to_exclude": [
    "module",
    "function",
    "builtin_function_or_method",
    "instance",
    "_Feature"
   ],
   "window_display": false
  }
 },
 "nbformat": 4,
 "nbformat_minor": 5
}
